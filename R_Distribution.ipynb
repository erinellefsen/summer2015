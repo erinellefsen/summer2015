{
 "cells": [
  {
   "cell_type": "code",
<<<<<<< HEAD
   "execution_count": 6,
=======
   "execution_count": 29,
>>>>>>> 65960d2e606a386cb415fc15bb596f042ccbc2c2
   "metadata": {
    "collapsed": false
   },
   "outputs": [],
   "source": [
    "import graph\n",
    "import disease\n",
    "import pandas as pd\n",
    "import matplotlib.pyplot as plt \n",
    "import pylab as pl\n",
    "import numpy as np\n",
    "import collections\n",
    "%matplotlib inline"
   ]
  },
  {
   "cell_type": "code",
<<<<<<< HEAD
<<<<<<< HEAD
   "execution_count": 7,
=======
   "execution_count": 2,
=======
   "execution_count": 38,
   "metadata": {
    "collapsed": false
   },
   "outputs": [],
   "source": [
    "for i in range(4):\n",
    "    trials = 750\n",
    "    dist = {}\n",
    "    connectionLst = []\n",
    "    for x in range(trials):\n",
    "        g = graph.Graph(8, .1, 0, 1*.25)   #k,p,r,%infected,%vaccinated\n",
    "        g.makeVertices(1000)         #of people\n",
    "        g.makeConnections(.005)         #prob they are connected\n",
    "        r = g.calculateR(True)\n",
    "    #print(r)\n",
    "        if r not in dist: #problem with float equality    \n",
    "            dist[r]=1\n",
    "        else:\n",
    "            dist[r] += 1\n",
    "\n",
    "\n",
    "#for vert in g.getVertices():\n",
    "#    x =len(vert.getConnections())  \n",
    "#    connectionLst.append(x)\n",
    "    \n",
    "#sum(connectionLst)/250.0"
   ]
  },
  {
   "cell_type": "code",
   "execution_count": 66,
>>>>>>> 65960d2e606a386cb415fc15bb596f042ccbc2c2
   "metadata": {
    "collapsed": true
   },
   "outputs": [],
   "source": [
    "def makeRanges(d,numColumns):\n",
    "    res = {}\n",
    "    keys = d.keys()\n",
    "    mini = keys[0]\n",
    "    maxi = keys[len(d)-1]\n",
    "    diff = maxi - mini\n",
    "    stepSize = diff/numColumns\n",
    "    \n",
    "    currentRange = mini+stepSize\n",
    "    k = mini\n",
    "    acc = 0\n",
    "    for k,v in d.iteritems():\n",
    "        \n",
    "        if k < currentRange:\n",
    "            acc +=v\n",
    "        else:\n",
    "            \n",
    "            res[\"%.3f\" %(currentRange)] = acc\n",
    "            currentRange += stepSize\n",
    "            acc =0\n",
    "    return collections.OrderedDict(sorted(res.items()))\n",
    "\n",
    "def distGraph(dist, save=False):\n",
    "    '''\n",
    "    Given a distribution dictionary, this function graphs the distribution\n",
    "    Include a save option later\n",
    "    '''\n",
    "    d = collections.OrderedDict(sorted(dist.items()))\n",
    "    newD = makeRanges(d,20)\n",
    "    df = pd.DataFrame.from_dict(newD,orient=\"index\")\n",
<<<<<<< HEAD
    "    df.plot(kind=\"bar\",title=\"Distribution Graph with Range\",legend=False)"
   ]
  },
  {
   "cell_type": "code",
   "execution_count": 3,
>>>>>>> 51f20ee929ed2b9202c4f3ffb3d9a5e27ccd8ad0
   "metadata": {
    "collapsed": false
   },
   "outputs": [],
   "source": [
    "trials = 50\n",
    "dist = {}\n",
    "connectionLst = []\n",
    "for x in range(trials):\n",
    "\n",
    "    g = graph.Graph(8, .9, 0, 0)   #k,p,r,%infected,%vaccinated\n",
    "    g.makeVertices(250)         #of people\n",
    "    g.makeConnections(.01)         #prob they are connected\n",
    "    r = g.calculateR(True)\n",
    "    #print(r)\n",
    "    if r not in dist: #problem with float equality\n",
    "        dist[r]=1\n",
    "    else:\n",
    "        dist[r] += 1\n",
    "\n",
=======
    "    #df.plot(kind=\"bar\",title=\"Distribution Graph with Range\",legend=False)\n",
    "    plt.suptitle(\"Distribution of Basic Reproductive Number\",fontsize=14)\n",
>>>>>>> 65960d2e606a386cb415fc15bb596f042ccbc2c2
    "\n",
    "    #plt.summer()\n",
    "    plt.plot(df)\n",
    "    print(df)\n",
    "    if save:\n",
    "        #fig = pyplot.get_figure()\n",
    "        #fig = plt.figure()\n",
    "        plt.savefig('graphDir/newoutput.pdf')"
   ]
  },
  {
   "cell_type": "code",
<<<<<<< HEAD
<<<<<<< HEAD
   "execution_count": 8,
=======
   "execution_count": 4,
=======
   "execution_count": 67,
>>>>>>> 65960d2e606a386cb415fc15bb596f042ccbc2c2
   "metadata": {
    "collapsed": false
   },
   "outputs": [
    {
     "name": "stdout",
     "output_type": "stream",
     "text": [
      "        0\n",
      "4.578   1\n",
      "4.620   0\n",
      "4.663   1\n",
      "4.705   7\n",
      "4.747  13\n",
      "4.789  22\n",
      "4.831  34\n",
      "4.874  47\n",
      "4.916  67\n",
      "4.958  84\n",
      "5.000  89\n",
      "5.042  73\n",
      "5.085  71\n",
      "5.127  60\n",
      "5.169  45\n",
      "5.211  27\n",
      "5.253  18\n",
      "5.296   8\n",
      "5.338   6\n",
      "5.380   1\n"
     ]
    },
    {
     "data": {
      "image/png": "iVBORw0KGgoAAAANSUhEUgAAAXIAAAESCAYAAADg0F5TAAAABHNCSVQICAgIfAhkiAAAAAlwSFlz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\ngg==\n",
      "text/plain": [
       "<matplotlib.figure.Figure at 0x42eded0>"
      ]
     },
     "metadata": {},
     "output_type": "display_data"
    }
   ],
   "source": [
    "distGraph(dist,save=True)"
   ]
  },
  {
   "cell_type": "code",
   "execution_count": 27,
   "metadata": {
    "collapsed": false
   },
   "outputs": [],
   "source": [
    "frame = pd.DataFrame.from_dict(dist,orient=\"index\")\n",
    "\n"
   ]
  },
  {
   "cell_type": "code",
   "execution_count": 28,
   "metadata": {
    "collapsed": false
   },
   "outputs": [
    {
     "data": {
      "text/plain": [
       "<matplotlib.axes.AxesSubplot at 0x4d6fe90>"
      ]
     },
     "execution_count": 28,
     "metadata": {},
     "output_type": "execute_result"
    },
    {
     "data": {
      "image/png": "iVBORw0KGgoAAAANSUhEUgAAAXAAAAFFCAYAAAD1rrYhAAAABHNCSVQICAgIfAhkiAAAAAlwSFlz\nAAALEgAACxIB0t1+/AAAIABJREFUeJzsnXu8XVV1779JTngEwisoICApCIJUQItoReWorddXVbRW\n22qv9ra1T6XXWrVqVW6vrdoH1qK9LQqiglZFJOADEY4i8iYJCQlJIAl5AHmR5OR9nveP35id86yz\n195r7b324yTj9/mczxl77THHHHOMMeeac8y51gaHw+FwOBwOh8PhcDgcDofD4XA4HA6Hw+FwOBwO\nh8PhcDgcjpr4MrABWJRcuwC4B5gP3Au8oAt6ORwOh6MBXgo8j4kD+ADwP4x+DXBbh3VyOBwOBzC9\nwfe3A1sz154AjjT6KGB91Uo5HA6HoxrMZeIM/BRgLbAGWAec3AWdHA6Hw1EAc5k4gN8CXGz0W4Ef\nd1ohh8PhcMC0AjxzgXnAc+3zIHBEUn4bMaWS4hHgtBb1czgcjgMNC4HzqhI2l4kz8AeAi4x+JTqJ\nUgvjCf0JpztO94oeTneWHoePjxP7X7f1cbo8nY6dddHX4Ptr0WB9LMp7/y3wR8DlwMHAHvvcCHOd\n7jjdK3o43XF6NY15nJ4CdEM0GsB/O+f6C8tU4nA4HI7qMaONsj8BfNLobcRpgdOdoXtFD6c7S38C\nLgO+Aup/3dbH6fL0u4hjZ9dQOI/jcDgqwziMpzlwx9RDYd81epCnKvQ73XG6V/RwuuP0AI15pjw9\niAa6qfz3VIM2NkSnBnCHw+GoErPRMeZpwMunKH105VapEL6Eczg6jwMlhbI/tC+vDT2XQnE4HA5H\nxfAc+P5L94oeTnecHqAxz5SnKcAz1emG8Bm4w+FwOCZhf8hRORxTDQdwDryvzSdT+gYL6nYM8F1g\nJzrfnfdAZMs58HaiJ5RwOA4wHMADeGh7u/4K2/Ra+5sFXIgeznlOwTbUu95RpEr0O91xulf0cLqz\n9Djclg423danXXSt8aUTA3gj3Q4DhoBnJde/Avx9Df48H/kpFIfD4egCzgBG0eu0AxYCZ3dHnebR\nE8sAh+MAg6dQuptCeSn62ckUf0jt3w72c+AOh8PRQ9hJ/MGbgCOBHe2orFMDeL/THad7RQ+nO04P\n0JhnytMUuN4O9DeglwMzmZgDPxdYXKBslm4In4E7HA5HddgF3A5cik6hPBf4DeCr3VDmy8AGJv6k\nGsBfAEvRXeXTOWX39xycw9GL8Bx4948RHs3Ec+BvL9GGetdL46XA85g4gL8c/RL9TPv8tHYr4XA4\nCuMAHsB75kGeFtpQ93pTmMvEAfy/gFcUKOfnwLtL94oeTneWPpDPgU81uivnwE8HXgbchXZLzm9C\nhsPhcDg6gLlMnIEvAj5n9AuAlTnl9vclnMPRiziAUyhTDi2nUBr9Kn0trAOuM/peYAyYA2ypwXsV\nE3+scwHxjFO//ffP/tk/V/c5RX8P6NOuz+Far+jT7OdAv8vo1VSMuUycgb+H+IvJZwBrcsrtDzmq\nqUz3ih5Od5b2HPjUoVvOgTeagV8LXIRm2GuBv0VHC7+MBvUh4PeKVuZwOByOqYH9IUflcEw1eA58\n6qArOXCHw+HoNrYy9Qfxrd1WoB72hxzVVKZ7RQ+nO0sfKDnw/Zn2txE6HA6Ho3lM9eWNwzEVcaDk\nwPdn+Azc4XA49nd0agDvd7rjdK/o4XTH6QEa8zg9BeiG8Bm4w+FwOCbBc3AOR+fhOfCpD8+BOxwO\nx/4Oz4Hvv3Sv6OF0x+kBGvM4PQXohvAZuMPhcDgmwXNwDkfn4TnwqQ/PgTscDsf+Ds+B7790r+jh\ndMfpARrzOD0F6IbwGbjD4XA4JsFzcA5H5+E58KmPynLgXwY2MPEn1QLej34P85jiejkcDoejKjQa\nwK8EXl3j+snArwOPFayn3+mO072ih9MdpwdozOP0FKAbotEAfju1fzXin4G/LlORw+FwODqPuUxM\nobwR+BejV5GfQvEcnMPReXgOfOqjbb+JOQv4G5Q+CZhWUobD4XA4KkDZAfw0NCNfaJ9PAu4HLgA2\n1uC/ClhtZRbYHyhJ1w+cB1xm1y6x78N3KZy/PH+v6+f87eEnyYH3F+DvNf0PRP5L7Lu2YC61T6FA\n8RRKv9Mdp3tFD6c7S/uPGk99urL017XA48A+YC3w7sz3K/EcuMPRS/Ac+NRHT/iuJ5RwOA4w+AA+\n9dFzL7Pqd7rjdK/o4XTH6QEa8zg9BeiG6NQA7nA4HI4pBF/CORydh6dQpj56LoXicDgcjorhOfD9\nl+4VPZzuOD1AYx6npwDdED4DdzgcDsckeA7O4eg8PAc+9eE5cIfD4djf4Tnw/ZfuFT2c7jg9QGMe\np6cA3RA+A3c4HA7HJHgOzuHoPDwHPvXhOXCHw+HY3+E58P2X7hU9nO44PUBjHqenAN0QPgN3OBwO\nxyR4Ds7h6Dw8Bz714Tlwh8Ph2N9RZAD/MrCBiT+r9llgKfptzOuAIxvI6He643Sv6OF0x+kBGvM4\nPQXohigygF8JvDpz7WbgbOBcYDnw4TKVOhwOh6NzmEv+DxtfDHytxnXPwTkcnYfnwKc+OpoD/33g\n+xXIcTgcDkcJ9LVY/iPAEHBNzvdXAavRDH6B/YGSdP3AecBldu0S+z58l8L5y/P3sH59gzA6E8Zf\n0xv6pPx9N8DYDBh7XW/oU5qfJAfeX4C/1/Q/APj7BmFkNkzfDWOHWdnzaCPmMjmF8i7gDuCQnDLp\nMqDf6Y7TvaJHLTq7xO+2PlNFtyL0ONyWtqHb+jg9mW7ko8rTX3OZOIC/GngIOLZOGc/BOfLQyzna\nXtatCDwH3vto5KNKfXct8DhKlaxFOe8VwGPAfPv7QruVcOxX6OUBppd1KwIfwHsfHR3Am8VUXobu\nD3Sv6FGL7uU0RS/rVoT2FErv05WlUKYXZXQ4HA7HgYOeWAY4ehK9vMTvZd2KwFMovY/KUig+A3c4\nHI4pik4N4P1Od5zuFT3yaArwdIumAE8P0wM05nG6u/QAjXkaw2fgDofD4ZgEz8E58tDLOdpe1q0I\nPAfe+/AcuMPhcBzo8Bz4/kv3ih55NAV4ukVTgKeH6QEa8zjdXXqAxjyN0erLrBwOR88ivDSpbweM\nHNFtbRxTC56Dc+Shl3O0vaxbEaT5Vc+H9yY8B+5wOBwHOjwHvv/SvaJHHk0Bnm7RFODpYXqA2nQv\n6Oa0MEBjnsbwGbjD4XA4JsHzbo489HJetpd1KwLPgfc+PAfucDgcBzoaDeBfBjYw8dd4jgF+DCwH\nbgaOKlBPv9Mdp3tFjzyaAjzdoinA08P0ALXpXtDNaWGAxjyN0WgAvxL9fFqKD6EB/AzgJ/bZ4XA4\nHD2IuUycgT8MHGf08fa5Fjzv5shDL+dle1m3IvAceO+jqznw41BaBft/XB1eh8PhcLQJrW5iFr27\n9zvdcbpX9MijKcDTLZoCPD1MD1Cb7gXdnBYGaMzTGM28C2UDSp08CZwAbKzDexWwGqVhzgMWJN/1\n27WB+M6G6bth7LDke2rzg9Ekn5vkn34TTB+FkTe0R37X+HtMv+m7YHw6jB+akdElfXL50+8L8Pfd\nkMTu6yL79F0wNit5D0mn9c+igPzpNyU6l+wPXWvvFOVPh0LOA95FmzCXiTnwzwAfNPpDwD/klCuT\nd+tmrs5zhJ1BaudetnlZ3fJit1sx3UoOvBWdPd9eHJXlwBvhWuBxYAhYC7wbHSO8hcbHCH0Ad6Tw\nAbwz8AG899GxAbwVpEr0N6DH4ba0QY34q6S7VW+76V7RI9D1BvBu65bSZXXLi91uxXRab1kdWtG5\nm314qtGNbOVPYjocDoejeXgKxZHCUyidgadQeh+VpVB8Bu5wOBxTFJ0awPsb0wMl+SvNFXej3nbT\nvaJHVqda6JY+eTQFeBJ6IIc/73q76bTesjqU5e+F9k5FeoDGPI3hM3CHw+FwTILnwB0pPAfeGXgO\nvPfhOXCHw+E40OE58InoZL3tpntFj6xOtdAtffJoCvAk9EAOf951z4E7PUBjnsbwGbjD4XA4JqGD\nOfC+Qf1l6aJ191Lerqz+pdtbUdnS8Bx4Z+A58J5E3yAwHv9XkwOfVoVqdZQoKn88YW9Gp9DgaRm6\nbNleQCf172TbW/FRJ9GE/WvGbqsx3SzGJ3a9Ujq0onO32jtVUMYvhcfO/SUH3kK9pfnbTZfVJ4+/\nXfW1Queh3fWWpSnAk9ADOfx51z0HfmDSA9SmPQfucDgcBxw8hdJ7y3lPoXQXnkLxFEo7MKVTKA6H\nw+GoGJ4DL8/fbrqsPnn87aqvFToP7a63LE0BnoQeyOHPu95zudacsp4Dr5YeoDbdnRz4h4GH0M+t\nXQMc3IIsh8PhcHQIc4GVxEH7m8D/zPB08l0orZwx7rWzq53Uv5Nt93PgnYGfA+9NlPFLYRs286v0\nAIPAMDALGLX/65uU5XA4HI4m0GwK5Sngn4A16EePt6EfOs5Df2N6oCS/58Ab8LervlboPLS73rI0\nBXgSeiCHP+96z+Vac8p6DrxaeoDadOdz4KcBl6BUyjOAw4HfbVKWw+FwOJpAsymU84FfAFvs83XA\ni4GvZ/iuAlYbfR6wgHjr6a8jfyD5vh5/PxNvZf05dJZ/oMb3/TD9Jpg+CiNH1OEvok8r/Ol3rfC3\nq76BJvlroQ7/9F36P3ZYm/TJ48/SBfj7088DNfha0acsP7WbUVR+YJu+C8ZmQd+Ogv2hFurxF9Rn\nv+FvhKvs/+qC/C3hXGAxcCg6cP4V4M8yPFNxE7MXNmF8E7M4Tzvgm5id3wA9ENCWTcxmUygLgauB\n+4AH7dp/1OHvb0wPlOQvlCtqd9l20GV1yONvV32t0Hkowt8OfSqqdyCHP+96u+m03rI6VFW2a/2n\nh+kBatOl+8t/o9kUCsBn7M/hcDgcXYC/C6X33tHRiv7trqsVlLVzt3zRhP1rxm633g1S5p0b7Srr\n70KZjDK2LTx2NptCcTgcDkeX0akBvL8xPVCS33PgDfjbVV8rdB6K8LdDn4rqHcjhz7vec7nWNpTt\nhZxzr9ED1Kabz4H7DNzhcDimKDwH7jnwZsu2UpfnwNsHz4H3JjwH7nA4HI4Iz4G3VrYddFkd8vjb\nVV8rdB6K8LdDn4rqHcjhz7vec7nWNpTthZxzr9ED1KY9B+5wOByOCnEAP0rfN6i/pvi79Ch9WZ1b\nqauTj9KXblcPPErfN6hyTfljCj5K31J72yCnLWjLo/S+idmeTcxO6lDVJma7Nw27tYnZbnu2YxOz\nqrJMkU3MqjZAe3kjdUpvYvY3pgdK8vd0DryTOuTxd6LusnTZuqrSp6yckvwDOfx519vdH9KyZeVU\nVbaT7Z0qefgBatOeA3c4HI4DDp5C8RRKs/W2u65e8EVBfk+h0L32tkNOOzClUygOh8PhqBieA2+t\nbBGZ7dYhj78TdZely9ZVlT5l5ZTkH8jhz7vuOfBqy3oO3OFwOBwHEI4Cvg0sBZYAL8p8X8VZ2hLl\ne+kceEd16Jbd2l1XL/iiIH/lP6lWVdmycqoqWxat9v+q5bQDZWxbWP9WfpHnc8D3gd80OYfVZ3c4\nHA5HL+BIYGUDnvQu0t+AHofb0jtSI/4snTe7a3fZIjLbrUMef5Hy9WbFReouQ5etqyp9ysppgr9m\n7LYS01WVLSunqrKt6Fy2bDvktIMuY9vCM/Bmc+C/BGwCrgQeAP4TmNWkLIfD4XB0EOcDw8AL7PNl\nwKUZniryiCXKew68CbSj7VXV1Qu+KMjvOfAm+Ksq2w457UAZ2xbWv9kc+Dr7u9c+fxv4UA2+q4DV\nRm8DFhDPz/Tb/4EJ/yIy3zf8nF4rU75W2Wbqz9OnLH/Z+svy55XPogb/9Jtg+iiMHNFEfXl1FOUv\nW1/4XKB83yCMzYCx1xXnH5kN03fDWLaOgfgxkBP4D0t46+ifiCnE34w/G5WfoEOj8mX5M58nlC1R\nvu+GOr5oUH76TTA2C/p2wMgbyunbTPwn5GRbvcvo1XQIPwPOMPoTwKcz31eRRyxK583u2l22iMx2\n65DHX6R8vVlxI/6i+nWjrrJymtCtYT6zTM6znvwi/O2ot1s6t1K2kzq3U8+2z8AB/gL4OnAQ8Cjw\n7hZkORwOh6Mk/F0orZUtIrPdOrSic9l6p0pdZeU0oVsa3jVjtwhPEfn+LpTiZemgzmVRRs/CY+f0\nSlRzOBwOR8fRqQG8vzE9UJK/4aZNJ8oWkdluHfL421V3WfndqqusnDzk8A9Qmy7L047+UFW9rZRt\nRedutbetOXCa0LMhfAbucDgcUxSeA/cceJl6p0pdZeV4Drzasp4Dr18XngN3OByOAxyeA2+tbBGZ\n7dYhj79ddZeV3626ysrJQw7/ALXpXsjNVlVvK2U9B16/rkL1NoTPwB0Oh2OKwnPgngMvU+9Uqaus\nHM+BV1vWc+D168Jz4D2HvkH99TraoedUaXu70TcIjLstetkO7dCtFZm9a6vxhO5vQI/vB+9C6ZYO\nefx5ZfLqSukiZYtcL1Jv2brK0m3SreZ7LYrQBXXu+rtBulW2CH8r9baiZyv6l4mNNP7qwmfgDofD\nMUXhOfDWyvaCDlXVVUROHk/Zsq3UVRZt0i0N71L0gZADb6Vsu9vbip5FdChbby0dCo+dPgN3OByO\nKYpODeD9jemBkvwtnS+uqmwv6JDH30x9ZcsWuV6k3rJ1laXL1lWAf4Dm6Xb3h6rq7VbZdre3LH9V\n+ufVm1u2IXwG7nA4HFMUngP3HHiZej0H/t/8ngNvU1nPgXcwBz4DmA/Ma1GOw+FwOEqi1QH8fcAS\nGp9b7G9MD5Tk74n8cy/okMffTH1lyxa5XqTesnWVpcvWVYB/gObpXssJ91pZz4EXRSsD+EnAa4Er\naP9jqA6Hw+GoEN8CngdcRO0USuGnicQ7nj6NVBZp2bJyWinbCzpUVVcROXk8Zcu2UldZtEm3/47X\nsnRBnZvuD1XV262yZVG23lb0LCKzbL21yhbWp9kZ+OuBjSj/7bNvh8Ph6AL6miz3YuANKIVyCHAE\ncDXwexm+q4DVwFxggf0BDMD0XTA2C/p2wAhwWVquPyNnwK6dlzBeYvIGcsr1w7QfwIxhGDliIv/0\nXWIZe11+ndP2wLQxGDssX58J8muhH6bfBNNHYeQN5fXP48/VP+VPPvcNwuhMGH9NfnsnIdWvFm+2\nvnCtFv9ATh0F+Sfon/BPv0n//9tHteyV1FWXP+hTiw51JvyXZb6uRV+WQxeJ7zL8fYMwMhum74ax\nPH0y8vP8m6d/3XgYmMzfSP/K+j+N21ulffL0aag/+fb5b/oquoAiKZT+GvR4hS+VKZIWKMtfRJ92\ny2mFP/1cVs+8uvN4ypatir8dcgrK7KmXWbWj3naXrar/F5FTlX2K6FBWz1pl0/hrOy4CbqhxvZES\n4w3yQGVQdFAqw19En3bLaTd/K3KKXC+iQyv87ZBTUGZP5cDbUW+7y1bV/4vIqco+RXQoq2etsoX1\naTaFkuKn9udwOByODqKVY4Rl0F+bHqA2XXopU1aHsmil3lbktMJftEwrdRe5XkSHVvjbIaeAzAGa\np4vEdCv8VdXb7rKt1FVWTh5PK/WW9VdpHRqiUwO4w+FwOCpGN9+FMj6R5b/pKt9DktJl+fPKdlJO\nu/lbkVPkehEdWuFvh5yCMmvGbhG6He8GKaJPr70Lpar+X0ROVfYposOUeheKw+FwOLoEz4GXL9tJ\nOa3wFy3TSt1FrhfRoRX+dsgpIHOA5mnPgbdel+fAwWfgDofDMWXhOXDPgTcrp8j1Ijq0wu858OL6\neA7cc+AOh8Ph6BV4Drx82YrkTN+ldzRUWe8kmQXKNFt332B8J0te2bo8TfIXqXcS3aDewjwJPUBz\ndN8gMJ74qb/29Ub8ZfVpRU5ZnbN01f2/mXrzeAJd1D6N2lJPTiMdJslvCJ+Bdw1js/SCnV6XmYeR\n2aqvVZ52y+w1jMyG25jsp7LXq6q3lbJV6VaVPr0gs7M28Rx493Lg7a63Kj3bXW8rek7FHHhKV5Wn\nLatPFXnaduncjpx/VfYpq0+ztvIcuMPhcOzv8Bx4+bJVyelEvc2UqaLudvMXkVNEZlmehB6gGrqq\ns8qt1NuKDu2oqx3n3ovwl9Wh7WfRG8Jn4A6HwzFF4Tlwz4F3u95W9PQceHP6eA7cc+AOh8Ph6CZa\nGcBPRudlHgIWA++tw9tfmx6gNu058IrqbaZMFXW3m7+InCIyy/Ik9ADV0J4DL87vOfAsWvlFnmHg\nL9EPfx4O3A/8GFjagkyHw+FwdAHXA69MPo/nMcbvD+jfxGx3vVXp2e56W9GzFZ3L8mT4m/5NzLxY\nL8vfij6tyGm3zkXQDj3L6lC2LWXqLaxDVTnwucDzgLsrkudwOByOBqhiAD8c+DbwPmBn5rurgE/Y\n/0vsHRbj8T0BlyWsgQ7vEpi+C+WD+u2Lfpi2J3nHwCVMzhf159Co7KR3aNThn8SX/jXiz5E/Qf+S\n/KX170c2KsqfoG9Q9dGfvHukDv8kmf3F+ZuSn6WRjGl7RKf65/EXsU8ar/VidyCHrhXfE3j6J9ZZ\nir+fCfqX1Sf0nwn9rQ5/zf5ZgD/Vu2z/n8DfT7n2luXP6pyOL/2ZPwrGQ8Kf5alJD9HcCqBpzAR+\nxOSOQEaR/njttmTp0JBOyxK/r3u9HXRaVyfrbYVOdT0Q6m2TnqXitZX4bqY/lCnbSr2dbGM7bNVK\nXa3YvFUdGqKVc+DTgK8AW9BmZhbjNeSPT7zckK53XjfvejvoPLS73qp0PhDqbZOepeK1LN0L58B7\nrY1VyWn3OfBe0KGlFMqFwDuAlwPz7e/VLchzOBwOR48gXQb0x2ueQukQnep6INTbJj17Kr2Q8pct\n20q9nWxjO2zVSl2t2LxVHRqiqlMoDofD4egwWsmBN8J4DfnjEy83pD0HXo3OB0K9bdKzVLyWpT0H\n7jnwVnTwGbjD4XBMVXRqAO+P5ADl6NzzwXnX24H+HLrX0X+A1VsW/Y1ZBtpM98K7UMqW7VZdvfYu\nlLbr0BA+A3c4HI4pCs+Bew58f6nXc+CeA6+qXs+BOxwOh6O98Bx4MfTn0L2O/gOs3rLob8wy0Gba\nc+Dtk7P/58BbeR940SoGYWQ29O2AkSbKT78Jpo/CyBHFrrcDaV2drLcV9A3C2AwYO+zAqLcsekHP\nsn0j5Yfm+1WrfbIbdbViq1bsA83bvP127kQOvNW8Vy/kS50+YOm25oeddjqP9hy4w+Fw7M/o0AA+\n0ALtcHQTA0473SW6MXwG7nA4HFMUngN32mnPgTvde7TnwB0Oh2N/RisD+KuBh4EVwAfrsw60QDsc\n3cSA0053iW6MZgfwGcC/oUH8OcBvA2flsy9ogXY4uolWYtdpp9s79jU7gF8APAKsBoaBbwBvzGff\n1gLtcHQTrcSu0063d+xrdgA/EVibfF5n1xwOh8PRITQ7gI83ZkmxugXa4egmVjvtdJfoxmj2GOGL\ngE8Qf4X+w8AY8OmEZwFwbpPyHQ6H40DFQuC8dlbQBzwKzAUOQoN1nU1Mh8PhcPQSXgMsQ5uZH+6y\nLg6Hw+FwOBwOh8PhcDgc+wnOAi4GDs9cfzXwdOBI4B+ArwG/k+H5QubznIS+OqGfnuF7kckFmAVc\nCtyINluPrMFfC3OAg4H/afoD/C5wOfBnwMwScvL0rJo/iyL2zZYP/N/qAv81tBYrebZ4OjEm5lAs\nJur5/pCEfzZwPnBMUlcWZwGvrNOuRiga9ynKtrdRvWX530B9f1Xt61Ziox1yAsrydwVpo28AnmbX\nPwuMAjvRT1P8XxTor7RrO4FbgMeAXeg0+2rk3BuARSbnZ+jBoV3AbuAeo38BbDE5LzI5Q/Z3vpW9\nGliMcvdfATbX4N8KvNz4vwIMohz/HvvbZX93An8M/AjY0EDOK0zOSuN9sGL+84Htpuca4DfMtt8w\n+95ew757gZ+iAehdwD4rvx641tr1CPBFYKPp8kPj/1XzwXp0/v8fgSvMR/9ag//t6ITSiOnxdtNv\nHvBkDf7PGn/RWEnbcn7SlnVmi28AnwPOQDEV/h4xWd9jckx8Cfi52XUbirWs7++yuoaBd5vtf2rt\nebiGzzZbvdejZyhuqdGuPB+Xjfu07EpifOS1t6pY/IDp9YRdX4n6zQNWPuuvqnz9JDDf6vsBsKoG\n/7uoHefXIp/uBN5meg8hv6+vIScv/j+HYiYbPyEWw/+volj/uvlvJ/DLwG3Gfy/wPLqE69AAfjFy\n/HdQo3cBy41nzP62IIMOIeeNIydPQ4POdmApsAMZ8xCjB1HAjCVlh4CnjB6z+i5Gwb7Fyo5bfasy\n9ebx70KbtNj1pej0TVbOcIF6h0rUW5Z/AAXBDcCtVn638Y+i4MvadxUacO4w3tDOcSvzuJXZZe0L\n9r0D2GQ+mJfwb7T/O2rwD6IB62jjH7PP+xL7pfxlYyVty1Nmi1S3ICO0ZQx1vtDeWjGRyt+DBq6s\n78MEYdiuj1A8JvLalcffStyncVy2DzQTuzuBK02v7Wa/UTRAZf1Vla8Hjd5rMu6twV8vztM+shW9\nGmTE+LNy6sX/7ho670bxk9b7hPEF/pGE/5XohtIVLEzopcDHUKP3oDskwPtRQN6BGr4AGWiY+GDR\nQrv+LuTMrcZ/H7qL3QL8k8lZl8gOHSvg22jwvwPNAnYB5wBLkJOz/EuRcbM670az96ORs3eanAXA\nQw3krEUOP8fkLaqY/z7T7+uog29BM7RN6EVjF9Ww79LEvmNohoPZcofVvRT5YZXRMzP8fcab8i+q\nww/y/W7UGVZZ+xrxN4qVbFt2mh0ut7o2mbxXWNktwO9b2TCTzcbEsOmDyVjIZN8vJPp+O5pVBZ8F\nu6U+e4jos79FPs62q56Py8R9WvapxJ557a0qFpeYbn+a4S8Se634egWafYeBsb9BXWmc5/lrmPhi\nklpysvGfbW+In12JnMdz+NcwEYVfiFL162QPSmR+AXgZWkrMAE5Hg8kRwM3I2LNRYw5DA+bfWtmj\n0MB9FVqOHGxynmnl/x3lyDaiJdcJaDZwGLqLvdnkXImMeTpwJsoB3gk8Cw14Wf6bjefnKBCeC1yC\nlmhnIEeslae1AAAgAElEQVT/GN1FrwfORp2rnpyD7bvPWb1bKuZ/pum61Wx1J/AW+3622Sdr35uB\nX0KBsxY41nyzCXXqj5nMQ43/C8D3jX/QfPA/kL9vM/7dxP2GlH+78Qff/wClGE4ATqvBvxENlkVj\nJW3LtSj+Pos62A/MDiuBj6JZ4n8Cf4U60zOsjdmY2Gl2eAUalM5msu/PMt/MQZ1xHXCZyRmq4bN9\nKGXxn2ipPlijXfV8XCbu07KjxlevvVXF4rFolnkWesndngb+qsrXRyIfz0Bx2F+DPy/OTzL9DzPd\nPwn8FvLhsTXk5MX/CaZHNn7GgFOM52CTFfhnJ/YMeywXoVjpCj4L/Hry+eXAf6Hc3z7Uod5DvDv9\nFTHHdAqaYQyi5cSf1pDzSEbOG4FPmZxBk/P/0Gx70P6fjwz7p8gBxzfgf09S1xAKqDVo0LnFvn82\ncvI/FZQTdP52m/k/aGUuRwGbtjO1b1r+QTT47ybOHlahGeMi80Xqg8fNLjtRPm8JygE+ZnbK8q9G\nD31lff+/UAfO8i9GM56isZK2JcxqbgXuRzn8tShOlljZwPNj4P8AL2RyTJxi5YfNLquZ7Pu/QYP2\nIBpIPopuQj9Fs6yszxahTg8ahFfUaFcRHxeN+2zZeu1tRyx+Hg2UO+v4qypfLyXmq8vG+Upi+uUN\nxjNsut1dQ05e/D9hMrLxM2Iy1qGc90nWxk8S0zdZncO+Xc/haShBfw5x1/lQlMR/L3ByARl9CT0b\neAGajcxCM+YUR9WRM8vqbQanA7+JZhlB/6IoW29Z+QCvRx081BfschraaPoc8C9oM+4I++5I9Pju\n+aiD19P1r4inLU5DM8pz0YzjDXa93/heWUfPVP5L0TL6VXX4j6VcrOTZAWrHYl5705g7nBhzeb6p\nJadeLJb1cRp/teK+EYLvOhGLtVDP1+G0RtlxIfV1VXGeh1rxfx7tHwsmodl3oRTFn6LH7VcgI56C\nAnkJuhNtRHeuR9DphBG0ZHoC+CN0F0vxLuSUIbRc/WN0lz8OOaoPvRXxTON5DZqB/RT4CBPfoHgm\nOjXxZnQ3DXg3GihOQh18E9p1/x66iz8TzcAG7Po60/shNBv4UzRD6kdBstj0W2/1vAfNAlZYPedZ\n2Y3GdwsKrLeZ3FloBrgRpXLONPv9B7rDgzrEBWhGcjNawv6m2eRk0+e1VnY+SgncarpfbDrflthg\nDloug07v/B4K1DebXX4fdZDlyEfb0errt9EAtwzNSm8A3oROgnzWvhswvU9BPjkfxcQF6FTA88we\ny03Xx03/k63erzExVn4G/CWKmWCLVyC/hY2hucA3kf/PNhmzTYf5aDD/KXrH/aesncfZ/19Hy9pt\nZs/3oFnbmWiGdhBanT2CZuG/iTrl85jo49eiNMxys8fDSbvCCZk8Hw+g0w7PRsfO3mbfn4LSOTuY\nGPdPs7rut+sfM9s8x/hnml0+iFZCeX3gfPv/LeC76Ojk88mP9W1oNgrwEuCvrZ7zUTrzHGI69YdW\n7mQr92kUU0egfvww6m+NfB3iPqy0Xov8vZTGcR7wfHT4IsT3ici3LzE9U5uE+L8UzZiXonjfAXwo\nsc+n0Crk91Dcvwb5682oX/zU9MvGSSi7vYaebcc9Cf19tKRZj5ZVj6NAWo8GsA+hoN+CjBAGwU+j\nvF3YEd6EHIKVXYQG7zG0QXM9CoAhk/lV5Oybjedhkxv477fP4ehSOJYF8D7klI+i5dUIMvSY1fMp\no0O+ao217Q5rx5Dp/ojV9THihsw84pG0d5qOS1AQrrC61iPHDZn+21FqYqnVO4yCZScaBAD+0HQN\ng8K9JidsuG0wu6xFg8SHTccRlLf8krXhLuKRw13EkwZjxF36J03/cbPTKPE98Fvt+1eavBvs+gLi\nLnzw8x0mc43ZYjfKD99r9h5Cy+otZoObTPcRJsdKWLb+0Hy0C8XMbpOzI9H352arcBrhdrPLPLNZ\nOBEwZPV+NNHtCybnnVY2nGjZTTztMm5/w0z2cTgp8SDxdNA1Zve7qO/j9WbHjxNz6dcTj7xl4z6c\nHllr8t5kcjZYXfNQWivEQV4f2G32+5TJe5z6sb4TDcIYzy40SKd22GF632v67EE3qlFr14fQzScM\njnm+/q7J324ynyTG+aNMjvOPEI8jz0PxOQ9NsMIx1yHT53riKaNF1u5Rq2OP2Xezlbsf9bt96EZx\nh/nvCdPvPmvvFabniPGNopvLO9FNPdjnE+g0X1cwP6H3oJnkLKTsErsezlWDjPMwuuMO23dBzmJi\nwI4hp+0jDubDicxVKNgusXJBj4VJXUtQgN1OPNYU8tt7kZP2Gv8i4pGkUHaX0eFUQqC3ofztatP/\nCSu3OpETZIZjXKFsCKg9pvcsKxvatZh4hC3Y51Woc4yYTcKN5kbUiUfRDDPskG82uywi7m4HvV5l\n34+gjj0K/MTasx0F1kaz0duR7R9AgX20ld2LNrh2J3YP5+YXZegxa3+f1bkEzfbD97OIR7A+bu18\n0ugNplNerLzRZIaZy0OJHVeafl9Eg82w2e4x4jnmlajzp3selyBf7zA5I4kNN5qs4033cJJhhJhy\nSX0cTjKBBpg1aBAaQQN5PR/vQ6s9UBwuNXqV2S4v7l9l7QtyhtBKJLT3UYr3gT3W3nqxXsvXoWzq\n64XEcSHc3IcSepG1pZ6vh9Egn43DvDi/x+p72NqxAN2UtyD/BjssM3tuMl0vtWsPofh/mHhaZUVS\n114mxlJ6RHZVxp4h/n9hZR8gxglMPM1XF1WfQpmBckNzUEcMM7YdyNAvse/3JvzT0XJ2OhN/EXwa\nSvQvA05Fg9J0FAiXE5eKF6Ilyt1omXJ80q6DiGmi56IBfB9y1FWmx8Foyb2CuGH1G6gzj1jZD6L8\n1qUoyM9Ed8ptyNgfQY7ZajJH0Sz9N6yu1egJvlHiDWWf6T2HeN44zBoDpplNUvvcbDo8YjY5ytoV\nTtgMAe9AQb0enQR6jX1+NpoJnGG6hl3/O4G/NzkvtPaEpWaY5Vxv7TiYOIsaMDoMMoclZVZa+7eg\nznC52XNL0p5noRnKdOSr3cSb4iet3FNGb0YdNhsrffYXTg49I7FfsOV2a+epJm+z6b7HfPAR4vn5\nvcZ/odntaHR65XJr87Psu/XEh82OJx53Gwf+xOqt5WOMdyeKkRXoplnPx0PWvktNv2ei+Hs6Wqbn\nxf3Ndm0P6nfjwOuS9u6hfh+4nTiAf9PoerG+yWwbjnDutrIjKG1yH+rzwdZDifyNxBtfiIdGvj7B\n9NiMxpofos3aWnF+DvLZA/b/LLSpPI24ytwB/IrZc4PxvRD5b8TsMpN4Q19IfFgxrJY+YrZ+xHRa\nabYNY8qotWscnWyBOHnDdE7HgI5iNbrbrEIGOdWuPxM56Ea0m70PGft+4hNuW9CM6AoUWH9dQ+Zq\nlAN/D8qHbUKpmuuQoX5k9YwTB+B/MTlPtzIh9x5yol9GS5eZ6C49bjpsQEF2BXLGCpRD+3Ki70LU\nGdfY/29lZIIGn33oRvQ+5JxB4pI7LMVfa/xvzthnlPgQSrBPeIAj7KKfijrGB63N77DvXm26/wjN\npsfRLCbsD8DEu/2b0CB8krVli7XnfWiGcAXy658Z/7NQkK6z6+NW75NovwJ03Ot6lAO9j/hgSXhq\n7wqz80eM//moE4GOQ4Yl8z2o42RjJbXFdjQYvg3NjB5DK4ftKL89E3W0cRSL/xfluk9CsfTjTHu/\nhHw1jmLudDTw7kY3hHCSITx8MmJltzHZx8PEDd2LiT6+x3gb+fhcFH/r7PoHgT8g+jeN+zFi3L8J\n+bgf5fJDezebP+r1gRVml5UoFseYHOtXEmP9GrPFleiI4mNW9gEru8ra+kLj/y2Ul4eJvl5odD1f\n70MDdWrP8PTjPibH+Z1MPN0R4nyj1bMWTVrOMztcbTpnbbIVrRTeZvo/hcaKbaivrkHj1y0m89Po\nBvJR4mm8ZcQUzyAxDbcKjVGFf0ehnZuYhxBn2rPQDGElStafaNdOtM8rUT7oFGTkPShH9QZiLjWL\n09HsKOTuZqANjRNRQG1AG48P1Sh7Mgrm56DjYAHT0OC3F3XgPnSnDqmeFEeiO2gf6lTbgF8DXpyR\nGTaD7kHOPs30223tDmVTWz0D3dnPtDp+bnz70OC2jNrLrFlo0+1/oY20MLAHu5yJOuIs4sMPr0TB\ntisj6zQ0qA6ix65/CQX9cSjPlz4tdiR6xPhP0ObzBjTLeLbV8VTCO5c4uM0x26xi4v5Jars0Vp6G\nlv0hVoItdqOgX2Ly34BmMjOR/+9H569BPr4Q2TRFNiZ+2ey12PRI+bO+fxLZeC46ahZ8vMf0DTwB\nqY/TPhB8fL61q9YDHXlx/wy02noSDTA31Shbr70BaR8Ix/zS9q5Fg2RerJ/AxHRAWjasePYQj++l\nZU9CK92sr09FA+syK/dsdKNfhOIwteeL0CrjoyjOQhrtTOJqMGuHN1idX0Q3pyfRyvaXkd+z48Kp\nSRlM5gMoDRl8/frEPq9D48hC1O8GUZ9/NrqZpWNBGicN0c4B/Cik5DFM7MABy1EnC3gzcl6YyU1D\nOaqwHB1Bg/npxM66BDn5t6zMeuK54hTpqYpH0UmBMWS0HRnew9GSMvCnN5FA91ndZ6CB6leJG2br\nmeiEYIdUztNQsI4yOZCPsrYGHUK+LOh2IXGTLa+9Kc5EgbgP+N9o1nw8E09fvI+YOz7c9DkbrXZO\nRUE+38otQCcilmXqfhc6F78XzQwvN/3OQB1jndlqzMreiNIY89ANYpvp83J0s1xp7fwg8aTB36EY\n+Q7y4YXo1MLH0MzlhWjmdBsTbxzBB3nIxmKwQ/BBXswdiuw7G/lyA3FDOuvXrExMzluJM7Gj7Xqe\nX/Pi78XEld26GmVDvaPIDml768ViKBuunYniYikayEO9aSyGExdhX2QZ8SGnuUw8+fMgOqWxHaVM\nPoYG6uDrQ6zN/4IG/U+ieAhx9Tm0SkrbO4LSqQtRXN1doI3T0Bix2T4fg2bmA8jeV1uZcLjicLNF\ndnKSog8N3N8jTma22N9gDf5sbHQFH0voEeKJgHCiYUfyF1IDYVd2DDnpSnTXDe9R2IpycRuIObOw\nAx6WqCPEpepTJu8ukz9OfM9CcMA4ccnyQ+SIu4gpiCet3qtRwIf3doS6g4ywI73Lvt9tOmwzW7yF\n+I6E7SZ/IVr2DqNZVFaHEatno9kudLg/Jy4r07o2oCNOAYMonz0PdZRRqztssvzEytxu/J9AaS3Q\nZuE2K7uRmL7aaGUfRoPOBqOXm+73Wh1/RNxQWmk8S4gDx5Dpv9nasIEYC+EUy3hil9X2/UOm7y7j\nGUYptg2JjOVo82koaeOWxEc/QyuTUF82Fneb3e8iPoTxKDF2sjEXYinEx2biiZfwiHTq13qxGE6N\nbDQ7ZmNoT1J3XvyF2WGw+doa9Y4nckLfy8bi98yf61AePrw35j+sfBisw8u1snG/FKUaQpvusu9/\nw+RcQHyT4hpi7N2BBsmLkI93EDeF16GU56jRD5uPdho9iNJA84xeb+0aIZ5QSdt4Mxontpqc5cjX\n21C6Jjzos9HqCKeDnkCTnZVMjrGVaOLyFrQvEU7AXGbfhzEqpCW/YjreZTYJ8fYoes6gK0hPoQyi\nAeEa4gD4HjSIvR81ZBUKjI+iDjZuZcJpgrBZdpXRwVDHo7v3IybjDpTvPRoZfR+aoe0zPcJJgfuM\n/zKj348cuQydCQ83gyuJu+ghMMMxsK3WprAhER4pDsFxNLGDftvkDxJz3Y+jvOy/5egQjqZdYzKe\nQg8z5NUVyjzLvhsxe/UbfR2aRY8Sj8993PR5P3HmFN5FsY/4OO8txr+cuCE1n5hOCgPK9803j5iM\nMdSZMLuH0wUrUKf/VdMnLLUfQoH7XeIsCZP9Y+MPA9WVyB+biC/P+mbSxuVWNgwCr7dy4YVfe0xu\nNhbXorPqwZ5hZRaW3dmYC6dmIL59EOIJoKxfR0zXbCwuN/thsm9ncgwtQf6oF38fRwPM+5E/N9ao\ndwXxCO0wGoSysbiZ+OqBcFT0WWa3hxI7p+9XCbGYngZZwuQ4fjtxBp2NvWFrG8TBG5MX0kXZEykh\njbjN5F9kPGFD8X7U37JxFQb5PyGecMPssjih01NMYa9hnLiSTmMsTCC/be0IL9saQ6vcaabXTpT/\nHjT9/9VsG+Lt+cTJVUNUfQolxUy05Pkd5NwtaFn0D2jGOB0tQdejPN6tqKP9OQq0PhS0q1EwbUZ3\nq3eioDiBeExpNnLCVpO32ep53P6uQcuiGcb/x2hJdbjJOMb0C8vse9FyPCwPj0Y7yTNMx3cS76jh\nzOYhyClbrewIykluIuZBF6MHEd6GNgLPrqHDKAqE3zH+7SitMB3dlLJ1vZd4TOxFxvdJ4imLM4jp\niKPQSaCPWZnDjX+G0WHf4qf2/5eN/2nEExThhBDEWc6NVuYIs8lea/OFaPM4dPZdyK93MvElRSPW\nnovRrOxwNJMZQ+mbO1EcjJtv3mQ8I8hnJ6Ol+DQ0IQDlXleZbuE45HPQjX4Tk2OxD3Wu4INw8uFB\n1BmzMQdx32KI+Bj4b5ods37dap+zsTjN5IIGvKcxOYZ+39pSL/4+bO043Ow2o0a9h5qum9BM+T+Y\nHIsjqD+FusLGYhigVhLfOggTY/EJq/OHiT1+B+XjZ6AB8x/Qje9w+38omnFOI8ZDX2Lb8Hj85Vb/\n0Siujie+BOpg1E/SuA1ytqK4WpzYPJwk+aLZI+SyZxAfjptBPA0SJm//w+zzHbuextgFTOzzj9n/\nUXRjGUdxezBKF+2yesPrgMNpnAeY/G70jmE78YD8CHGGMo1owMdQZ3wC3YGOTMqvRcd9wi7zZuJ7\nfreimcIv0AAV3muwFQ34r0J3+EHjO4cYUDNQRxwymY+jpSJ2PcxM32Q6XILyqI9a+dtQh1pFzP/t\nQoPyKjQgbkEDzdvRjOpytAM9ZnZZhWYCH0OD4hPIWVkdwnlkUEcIR/DWG12rru3EJ9RG0UzpUuI7\nm+9BA91a4ite77A6VqEHIEK6Zw/y31NW341o0NyBOvsTKPD/2Wxwudnr56bXZjSrWIZ8t8Ta+U0U\nE2Hz8xriBvN30UzsJcSnMK80HcKM691oxhh8s4r4ju37UFzsNd3/xur6gZWdbzY+h/jwWK1YDPgo\n6siXoljazeSY+6rZ9Ztm4zWm/5PEHGet2MrG4ny7/jbiO92zMRRScPXibwPan0j7QLbedcT3ddeL\nxfCeln6zw7/b/1Fr817iwztpLIbz7Z8nriRBs/bNKJYeJz7y/nW7diXxIZqQBtll9r/C6p5HfAHW\nfDTo/R2Kwz2mx6UoDneh1OBG1IdeguL/JyjOw0kQiMdk55nOg0bvIsZn2g+DjtkYC7YLDyLuJd7Y\nfojOrocjjxCfyoXoI4hjZSHMaMxSCnchZ96JGvAT5JjjkDPvRo35BrpbPkDcyQcdOQtL6XBu/Ea0\nKx820jYiZ30ALZGORne0F6Mbxk+Q89aho07HocH6LrQ82WZ1f9TobVbvarQUvhalDlagO+44yt9d\nimZKL0YzqAft++ejZex04nvLv4o2WG4x/Z5p7Xsd2r2/GA2Kf1FDh5l2PeT3wsve32F0rbpmWDuf\nQHf4N6KZ7whazi5EM6Hddv1es98W9CjvHDRT3wB8Bg0eN6OO9yp0Uz7aPj8LberNRQF+ibVzvtWx\nE81yVxJndIei2fntaPNv2Hz8Jft+OTpRcoH55vfQaY41aKBfjQanq82P4YY9jmZvRxGPkD0LDTw7\n0WbrYnRC4ViUIrmeGBNpLP4Mxcyw0d80W51CfLlRGnMHo1M5R5gPlplf70Ez5rCiy8bWDibG4o/Q\nAPZKq28P6hNpDN2MYgfy428U3eRnE/vAcKbep6Eb3eX2VysWh4mvX15tdjjMbPsMs8NvEV81kMbi\nZWi2PZN4c7rByn7O/HcTWm3vRquHa8wXt6PB8Fa7dimaoQab/AT12Z+iuDoZbSzPNZ3ebLwz0Or6\nF+hGcay1cRzdIJ+FYuP/mm1CH/sEGkTXohvW9639dyKfn43iIi/GTkBx/06r+2Kz5a+gFf/vm03e\njuJ6J+rXYd/iWrt2WuKDhmj3u1BSzEYNDLvBy4mPu+eh1umAsnKaqbedcnoJtezbTv6jiScu6vGH\nkwwnEU+tNBMreag6hhq1q9l6e6Fss+gVXzfD3245laHqAfwc4obVQcQjYMNoFno6cmhI6ocXGJ1C\nfDPZDOIG4ix0p56JNrOKyNmIZiLPQwH0AjTLOwLNuMaM/y1ow+HtaHZzAZpRDlnZJ9GOc3gHRfhZ\nuCJyUh1SmeF41AKUK30QBUWeDin/W4nLrlr856NVz13EJWLoCMvRDCEcgdpj11P7Ljb7fsfob9n1\nvhx/FOXfg2bgY/bdetPj6fa/z+w6ZPxDKHZ21vFxGitp2fCelp1oM3G92eE2dGqlaCymPsjjDw8b\nnZZp141oX+KhjJ9aicVUh81oVjitTtkifeAc9HTwt6kuFh9D59+fw2Rfh6dS09gbQiuZtWjAv8m+\nOxft4QRf1yqbxuFW812IwxDn4dmGorGR9vkTiPFcJMY2oYfxatntdjTDno9WK8vMh+fUsXNIP3UU\n6SmUIfsLx7NCDi0crwHl0TaiJP9G4kbWRrTcWlVSTr/xPWIyw4MUFxGPIO5IyqdHsy5KPmfrCjz9\nBeRkdUhljtf4q6dDI/5+tNR9EuVGFxOPbw3XKR9mRmEDJuS6w/nlrxN/OSfrj8B/Uw7/mzP8a4lv\nntuOcuKHm87bTX7wcTh5kdq2Xqy8OVM2PW4X7PD1xJdFYzEvDlL+cNS0364FvbNHDoNfy8Rifx0d\ngh+Lxl9eve2IxfAcxEUZmwQ6G3ubUKroIuLeFNR+UVhe3N5EPCY5TG1bNRsbo0yOzzw5wygVlLVb\noAP/PnTcdhjdpC5CfTj46zIm/mB1R5EO4JvQHSocmwpnYxcw8aVH4ahOOB99K8pFBv6ycsKLobJ0\neBdHeIjlIeLLgA5KdN6a8CxKeA4uISetN5X5r0avsbLTGuhQhD88djzLvt+COsLxKLDCy6ggPuW6\nDs1eg6ywkfwg8TjTMvuc9Ucz/EHX+cTTLAtRjvFWNKsN7VyE8qpFYyVbdpaVfRCtQCC+1bJoDKU+\nKMIfjuuFmFhWo+2txGKqw+XEl2gVib+8ev8VzQarjMW0rtQmIF/Xir3QrxYQYyM8/3C81fNITtkQ\nh/9BPCp5DvFlXj9FN4iisZH2+YXoVFfRGNtL3KBP7bY4kTmf+AKrbDwHu01j4pOsddHXmKUUjkSz\nommoAZehDYkN6BTHMFqafBst/fqIR8YORXesXzf+01EjN5WUMyOh96Bl2EfRsmybyTkFLYEONv7X\nJzpPM56TjedQ4s7zzwrKSXVIZX4PzTROQkHwFvufp0MR/kOJR/fG0eA9Myn/IrT59D50MuFJlBNd\nhDb/phMH4dmoM74laUfWH2X5x9EJi1vNpmNEfw8Z/5+jpeQs4sNBR9bxcRoradk+4tGv2Qn/JtOt\naAylPsjjH0cpiRPRALOXGDdDVl/qp1ZiMdXhXLQcLxp/efX+GN3sn0F1sZhnkxvMJtnYS/vVmfb5\nLWhllta7u0bZNA7fhza+A3+f8V+HnhA+jmKxkfb5YZSOLBpj063d2fg5mng8eU7SxtRH4Ql0iKuG\nQqj6FMrzUJL/DLR0/i7a0X0mOlEyjXha4Azk7PvQuxI2o8HgSyi/GB7bfqiknDnIINPRHfNg++7H\nKPhehW4yc5AD1qJd/XDUaTo6EfA2uzYT5Xm/a3KLyEl1SGX+mv3tRDOS3zHd83Qoyn8s2qQ628p9\nAT2o0o/yctvNXp9B+cgfEE9J7EWnCk5CZ1hBy76Ndu1fM/4oy/8gGjjea7xj1r6NaHZ0v/npQuPZ\nZHofTbFYScuehh67DudoN6IbwUbT50UUj8Xggzz+1Wgm/OdW3w7jDyc0ZmX81Eospjr8KTqm97U6\nZYv0geeb3FlUF4tPmv0uztikH70NdDYTY+9eYr+aZb6aYTq/m3hSJryQKi9u/x7N9i+wut6AYvKt\n6AZxO8ViI+3zP0Cn5nZQLMaOIW7cpnZ7AUqNHIZO6iy2+o6x8gcR4/lK4mmWQmmUTp5CeQZ6z8Gd\n5O9OF9ktLyKnFrK74kHO93NL1OZpRk6ezLI61ONPX5jzY7s2Hc2+zrIyp6OOER4wCPZ9TU7ZY9BD\nRFl/lOUve7rjeJqPld9FHeabGd0OIs5yysZQs/x5fm0lFrM6lIm/evVWGYu1kBd7RU7ylI3b56Ab\nTJa/TGx8n9ZiLMXZ6EYU3vlTGdoxgKfHgmaiu9Mwmgmeje62j6O70X1oF/gI4+9Hm3Gno7vzieiO\n903i+xYayQkPaRzVgP9W0y3lDy+PCteno8BqRk6ezPR6kN8q/yjx1MmRpuOFZtM+46tn36+a/e5B\ns7WXoGVxVfzh7O4YirmwwfQrNfhPRx3v1Do+rteWq9HmUKpb2VhMfVCP/1E0iw2rihGU19xaw0+t\nxGIr8Ve0vVXF4qlo0pDapJ6vN6NZe1a3ATSAFo3bQ1DM14vDRrGRtquZGAt9LWu3sPG9zq6fQHz6\nt1Yf7trR5N9CjboCLac2o1zYGJo5fJ340veriL8GHXi+bzzr0NLlCuMdLiEnvFOhGf48uio57aDD\nO0tWEne8w3szdmZ8UMu+j1sbhoi76jtR0H2jAv5B4/8FuglvIv5QwM9r8O9Fs5RmYiVPt6wdqoih\n8KRdtl3Ddr3KGOpW2bL0CEqpdNPXZeM2jY2s3ZqNsVTOkLXxCeKTnk8S320e+vCNVtcitBHbFYQd\nWtBM5BajHyEuHVYQ36OwhHhW89GE55EMz87kelk5Zfjz6KrktIN+GQqYlyPH70WblYejTrG+RpnU\nvj9HGyvTUHA+kZRdVwH/0oReQVwiL2OiXwO9OMNfJlbq6bY+4a8ihpYm/HntqiqGulW2LL0yU1e3\nfEU+Pj4AACAASURBVF02bmv1kVZiLC27gviq5lXE18U+Rnys/mUJ/znEkyoNMb0xS2mEHNAY2kwB\n3ZXDS/kPIy4RxogbqdejJdNH0RIjOHBawlNETno0qSx/Hl2VnHbQ95oOtxEfonox8QeNgw/y7Hu0\n/R9HwXWUlb3a+FrlT200Sjz5dCNaNmf5t6FcYjOxkqdbaoeqYmg4p13p9apiqFtly9I7E7pbvi4b\nt2lspG1pJcZSOXuJxyx3Eie4O4g/QXhvwv8gE98PVRdVn0KZi94XcQrKC003ZZ6HTkq8DgV4OAb0\nUrR8OBQl+WejgWgYHSuajvJaW1GuroiclxINU5Y/j65KTjvoTxHf+DeK3nl9iP29BM0Oxsm376tR\n3u0OtHfxS6gD9aNgvbVF/vOI/j0Lxdw0dDxrmPhmwsB/Npq5vbOOrcu2JbVDVTF0vvG8ItOul6GB\na0ZBOUViqFtly9LnW10vo3u+7qdc3KaxkballRhL5bwSDc6PGX1MwhP4P4UG9n9EN4F3o5NkDdGO\nTcz0NMRBRj+IznruRUZ4A/ElS7V4jkEv6jmxSTmz7Hoz/Hl0VXLaQa9GL+c5C6WxbiL+hN2vEH/H\nr5Z9n0BvQws+uwUF0UoUH99pkX8hetLsVOLTZsF2YQc/y5/u7JeJlXq61bJDqzGU1652xGK3ypal\nFxPPgXfL12XjNo2NWnZrRc4StAl6ul3fjGJmKZp4zanho7zTLJPQzmOE6bGgo4m/8n0S8aU1/4Uc\nPYiO/nwM7ZjPJuaTvo7OLz9VUE7ZerP8eXRVctpJ1/NBEfumqJr/NCYex5peh/9OdFa5lVjJs0PV\nMfTsTLs20J4Y6lbZZuisTTrp61Zjo9n+UrZ/Fu3DdVH1AH4iOlT/RtTo8CKjaWhXei/xWM1c+24f\nuuNMQxsB+9Ajp6ejM5lHGP+MEnJ2l6w3y59HVyWnanodWqatRnnFM9Hd/aCMD/Lsu9fatMHKPN3k\nVcUf3jER8obHE39wYE+Ovwcb2LqMblk7VBVDI8QjkWm79qAUVtUx1K2yZehh4ns/uuHrsnFbKzaa\n6S/15AyiGXmwSx+6qaX8YeP1S2g1PUwBVL2J+TX0NNFR6AnKH6AGD6IlxinIwMejHNFSZKAj0E7t\nBrQ0OQcZ6yi0JNtTQs4mk9MMfx5dlZx20N8xnW5Gy7uXolnNe023RQ3s+10UB3+JNmuGrOwQ2lxp\nlX+12e9Y4vnYmabLrhr8a9EGTzOxkqdbaoeqYmiN6ZltV2hvlTHUrbJl6e1o5txNX5eN2zQ2sm1p\nNsZSOU9YG3/ZbPAYmt1vRzEU+vA2q2smegK1K1iYoR9I6JDTWcLEFxoF+ifEnzdaT3zPQVq2iJyq\n+NstpyoaJh78D2euId78IN++izNyA/9PK+J/MEfvIv4uGyt5uqV2qCqGHqzD385Y7FbZInQv+Lps\n3ObFRlUxlmeTbB9O6WUURNUz8M1oR/lEtIQcNXo+WmLcghL4e4hHh8Jvw92OlhI/Qkuu3QnP2hJy\nDkXLlGb48+iq5LSDfp/Rc5A/x9GS7kTi7xLWs+8c4tvPdtp3J6Jd/Cr4h9Bs4x1ohhVi4s4c/ofs\nejOxkqdbaoeqYmjY2pJt16ykrqpiqFtly9J7UAx209dl4zaNjbQtrcRYKmc2k5+sDONj2odDymQ6\nJVLbVefAT0FHYc5CS6kZ6JjNUmSQO9FS6TNo6ZDl+SHKAZ2LfnexFk8jOY+hAezQJvjz6KrktINe\niparr0HL9+ei2cxRaIl2Dlqe5dl3q+n/MFrmbUUd72EUTG9ukX8RmoWcaHq+CgX1YuCf0HI35V+I\ncoCH1bF12bZk7VBFDOW1ayUaxI8vKKdIDHWrbFn6YeLTld3yddm4TWMja7dmYyyV8zjKnx+NHuQB\nDfZriD+1mNY1Bx2F/A4F0M5TKLXwAibuTj+c+f4V6PWK6Y70FcQfti0qp2y9VenfTcxBs5gV5L8w\nJ8++W3PKVsWf9V8R/mZjJU+3LKZiDHWrbBXopK9bjY2q5bQN7RjA00Yfg2Yj4+gY2XZ0J1qKZusz\n0YxlBhqApqFZzUzjfTp6EOEJ4q+CNJKzFd3Ni9ab8ufRVclpF70DBdfd5oPn2N/hiQ/q2Xc5mrXf\nbfzPQZ3q4Ir4d6Fl/CGoI+wl/jpJlv98NIPaVMfWZduS2qGqGDrI+I7MtGu9tbfKGOpW2bL0INrY\nm9NFX5eN2zQ20ra0EmNZ+4yhDd01xncsipEjmNyH60142o5/QC+jeacpsxgtC0bREuGPkLM2Gc9a\nlEcKPDcYzwZksHeiu9zeEnL2IkM1w59HVyWnHfQ29FTYatSBhkyv5eimt6yBfe9A+belKNC2WNkR\n4P9VwP8kCs4PEn8O6wOm5101+LebzGZiJU+3rB2qiKEtaM8n267txlNlDHWrbFl6GOXcu+nrsnGb\nxkbWbs3GWCpnN3pn+PVmh/Umd5/ZJ/ThUNd89FLArmBxhg6nIR4i/kjnUibu3O6uQa/IuV5EztIW\n+PPoquS0gz4WBdLT0CxmHwoWiOfCs7qm9l2Q0OHhCdAMaHsF/A8mdN5Jgzz+srGSp9tqoh2qiqG8\ndqWnEaqKoW6VLUundXXL12XjdjUxNtK2tBJjefZ5mPhOlWUJfWzCczSyYyFUfQpllPhCl/BIKKbQ\nQWh3+gSisn3ENM4X0bLrFrSMCm/tCgfki8pJf46oLH8eXZWcdtDhnQub0FJsHOXnMD2DD/LsO4vY\nnl3E3fR/QhtQrfJD/AmqQ1GMgH7H8OAa/KuIJxnKxkqebqkdqoqhUeK7hNJ2pX2qqhjqVtmy9F5i\n+7vl67Jxm8ZG2pZWYiyVk6apR4j2GU2+Oyzh2UoX8Ta0A3sLWl5uNHo9Wmb8G3pb2C67Hpahgefn\nKIf13oSnrJynUCA1w59HVyWnHfR6tEfwJfRzW5vQrCDoN9LAvrvQQ0DvQKcEhu36OivTKv+TZrtt\naMayO9Hnqhr8a1HnaSZW8nTL2qGKGNqABqBsu55CKaMqY6hbZcvSG1DsddPXZeM2jY2s3ZqNsVTO\nNpQOugL1hX0Jz1BS1wDC09FvaRZCOzYx09MQM6i9W1uPJ+xIzyI2tqycVvjbLacd9G7gD4kv2Lke\nPZK8Fh1nm1nHvj9FObdaZQ9BqZlW+EMQ17Jdnr+bjZV6umXt0Eh+Ed93Mha7VbaqftJJX5eN2zQ2\nqoqxVM5JxBfNbSpgt8Jo1zHC9FjQQahRb0Rv6zqO+AvVtyInHoTe3/E/UQPPQvnzk1Aj/xnd2YvI\nGS1Zb8qfR1clp5109vhV1geN7PuLpPwL0NvXquL/KuqcBxNPJgwDv12DfyaavZ1Vx9Zl21I2Fov6\nfjF641zarkVoxlVlDHWrbDP002rYpJO+Lhu3aWykbWklxmrZZzNKBY+iZzTm1OApfbyz6gH8IpSD\n2ga8kJgDO4KYwD8B5bhWomNEwclHogcOZhB/w/Fe9OMEM4nHbhrJORzNSMea4M+jq5LTDvowtDN+\nKvHo00xiTm6f+SDPvi8kPv0Vcni7rI5b0cyjFf6XGP8Tpt9elGKYi36Rfl+Gv5+4o182VvJ0S+1Q\nVQxdgAacTZl2PRN11JGCcorEULfKlqVnE1MG3fJ12bhNYyNtSysxlu2fO9CewMHWpmnEl56NG8/P\n0MphmHgSp+NYgO7AoF3o7xu9BuWxYeLO7RLiTxWlPI8S3z2wJKGLyHkMdapm+PPoquS0g34nCpx3\no1/i3ouOc55BzEVm25Da9xYUSCejWcJKK7ud+E6GVviXMfGEQNikeYR4WiDlX5rwl42VPN3y7NBK\nDC1L6k3btSLhqSqGulW2LL02qatbvi4bt2ls5NmtFTmPEDdA16EVBsSfYwP14VDXr6MceyFUfQpl\nOlHxEXRXBSXpw88EhVcpBp7ws0u3ooPw70B373ByYYy401tEznZ0B2yGP4+uSk476GuQfa4kbn78\nGlqOrUEzB8i37/FoRrAWBdUJVva76AGQVvlHiDOVPWiWAdogOqwG/yDx56XKxkqebqkdqoqhIWJc\npu3ak1yvKoa6VbYsvQ3NwqF7vi4bt2lspG1pJcZSOeGhLtDGZfDFZuLPs12T2O3HiZyGqHoAvx+d\nhniHKdRn9C60ZNhGfC/uO9DS5Cmjj0AzyRehO/MMu344uqOVkTO9Sf48uio57aD/C6WqXoo6ySgK\nsuCDaQ3sewLxV1HCK0CD3avgH0bLyStQYI7b9WPQrCbLv4N4kqFsrOTpltqhqhgCDTTZdh2V8FQV\nQ90qW5YeRTevbvq6bNxm+0jarirkHGt2eAnxJhV4Av9/EY9KH0aJcbnqHPhBxNMQi5HCZ6Il0Q/R\ncuMI9Pat49rEswzd2Z7eBH8eXZWcdtBL0EMEn0QvzXkU/YjsHLv+QnS8K68NW9CvjpyOcqV3o2B9\nFHWoz7XIv9B4nm11vza5/mXU6bP8ta4XiYM83YrYoWwMhXadgY4TvrZJOUViqFtlm4nFlWgQTW3S\nSV+XjdvVxNgoYreyclah2H8G8T3nR5meJ6EVSFrXoVbPanoI70U5o3qYj34B+rQScl8KvB+99SwP\nF6J3FYA2Tf4K/bhoVXh3hbLaibL2rYr/qJL87YqVFFXFRJ7vD69xrUi7iqJI3Kdodx+oh2PorK9b\njY2q5bQVVc/A56PXIF6LckYfR7meP0FLq3GUO7oY3Y2OQqdWLkCvaLwaeD2aPe5Cx5/WJXJ+HT1+\n+wJ01xsFvoVepToD5dxORO9CuAL4A6t7BbqjnYx+8PfVps+hGf4hdDzo66bL9ehO+hPT/bnoDvvb\naNPhKNNvVR0591qbXoBmFqPotZNV8f89cJnxz7f2rTebrjRZWftuRaclvg58BOXgzkB5vM+jY2Af\nsDY+23zxKHqfxUeS+lJbPIaWfsdl+P/Yvh9HGzpvTfgHa8h/J+ViJduWVLfLiBtbHzBfbkEb7bOI\n79/4HhNj4lG0ibbO7PsQWubn+X4z8Hb7Pi8mHkCzrfvQZv8nre60XXk+Lhv3adnwFObhddpbVSwO\no1nlC1DsnY1i4iSUJnhpxl9V+Xq+yT/D/Pw1dFa7SJwvR+PMBegI6F8SH9IaRyuBejGWxsMNKMaK\nxs+NKCee1gv6JbPX0AWsQu8DX4M653eAT6GTER8Gfhd11n1oyXA/8BX0S/YbgNuA56MgG0YBM4KC\nP8j5EDLmEDDP6p2HcmavI/5U0RPGP4iO2I0SNxBuQB05y78T5aI+ZXp+D53oGDZZDxu9HRl9u+lX\nT06q84Nmoyr5l6HgfybwFyjfvADd9LYA99Sw71Kz3w5rz1NoORt+m/BjxCfM5pr8Lca/G7jO6ltL\nfG/xFtMxyz+GOvj15oPH0WC3Bfi7HP7rKB4raVtGE92eQp3m4yZjOfBp89dDqCOPmY9hYkw8Zvyf\nN9mjTPb9brv+d1bPIjQrXmQ+zPpsj9k3tH1TjXYViYkicZ+W3Qf8TYP2tiN2H0UD6/PR5GlhDX9V\n5esf2LV/N798vgZ/XpxvRmmQ16Ebxb3oNNdq+y4rJy/+r7fvs/Gzmni8NMt/u/H/Y9LGXyGeVOk4\n5tv/aWjW+0VTZgy9aSvwLER3vXFkmNtQI3cm9B5091uPOk+QcwmaoYeBCpOzo4ac3ajDPokc/kcl\n+FOdR9FAORd1/iVGh9dkFpVTtt4i/HtRZwoYIx7lHM/YtJZ9R9BjzrOsnQ9a2T0JvQD5LPA/hQaq\nPfa3yOrdV4N/GJ2QCddXo5MC48RTM3n8ZWMlLbub+Mspe4gvWhsi/vRfkRgaRzaey0Tfjxnfx9FA\n9qTR42ajej7bgVaG9dqVjYlm4z6Np1bKtsqf0rX81YqvW4nztGzw3VbiD1bXklMr/set/Vkd9hI3\nKOeb/a82/tuSv50JHfg7jvkJHTpJH2pwMPY6FPDvR046165/g2jU+cSD7Kmcncg4q4i/Ch3kLE3K\nBjl3W319aMZzT8L/UA3+hVZvWDalA8+jOfrf2EDO7ky9yyrmvxbZ9xjUwceB/13DLt+oUR4m3u2H\nkrbtInb2hUnZneidyHONdwOahe5Gs+ssfyo/td0u9KRbUf68WEnbsiGxw1CmbGjLeuLAnpUfYiLV\nZwFxaZvy70U/txWuP57ICed7U5+FmK4Vi+fW4E99XDbu07Kb0YBRr71VxeIQmkzMMz2XG883iDfQ\nvNhrxdd7Et2+wcS4bRTnqQ0fIj4J+Q0mjkGBzov/YWKcpPGzwvSbZ//3oonOGErNBjyY0IUf4ulr\nzFIKyxL6BnS0Zgfwq8l316ENlMPRTCy8iesv0RI3yLm0hpx0c+hfEznz0EAGMbcKejL0NSiYLkeD\n2+HoAaPravDfgGZYI+gFO5+x629Fuaxa+n/Orq8hPqyQyvlMUu+PiWdC8+oty//baFZ7P3FmcgIK\ntHkobw8T7RvKB7nhDWv/D/0gx+HIvq8znltRbhuUazwcdeJvmS2GTfa5Nfj/kYjUdp9BS98s/0U5\n/HmxkrZlj9kh0INW9m7iWzIvJMZWKv/7xOVtqs95KDeb5f9P4At2/Rvo7H3Q86t2PfXZ29FGYjYW\n03bl+bhs3KdlTyL+YG5ee8vGYl6sp5uqIQcOOsHxmxl+qM7XO4mThz9EqYksf16c30Tc4L2MGPNv\nJ/o9lZMX/9cRz3Wn8bMT3QT/Gd0sfgXF4h1E+59AvOmANnd7EsehBjyf2MAUZxGdmKJIQr/Wzn87\nMacxS9cxi/hqWZB9P4Ryc59HL94/t0Y50LGnj6CBCZSnvBz4M+KDKileSNxjmIUGyRtR5zuyBn8t\nhJliOrGYjR6tPibDWyZWZqHNsBSNYrEIOh1zKVqJvzdUpkXzuLrGtdPRQP+czPWyvv41isf5scRJ\nToqD0QqxaPznYQZaEd+CZu4QfxuzZbTzNzFfiJYjn0e58G+hndfNaOlxGsox3YrumLPRqZGlqKE/\nQzmru+370PjXoFnnfehOHZYbjwP/gmYcR6Gzm8PAy9BO+4+A96DUyHuBP0d34oeRE9cjI38A/SDq\nPpN5NBpQXoBmKX8FfBbZbhjNUmajGcGjaNaxEjn/ePT2shWm/xK0lNxk9D8QX3LzNbPVH6NB75Vo\ntnA3WvJfg3b/n2HX3kpM8QSb/J617bsoRfGU2fnNKLd4Brrz34QGxDPQ7vu1xBXG71s732V2O978\nNW7yzkPLv6vQzOQYs+m30Sbq80z36WiGfRSa1dxjbf4Ps9s8tLGzxniONF0fQT8WuwfNEn8VzSCP\nR3EQVmRprHyPOGuZj5buq82fd6JZ0Flmuz1oNhROi8yxdh6CVl3jZu+1ZrMTTe66THuXoCXzZ63O\ndDn8GbNP6uNtpvNz0WmGL6LB4ST0GuZPkO/jV6D4mIk298LMEJQGOJ2Jcb+B+D6OFSgesbY9D+Wp\nwwboBur3gS1myyvQje58ysf6p83+IXWwDvXLvWbLkLb4ZdPnNPPBN8n39VEoX7wIxX2ROP8m+hFl\nzIZrzQcrUErkVPPXWvPFDHRD2GbtewqdwgGNZwvMzkvQeNRv9lmMTtzMQTPzp6GTROcgv74enYh7\niclM4yQbSx3FPBTk81DK40Y0kAwhp70EdeoN6IzlIqR02MEOd9RPEDvSbpMxD+Wo9qBAGEUDwUpk\nyGGT+ZjJvM34rkVHtoas3meZzHHj3WFy56HTLtuQo1ehjv9D4u74F1EAbkC71eHd2x8znvVoI2uP\nfXcHyoc9jo5MLbLr96KBKpxuGEFODIPubjTQrbX2fQrl8Nag3evdVt88+9ub2GjE/sK1B8wue9Au\nfVbWXmJ+8FH7fIXZc53ZbgQN4h8ynfei5d9Gk3Mv6uh3EU+wLDB9vkr8Oaqv2B8oUO8GXo4GiI1W\nxyDqpL9l9W42/e+zOrKxcov5ZDHy+Yh9DptKe82XK4k/a/UBK3sPcd9mLzEmtphNPoQG26+jwWAH\nGnDWJHV9DE02gsy/t7qyPh422busnSPoRnIniol6Pt5G3EgLG3w/R2mNbUyO+23WhoeMfx26EWwi\nnvYJdqrXB9aaP9aZ/mtoLtY3WB1fNjv/O9HX30Ljwnbj/yiKi0a+HrM27EN9ZyP143yzlVmOUrT7\niMeDR8wOo6bnz619TyPuQSxA8fBB02kL8RDDPvPXvWafQeJLujaabUP8/8R0+3vUX+5FN/x9TI6l\njmM+CvaXI4P0I0cNEfNdi4kbk8ERi1ADwo5uSPT/iPii9H+za08hI29BAXG1lRtDg+wGFEygu3bI\nLS1ATnmE+NrPVxF3nH+EHHis8a8gbnYtIL6oZp/RYTc7tGUPcVMonHoIu9Zpu/bad+NW/uUoyB41\nW+2za8E+ozn2GTebXGSfnzB6F3pS7FUokIbNLk+gYAEFVtg0WWnlL0FBl55CWYpWIGPEjZ7FyLfX\nWNt2ohnQMFpeYjZdYe3fktQbdN9qdDiGNkT8jcDdRAwzMVZq2WKPXQ83kcdM7hrk01cx8YjaJjRI\nXYLiNQzgu80WwW4jxj+EOtjHiQPg35m8kAdebJ9DrC9iso9XEn28EuV2HzG6kY9X2F+Q30+M3eDf\nNO5T/76ZeG48tDfY+enU7wNLTJcQ62EmnxfrG4n+CmW/jvrr36ABeBXxSOJu4ns/diY6P0TtcSH1\n9TZ0swjXfo7y1svRwJi1Q4jz/2P8Qf/dpuur0NgyYvJ3EX9UYoz4QM89yBdYGwaJrwG4PmOfYJOw\ngRv8mv4PcR1OcB3KxA3NjiLN99yCluOrkIHuQEvFNWhG8nbigDwXzUQeM3o5cs5MNIMbI56dXWYy\n0xMv6ZJ3BwpqUDCFgWcpMvxLE3kgQz+Izn6OE9+gtoy4i76EuAm7NqHDIDeHODPD6OVMHPzm2v/l\nRi9BA0Cw1Rpr11Noow3TcU9ik1D2VOJZ1q+hIAx5tfQI0iJr2xuR/cdRZ99qf2F18Qeo8w6hgJqD\n7B9OHoQbyxUm/68Tmz6OUjYjqJOsZOIKZwx1rnkmYxfxl1p+jN41EeSvRbO9q1C+cTeaRV1o5XYw\nOVZONTv+xP6PEeMjxEg4XfBGs2E4SrgNDap/gDrRvxn/w8g/bySmP2BiHOwipu8GUYf8F9P500z2\ncRhMVplfDkFL6rBimku+j7eiSURYSQQsSvRM4/4h4gAV5D5s7X7EbJfeKPP6wMJEzl7Uf+rF+ojZ\nap61e4fZaTtamZ+E/LvDbPcDZP9Lib/M/gnie8HnUszXi9HDSt8lnhGvFecXE29Si4jHMsNNJz3K\nuND41hNfD5yN/yXEDeI9ZodwKmah2WQHcSK4wdo7l3gcNdBhExYmbmh2BSehu1FID9xt/weRQ3ei\nzr+LmHs9DzkLtAwMJxSmoSXWXGTMceT8dAB/n8m7gvhKyx+igWOz0cMoKFahAAlnkD+OnLsMnSgZ\nMhk7kHM2ISffbHL2Am+ysuvQgLsKBfRW1MHWEZe6203vK0zOR6zsDJTeOQktz/eajVYTz9COoJeD\nYW0Ju+5Y2bkJfziqNEI8LfA+YkpkGTp7/Ktmq0fR4PlK1EnDUajQgXejXfljUOCHo3jb0AmMrC2O\nQrnQI9HeQhgswomFm5D/ryeuFi5Kyj5p9d5PfAH+I2gAW4t8dJnxp7ESbHGS2TnkpjeiFRro56pW\nJ/wXoxTViLU3rFROSL4PM/b/QrGSbe98lBfFdAwrtHuJg970RLf7rH1rkV8WIb8MEjtsno83UDvu\nL0W2zMb9k8QHhR5FKYjwTv1xa+u+pL15fSDMRrP9Zw2K+2ys70VxG+L5CtOvn+jrU6zNW9G4MEy8\nSW5DM9wd1B4Xgk1OsvLX1bDnCtRnsnH+I5P5RRRf42jQHCG+vnUhEwfPs1D8v9raHFbx96FZ/gjx\nxVarzQar/n975xpjV1XF8d9YLIJFC7RWEIwo+IhCIgW0QYL1ER9RNBAdopJAqhJRfFU/+EQJGqOJ\noqJiNFGrMVGjAo1klBJRaYstYF+00wedFqYPStuh02mn05mhfvivlbXv6bl39pmZ20JyVjLp7b17\nr732Wv/9WmudfUw21+eNiS76iMyl/xLj1HECGgsPk0ntDGKCnPVz0S76BOI+3NcRrxjqLql3NjLs\nYQQUpw7kH5qO/Elp2mLKcyPxaPIRQukjVvZVSd2TUTbCI9bWecj/egiB4wUIcB58WU28TTqlGSj4\ntNXkeB0akN3o+HURMu6yJnU70Q7jtybfKWjX7CcI10nxKa0OBMppxC1wd6JBMAsBaAXapXSjSedC\n08VK4vHvD1nfX2oy3mnlZ5n8M639TrSb8nzqZrqYjQb/PjRw3oUWCY8vFLNCQJP/ORyNlVcn8jej\n05GNfol2tovQTmk/ymo4B00sKXWg3f39HI2JM63PaRAz7e8qNDF1oA3Hh4md9QNo4inqpNP4fZny\nMdDKxlVwfwGapNbQiPtW/S0bAyNoYSqOnxlo8n/M2j4fBZg3okXlCnQK+R2Ntp6FAp8z0ST1fKrN\nCyl9AU2aF5KnzxkocWEH2oDcjsbKE0i3u1Gmyn4aTzlOU5BuX4kW+BlofN5idV6IcLaURvwfsnqz\nTC7f7T+P2L2n5PPIcXOjFOl9Jd+dgMA0HUWULyKiwyBFbEDG34JWUE8j6yB8dCAwXIaAU5bWVUxN\nmoWM/i0ifSxNVSuWT9PXiqlsoMwWl+ENTWSAxrQvT2G7uCDDxYkMV3F0OhWZbZW1/Xo0sXSjye0+\n+/wAOuEUU/W8fC/h5tmIgNXZou2Ux0zjswMB/0/INfI4mmRWoN3rH9Fx0/WyhvLUvq8h21yHJpbl\naHCsRzutR5EOQdjK0U+asuhYLOKgg0b7zUS7tz6Ez81oQnsxss168rDli+kt9t1lppccDDldj3zZ\nr0dvr/K6rdpN6xax6HpzLLaSoRkWz6LR1kXs3Utr7LlsabpjsV3H1Sk00gXGdzs6ZeXgqqifKxI+\nuxM+Tr4JGwtjZfpLU2pzbHRM6Uo08VyFgjQb0E7gHygKC0pPG05+O4yOvYfRLhA0ADzyfDOR2JbZ\nfAAADPBJREFUTbAd7XAfRav/MjSQ3YXwJFpRfcW/xtrxo9UWBJxH0G7iMNpRbUegOkgcSXejI2kP\n2oG4j3oLWlBAu4l1iQxPmwwrCUO9n/ChHbDyLsPTJTLsS77bi6Le3ta+krZ+TyMo3mJlHkCT207T\n15Dp3m0warr5HBGR34P8uFdZP/9i+vyM9WmT9cN97g8nbX+XCC77XRm7iftsekyWeSgKvwEtDgus\nH4dNzkXoxNNt/77F+P/JZPklkQWw3fRwvZW5kHiIwzNx5qFdpx/308F4LYHFVSbvvUQQc5f12X2X\nKeaGrU896ESynPCd++kxteteAlspFpcSmVr+WHcRQ2UbGmjEn7uD/M6PrS3a7UVZRC5DisUjpre1\nJsdOAku+UBbHXhkWLyBsuIfIp0513gx7XyfGgfvTdxO+9yKuupB9HzC9uVuzz/rSClc/RK6bRcje\n99r/exHmdqGYzOMogw3CjZVi7FsEDpvZ61pi3K2y34o2Ws1xfJBnBKUO/gqB/h40qJchpZyLVsFN\nqMNPowCSZzT0o+BmGojbh5Q3h8aAgB+V5hOD5Pc0Xpj0ELFyr0JGmY8UNwO5LNIMC49IY7J4YHBx\n8v2tSNl3WR+/Yzx3I2AWZehD6U2nIpAfSvSwqkSGATT4TkVH/mE04W0lHqFO2xpI2jrJ+ny+6WsQ\nHe/nE/75+Sb/U9b2fsI/7Db4lel9if3+JPHU2CXEU3uPofxvrM/LkD91l8l0EzquHrYy25LyB2m0\njWcIvZEYII+iAbmgUD61jecpz7e/bUkfB0xHw8ZrHkoFW0s5Fj3T4KCVn0MEOqERczcSD6M8jp5n\nwHiWYWsFgaEUi93InQER4CtiqIvY0LTC31DSrseQ0naXGs+vmt56KMei50F7ltHXEJZuS3T7OK2x\nuBT5jh33a0vaKsPeJuN5B+Gz34Sw9ASRvpjiaivaJM4xvX3Pvt+AFq1muML4P4Iw74uYxwg2EvPX\nOpPrh5RjbMR0fTWy6S+szK0EPtNxN0rgLbXRycQcNyZlv/khk+aYAJ77+XbUaZDfqAsdf84klD8T\n7bwPoOPsD5B/6A/2+1Q0mSy130ft++nIXzsN+alfY3xWoyNvJzpmedBgFpoApqEB9jEihctf/eSr\nOsSLgTE+Lu8nrf40BM7Z9nkY6dNlOGIyTEcrch+xsncRb6MuyoD1tw8FGA+glX0a8RLZtK0XJW31\notPHahSwPBEtPtPQ7ulMdNydarq8xPrp97nMMd29Bvlan0ID9ymUs3w1yhLwlKc9yPe4AC1MN6C8\n8R1oEv+m6dlpF+EbfppwX5xkbVyJFuLXop3XDMKdNJXIIU9tc4rpbpr9nUAca92e3chP+h6URrad\ncix+NKl3AGHuRMJXmWLuamJXecj4QOSuF+36cgJbKRbPtn6DJrqpHI2hdxAn2Gb4GyFeCjxqeiu2\ne7bV8QdUFlGOxSGTYQ1xI9/zkM9/GsKI67kZFi9G6aV9KEDXj3zvLzBel5gMR5Ctl9j/z0b2fQ7C\ny6Dp+pvoNFCGq73ILp8weW6x7zvQBHsl8se/1L7vNzkWoA2P56vPIRIPupF7Yzc6TfwZufo+Yjos\nYmwNivV0ogV5jpXpQxhyvXWYntPL3zyNE/tusuflSjQF5dgOoGNKmvLnwZVB5B8bQAq6FK2ASxBI\nDqAV0rMqPmv1NxM5lX1I8W9CRvXUp7chJdxsvDcSk84GpOBlVv7vyFiD1r67VdYjYK1NZPDMggFi\n9+e7IJdhwL7fR9xFMkIciX6EVvQvEjnhRRkOmGzfQJParaa3ATRpFduaap/vQrsuz0bxbJ9/WbkO\ntBO43eoPmy770Y7kfuv3TtPVbjSJ9KMJuZvIIPELi4aJNLjDRET+r4levk9E2FPb/APtxL5h/NYh\n27ir42bTfz+RItdvMg6jYzZokvUMkHuJB1Jcp57GdreVWYmyZYpYXGn9cBvsNdkGUcAMGjH3IwJz\nt5muO9ExfgHldnWeKRb/Y997JojvxIoY8gmrGf48u+onaEdX1pdRdJoDbWzKsOg7yUsRFhZa+Y0m\nIzTat4hFD4yuRk8VO70bTYAjRIB1EOHqRpQxtMT6fdDq9qAFy2/XTNt9FOFkIcLFAHGvvLvRfLx1\nogl6J5qw95quPGtkL1rI9qKnofcgO8yz35eiyRy06G3laIx5sNTHRbqI+JzVZbK6jfYgG/2XsNEi\nAm9j0pTcghXoCAJxP3pkdzoy2h+QMt+HJoG7rdwb0G6hF+3g1iJDdhGDcwGxE/01AskHkXIvQYoY\nRdkYe9CkdSJaDLqQcc9AOervRDuAcxEYPo+Og29FBnkQTSx/Rz6pf6OF6DcmWyc6Hi023jeiXa/f\nrewPqSwnsjWWEz7jU9HuawjtpPYUZBi28pvRIPOsjYUoo+f8Qlu+G9yCwLfZ2n0XWvj+afp6henw\nSwg0z0UT/iusTX9K7dsmxw1odz0VRedn2d9L0GT/Y+O7FmWJfAXt5DehBfsitAvpRX78wwXbjNpv\ne9CRfrnZ5hDaic1Bp7Hr0CDuQgPnEWv718azGy02i5FPdTUaIKPoIq23IVw8ZLa9Ae3Gi1j8ONrB\nnWoy3GO/vRxlL5xMI+YeQ0HIn1nb+6zPJ5neDhXsehrK7HmKRiw+HwV4zzOelxIPAzmGLkdujBNo\njr/F1sc1aFI+gwhEervnoYmlF7nnPkqkvDkW/4nG34dNnk9Z3+5BY+EgwslsYuylWFxs/N3f3Ito\nI/Ip34ncGT9FVwW809rajHzE1yC8vJt4t6ufttJ2X4Ym6h+jcfw36+81yJ3ld3KfhnbebzabbEAu\nj9tQsPLf1s/7EV7cVnOt72cgu+8wOT5nei5i7OvG468oQeAO0/ks4inNLoSPdWguO8XaO2J6fwJh\n/i6eYbSFCPh4xB7UgZykdQ8OVOUz0XYnm0+7aCIX5kxBAyu3btXyEPbLpes5OpMhh3Jk28KzD0PH\nq+6xoHbaeiLl283nWUfXl3wu3hJXVibnc1U+x6vddn8+i9gdlA2EVvV9EN2XWbdq+bLPOeVvI479\nufzHI9tkYihXzvG0+0yoO57PZJQ5FraeDNweS/y3pMm+D7wqpY+AF+lc4hVVP58An8ko324+k0We\nJreNuKejGZXp9wNoEC1pU/mq8pBZv6psZfRsxNDxqjtROpa2ngxsTCafZx15qtVlNH+T9gIiOX4B\nCtisQEGTxchvm8tnrM9ORT5l5VuVqcKnGc+qMuS2VSZfd/L5BzTXr1OuPdpR/ueMHytj1YXqGMot\n71TVTuPBYtW2xmq3nVhcRjXspXyq1m1Vvgo2upPvx4OxMp5V5qzjQguJ62T7iGyIlWhHeBNx/+1C\nFLXdiYKcHsX1iO4u4irN/gp8PKI+knzvmR0eHHA+64mXlXomhZffZ3Kst7bWVeCTypDyPJjIf8DK\ntJIhp3zaR9e7Uw8BvCEiN3sEBXMWogCe69d5eYTd7Zfaox3lR1CABxSwHCQfKzl1q2IxtUGz8gsT\nnjmYmAgWUxn2o4mrVd2cMZBiox1YTNt6LGkrB3upvQaTdpvVbdbWKJENkoONdMyPEGO+Kj5z8JOW\nL47h4xbETK+T3UhcJ9tNPBa7Ek3KXuYeFMnehoC5k8gC8DKbKvDpJe6O/jR6inCHlbnc6h5ED5TM\nNd4DSV0vfwj5t+aiPNyeinwebMLziqTuvgwZxiqf9vFy4qpLr+MpWIMImKcTud1zrY7r1/U4F6Vj\nvbfEHu0q7zp9kHiQIRcrOXXfTDUMfWaM8pcnPHMwMREsFmVYk1E3ZwzMTD5PNhaLbZ1HPvZSex1C\nOeZj1W3WlusqBxvpmN+MMlnGg88c/KTli2PY2zrmlGZDeArPVhpvUJtCvPljtpUfRLvDHuIlDTdZ\nmU1IYbl80s9plHgV8RLU/yVyziaujCzKnGZ2rKjAJ5Uh5TlYqLutpG7V8sVIeCpfWn+IuHN7MwLL\nIpS25n1L7dfMHu0oP4QeHjqdxhvhcrCSU7cqFnPKV8XWRLHotIq4CjUHf83abTcW07Ycd7nYS9vN\nqdusrSHiuudcbKT4HGJ8+KyKt2dcNstZ6Djgd0qUpS+lqUPbKU8jcj77x8GnyHMLR6dTnYXyNp+0\n8mUyp2Vy+aQypDyHiTtVetDuoJUMOeWLekvlK6tf1N1fkO+tqPdm9mhH+VTmHpTnW5Qzx67N6lbF\nYpXyVTExESxC46SWg79m7bYbi2V9LOqwGTZy9J/WbdZWcQHIxUarMZ+Dz8mY+54R9B6OTgsqpi+l\nZcrKT5RPM54pn3m0Ll8sU5XPWPLnylClfJl855R8blX/eH3vNB6s5NQdL/9cvaXlq9ipKg5y61bR\nVbuxOBHsjUf/zXSVg42cMT9Z+MkZwzXVVFNNNdVUU0011VRTTTXVVFNNNdVUU0011VRTTTXVVFNN\nNdVUU0011dQG+j8l5IuW7Z4JMQAAAABJRU5ErkJggg==\n",
      "text/plain": [
       "<matplotlib.figure.Figure at 0x51ccc10>"
      ]
     },
     "metadata": {},
     "output_type": "display_data"
    }
   ],
   "source": [
    "frame.plot(kind=\"bar\")"
   ]
  },
  {
   "cell_type": "code",
   "execution_count": 36,
   "metadata": {
    "collapsed": false
   },
   "outputs": [],
   "source": [
    "frame= frame.sort_index()"
   ]
  },
  {
   "cell_type": "code",
   "execution_count": 37,
>>>>>>> 51f20ee929ed2b9202c4f3ffb3d9a5e27ccd8ad0
   "metadata": {
    "collapsed": false
   },
   "outputs": [
    {
     "data": {
      "text/html": [
       "<div style=\"max-height:1000px;max-width:1500px;overflow:auto;\">\n",
       "<table border=\"1\" class=\"dataframe\">\n",
       "  <thead>\n",
       "    <tr style=\"text-align: right;\">\n",
       "      <th></th>\n",
       "      <th>0</th>\n",
       "    </tr>\n",
       "  </thead>\n",
       "  <tbody>\n",
       "    <tr>\n",
       "      <th>4.448</th>\n",
       "      <td> 1</td>\n",
       "    </tr>\n",
       "    <tr>\n",
       "      <th>4.456</th>\n",
       "      <td> 2</td>\n",
       "    </tr>\n",
       "    <tr>\n",
       "      <th>4.472</th>\n",
       "      <td> 1</td>\n",
       "    </tr>\n",
       "    <tr>\n",
       "      <th>4.496</th>\n",
       "      <td> 2</td>\n",
       "    </tr>\n",
       "    <tr>\n",
       "      <th>4.504</th>\n",
       "      <td> 1</td>\n",
       "    </tr>\n",
       "  </tbody>\n",
       "</table>\n",
       "</div>"
      ],
      "text/plain": [
       "       0\n",
       "4.448  1\n",
       "4.456  2\n",
       "4.472  1\n",
       "4.496  2\n",
       "4.504  1"
      ]
     },
<<<<<<< HEAD
     "execution_count": 8,
=======
     "execution_count": 37,
>>>>>>> 51f20ee929ed2b9202c4f3ffb3d9a5e27ccd8ad0
     "metadata": {},
     "output_type": "execute_result"
    }
   ],
   "source": [
    "frame.head()"
   ]
  },
  {
   "cell_type": "code",
<<<<<<< HEAD
   "execution_count": 9,
=======
   "execution_count": 38,
>>>>>>> 51f20ee929ed2b9202c4f3ffb3d9a5e27ccd8ad0
   "metadata": {
    "collapsed": false
   },
   "outputs": [
    {
<<<<<<< HEAD
     "ename": "KeyError",
     "evalue": "1",
     "output_type": "error",
     "traceback": [
      "\u001b[0;31m---------------------------------------------------------------------------\u001b[0m",
      "\u001b[0;31mKeyError\u001b[0m                                  Traceback (most recent call last)",
      "\u001b[0;32m<ipython-input-9-ac2589ccb510>\u001b[0m in \u001b[0;36m<module>\u001b[0;34m()\u001b[0m\n\u001b[1;32m      1\u001b[0m \u001b[0mframe\u001b[0m \u001b[0;34m=\u001b[0m \u001b[0mpd\u001b[0m\u001b[0;34m.\u001b[0m\u001b[0mDataFrame\u001b[0m\u001b[0;34m.\u001b[0m\u001b[0mfrom_dict\u001b[0m\u001b[0;34m(\u001b[0m\u001b[0mdist\u001b[0m\u001b[0;34m,\u001b[0m\u001b[0morient\u001b[0m\u001b[0;34m=\u001b[0m\u001b[0;34m\"index\"\u001b[0m\u001b[0;34m)\u001b[0m\u001b[0;34m\u001b[0m\u001b[0m\n\u001b[0;32m----> 2\u001b[0;31m \u001b[0mframe\u001b[0m\u001b[0;34m.\u001b[0m\u001b[0mset_index\u001b[0m\u001b[0;34m(\u001b[0m\u001b[0mrange\u001b[0m\u001b[0;34m(\u001b[0m\u001b[0mlen\u001b[0m\u001b[0;34m(\u001b[0m\u001b[0mdist\u001b[0m\u001b[0;34m)\u001b[0m\u001b[0;34m)\u001b[0m\u001b[0;34m)\u001b[0m\u001b[0;34m\u001b[0m\u001b[0m\n\u001b[0m",
      "\u001b[0;32m/Users/erinellefsen/PycharmProjects/Summer2015env/lib/python2.7/site-packages/pandas/core/frame.pyc\u001b[0m in \u001b[0;36mset_index\u001b[0;34m(self, keys, drop, append, inplace, verify_integrity)\u001b[0m\n\u001b[1;32m   2262\u001b[0m                 \u001b[0mnames\u001b[0m\u001b[0;34m.\u001b[0m\u001b[0mappend\u001b[0m\u001b[0;34m(\u001b[0m\u001b[0mNone\u001b[0m\u001b[0;34m)\u001b[0m\u001b[0;34m\u001b[0m\u001b[0m\n\u001b[1;32m   2263\u001b[0m             \u001b[0;32melse\u001b[0m\u001b[0;34m:\u001b[0m\u001b[0;34m\u001b[0m\u001b[0m\n\u001b[0;32m-> 2264\u001b[0;31m                 \u001b[0mlevel\u001b[0m \u001b[0;34m=\u001b[0m \u001b[0mframe\u001b[0m\u001b[0;34m[\u001b[0m\u001b[0mcol\u001b[0m\u001b[0;34m]\u001b[0m\u001b[0;34m.\u001b[0m\u001b[0mvalues\u001b[0m\u001b[0;34m\u001b[0m\u001b[0m\n\u001b[0m\u001b[1;32m   2265\u001b[0m                 \u001b[0mnames\u001b[0m\u001b[0;34m.\u001b[0m\u001b[0mappend\u001b[0m\u001b[0;34m(\u001b[0m\u001b[0mcol\u001b[0m\u001b[0;34m)\u001b[0m\u001b[0;34m\u001b[0m\u001b[0m\n\u001b[1;32m   2266\u001b[0m                 \u001b[0;32mif\u001b[0m \u001b[0mdrop\u001b[0m\u001b[0;34m:\u001b[0m\u001b[0;34m\u001b[0m\u001b[0m\n",
      "\u001b[0;32m/Users/erinellefsen/PycharmProjects/Summer2015env/lib/python2.7/site-packages/pandas/core/frame.pyc\u001b[0m in \u001b[0;36m__getitem__\u001b[0;34m(self, key)\u001b[0m\n\u001b[1;32m   1682\u001b[0m             \u001b[0;32mreturn\u001b[0m \u001b[0mself\u001b[0m\u001b[0;34m.\u001b[0m\u001b[0m_getitem_multilevel\u001b[0m\u001b[0;34m(\u001b[0m\u001b[0mkey\u001b[0m\u001b[0;34m)\u001b[0m\u001b[0;34m\u001b[0m\u001b[0m\n\u001b[1;32m   1683\u001b[0m         \u001b[0;32melse\u001b[0m\u001b[0;34m:\u001b[0m\u001b[0;34m\u001b[0m\u001b[0m\n\u001b[0;32m-> 1684\u001b[0;31m             \u001b[0;32mreturn\u001b[0m \u001b[0mself\u001b[0m\u001b[0;34m.\u001b[0m\u001b[0m_getitem_column\u001b[0m\u001b[0;34m(\u001b[0m\u001b[0mkey\u001b[0m\u001b[0;34m)\u001b[0m\u001b[0;34m\u001b[0m\u001b[0m\n\u001b[0m\u001b[1;32m   1685\u001b[0m \u001b[0;34m\u001b[0m\u001b[0m\n\u001b[1;32m   1686\u001b[0m     \u001b[0;32mdef\u001b[0m \u001b[0m_getitem_column\u001b[0m\u001b[0;34m(\u001b[0m\u001b[0mself\u001b[0m\u001b[0;34m,\u001b[0m \u001b[0mkey\u001b[0m\u001b[0;34m)\u001b[0m\u001b[0;34m:\u001b[0m\u001b[0;34m\u001b[0m\u001b[0m\n",
      "\u001b[0;32m/Users/erinellefsen/PycharmProjects/Summer2015env/lib/python2.7/site-packages/pandas/core/frame.pyc\u001b[0m in \u001b[0;36m_getitem_column\u001b[0;34m(self, key)\u001b[0m\n\u001b[1;32m   1689\u001b[0m         \u001b[0;31m# get column\u001b[0m\u001b[0;34m\u001b[0m\u001b[0;34m\u001b[0m\u001b[0m\n\u001b[1;32m   1690\u001b[0m         \u001b[0;32mif\u001b[0m \u001b[0mself\u001b[0m\u001b[0;34m.\u001b[0m\u001b[0mcolumns\u001b[0m\u001b[0;34m.\u001b[0m\u001b[0mis_unique\u001b[0m\u001b[0;34m:\u001b[0m\u001b[0;34m\u001b[0m\u001b[0m\n\u001b[0;32m-> 1691\u001b[0;31m             \u001b[0;32mreturn\u001b[0m \u001b[0mself\u001b[0m\u001b[0;34m.\u001b[0m\u001b[0m_get_item_cache\u001b[0m\u001b[0;34m(\u001b[0m\u001b[0mkey\u001b[0m\u001b[0;34m)\u001b[0m\u001b[0;34m\u001b[0m\u001b[0m\n\u001b[0m\u001b[1;32m   1692\u001b[0m \u001b[0;34m\u001b[0m\u001b[0m\n\u001b[1;32m   1693\u001b[0m         \u001b[0;31m# duplicate columns & possible reduce dimensionaility\u001b[0m\u001b[0;34m\u001b[0m\u001b[0;34m\u001b[0m\u001b[0m\n",
      "\u001b[0;32m/Users/erinellefsen/PycharmProjects/Summer2015env/lib/python2.7/site-packages/pandas/core/generic.pyc\u001b[0m in \u001b[0;36m_get_item_cache\u001b[0;34m(self, item)\u001b[0m\n\u001b[1;32m   1050\u001b[0m         \u001b[0mres\u001b[0m \u001b[0;34m=\u001b[0m \u001b[0mcache\u001b[0m\u001b[0;34m.\u001b[0m\u001b[0mget\u001b[0m\u001b[0;34m(\u001b[0m\u001b[0mitem\u001b[0m\u001b[0;34m)\u001b[0m\u001b[0;34m\u001b[0m\u001b[0m\n\u001b[1;32m   1051\u001b[0m         \u001b[0;32mif\u001b[0m \u001b[0mres\u001b[0m \u001b[0;32mis\u001b[0m \u001b[0mNone\u001b[0m\u001b[0;34m:\u001b[0m\u001b[0;34m\u001b[0m\u001b[0m\n\u001b[0;32m-> 1052\u001b[0;31m             \u001b[0mvalues\u001b[0m \u001b[0;34m=\u001b[0m \u001b[0mself\u001b[0m\u001b[0;34m.\u001b[0m\u001b[0m_data\u001b[0m\u001b[0;34m.\u001b[0m\u001b[0mget\u001b[0m\u001b[0;34m(\u001b[0m\u001b[0mitem\u001b[0m\u001b[0;34m)\u001b[0m\u001b[0;34m\u001b[0m\u001b[0m\n\u001b[0m\u001b[1;32m   1053\u001b[0m             \u001b[0mres\u001b[0m \u001b[0;34m=\u001b[0m \u001b[0mself\u001b[0m\u001b[0;34m.\u001b[0m\u001b[0m_box_item_values\u001b[0m\u001b[0;34m(\u001b[0m\u001b[0mitem\u001b[0m\u001b[0;34m,\u001b[0m \u001b[0mvalues\u001b[0m\u001b[0;34m)\u001b[0m\u001b[0;34m\u001b[0m\u001b[0m\n\u001b[1;32m   1054\u001b[0m             \u001b[0mcache\u001b[0m\u001b[0;34m[\u001b[0m\u001b[0mitem\u001b[0m\u001b[0;34m]\u001b[0m \u001b[0;34m=\u001b[0m \u001b[0mres\u001b[0m\u001b[0;34m\u001b[0m\u001b[0m\n",
      "\u001b[0;32m/Users/erinellefsen/PycharmProjects/Summer2015env/lib/python2.7/site-packages/pandas/core/internals.pyc\u001b[0m in \u001b[0;36mget\u001b[0;34m(self, item)\u001b[0m\n\u001b[1;32m   2535\u001b[0m \u001b[0;34m\u001b[0m\u001b[0m\n\u001b[1;32m   2536\u001b[0m             \u001b[0;32mif\u001b[0m \u001b[0;32mnot\u001b[0m \u001b[0misnull\u001b[0m\u001b[0;34m(\u001b[0m\u001b[0mitem\u001b[0m\u001b[0;34m)\u001b[0m\u001b[0;34m:\u001b[0m\u001b[0;34m\u001b[0m\u001b[0m\n\u001b[0;32m-> 2537\u001b[0;31m                 \u001b[0mloc\u001b[0m \u001b[0;34m=\u001b[0m \u001b[0mself\u001b[0m\u001b[0;34m.\u001b[0m\u001b[0mitems\u001b[0m\u001b[0;34m.\u001b[0m\u001b[0mget_loc\u001b[0m\u001b[0;34m(\u001b[0m\u001b[0mitem\u001b[0m\u001b[0;34m)\u001b[0m\u001b[0;34m\u001b[0m\u001b[0m\n\u001b[0m\u001b[1;32m   2538\u001b[0m             \u001b[0;32melse\u001b[0m\u001b[0;34m:\u001b[0m\u001b[0;34m\u001b[0m\u001b[0m\n\u001b[1;32m   2539\u001b[0m                 \u001b[0mindexer\u001b[0m \u001b[0;34m=\u001b[0m \u001b[0mnp\u001b[0m\u001b[0;34m.\u001b[0m\u001b[0marange\u001b[0m\u001b[0;34m(\u001b[0m\u001b[0mlen\u001b[0m\u001b[0;34m(\u001b[0m\u001b[0mself\u001b[0m\u001b[0;34m.\u001b[0m\u001b[0mitems\u001b[0m\u001b[0;34m)\u001b[0m\u001b[0;34m)\u001b[0m\u001b[0;34m[\u001b[0m\u001b[0misnull\u001b[0m\u001b[0;34m(\u001b[0m\u001b[0mself\u001b[0m\u001b[0;34m.\u001b[0m\u001b[0mitems\u001b[0m\u001b[0;34m)\u001b[0m\u001b[0;34m]\u001b[0m\u001b[0;34m\u001b[0m\u001b[0m\n",
      "\u001b[0;32m/Users/erinellefsen/PycharmProjects/Summer2015env/lib/python2.7/site-packages/pandas/core/index.pyc\u001b[0m in \u001b[0;36mget_loc\u001b[0;34m(self, key)\u001b[0m\n\u001b[1;32m   1154\u001b[0m         \u001b[0mloc\u001b[0m \u001b[0;34m:\u001b[0m \u001b[0mint\u001b[0m \u001b[0;32mif\u001b[0m \u001b[0munique\u001b[0m \u001b[0mindex\u001b[0m\u001b[0;34m,\u001b[0m \u001b[0mpossibly\u001b[0m \u001b[0mslice\u001b[0m \u001b[0;32mor\u001b[0m \u001b[0mmask\u001b[0m \u001b[0;32mif\u001b[0m \u001b[0;32mnot\u001b[0m\u001b[0;34m\u001b[0m\u001b[0m\n\u001b[1;32m   1155\u001b[0m         \"\"\"\n\u001b[0;32m-> 1156\u001b[0;31m         \u001b[0;32mreturn\u001b[0m \u001b[0mself\u001b[0m\u001b[0;34m.\u001b[0m\u001b[0m_engine\u001b[0m\u001b[0;34m.\u001b[0m\u001b[0mget_loc\u001b[0m\u001b[0;34m(\u001b[0m\u001b[0m_values_from_object\u001b[0m\u001b[0;34m(\u001b[0m\u001b[0mkey\u001b[0m\u001b[0;34m)\u001b[0m\u001b[0;34m)\u001b[0m\u001b[0;34m\u001b[0m\u001b[0m\n\u001b[0m\u001b[1;32m   1157\u001b[0m \u001b[0;34m\u001b[0m\u001b[0m\n\u001b[1;32m   1158\u001b[0m     \u001b[0;32mdef\u001b[0m \u001b[0mget_value\u001b[0m\u001b[0;34m(\u001b[0m\u001b[0mself\u001b[0m\u001b[0;34m,\u001b[0m \u001b[0mseries\u001b[0m\u001b[0;34m,\u001b[0m \u001b[0mkey\u001b[0m\u001b[0;34m)\u001b[0m\u001b[0;34m:\u001b[0m\u001b[0;34m\u001b[0m\u001b[0m\n",
      "\u001b[0;32mindex.pyx\u001b[0m in \u001b[0;36mpandas.index.IndexEngine.get_loc (pandas/index.c:3650)\u001b[0;34m()\u001b[0m\n",
      "\u001b[0;32mindex.pyx\u001b[0m in \u001b[0;36mpandas.index.IndexEngine.get_loc (pandas/index.c:3528)\u001b[0;34m()\u001b[0m\n",
      "\u001b[0;32mhashtable.pyx\u001b[0m in \u001b[0;36mpandas.hashtable.Int64HashTable.get_item (pandas/hashtable.c:7032)\u001b[0;34m()\u001b[0m\n",
      "\u001b[0;32mhashtable.pyx\u001b[0m in \u001b[0;36mpandas.hashtable.Int64HashTable.get_item (pandas/hashtable.c:6973)\u001b[0;34m()\u001b[0m\n",
      "\u001b[0;31mKeyError\u001b[0m: 1"
     ]
=======
     "data": {
      "text/html": [
       "<div style=\"max-height:1000px;max-width:1500px;overflow:auto;\">\n",
       "<table border=\"1\" class=\"dataframe\">\n",
       "  <thead>\n",
       "    <tr style=\"text-align: right;\">\n",
       "      <th></th>\n",
       "      <th>0</th>\n",
       "    </tr>\n",
       "  </thead>\n",
       "  <tbody>\n",
       "    <tr>\n",
       "      <th>5.440</th>\n",
       "      <td> 1</td>\n",
       "    </tr>\n",
       "    <tr>\n",
       "      <th>5.472</th>\n",
       "      <td> 1</td>\n",
       "    </tr>\n",
       "    <tr>\n",
       "      <th>5.504</th>\n",
       "      <td> 1</td>\n",
       "    </tr>\n",
       "    <tr>\n",
       "      <th>5.528</th>\n",
       "      <td> 1</td>\n",
       "    </tr>\n",
       "    <tr>\n",
       "      <th>5.544</th>\n",
       "      <td> 1</td>\n",
       "    </tr>\n",
       "  </tbody>\n",
       "</table>\n",
       "</div>"
      ],
      "text/plain": [
       "       0\n",
       "5.440  1\n",
       "5.472  1\n",
       "5.504  1\n",
       "5.528  1\n",
       "5.544  1"
      ]
     },
     "execution_count": 38,
     "metadata": {},
     "output_type": "execute_result"
>>>>>>> 51f20ee929ed2b9202c4f3ffb3d9a5e27ccd8ad0
    }
   ],
   "source": [
    "frame.tail()"
   ]
  },
  {
   "cell_type": "code",
<<<<<<< HEAD
   "execution_count": null,
   "metadata": {
    "collapsed": false
   },
   "outputs": [],
=======
   "execution_count": 65,
   "metadata": {
    "collapsed": false
   },
   "outputs": [
    {
     "name": "stdout",
     "output_type": "stream",
     "text": [
      "4.44799995552\n",
      "4.50279995497\n"
     ]
    }
   ],
>>>>>>> 51f20ee929ed2b9202c4f3ffb3d9a5e27ccd8ad0
   "source": [
    "import collections\n",
    "\n",
    "d = collections.OrderedDict(sorted(dist.items()))\n",
    "#print(d)\n",
    "def makeRanges(d):\n",
    "    res = {}\n",
    "    keys = d.keys()\n",
    "    mini = keys[0]\n",
    "    print(mini)\n",
    "    maxi = keys[len(d)-1]\n",
    "    diff = maxi - mini\n",
    "    stepSize = diff/20\n",
    "    currentRange = mini+stepSize\n",
    "    k = mini\n",
    "    acc = 0\n",
    "    print(currentRange)\n",
    "    for k,v in d.iteritems():\n",
    "        \n",
    "        if k < currentRange:\n",
    "            acc +=v\n",
    "        else:\n",
    "            \n",
    "            res[currentRange] = acc\n",
    "            currentRange += stepSize\n",
    "            acc =0\n",
    "    return collections.OrderedDict(sorted(res.items()))\n",
    "    '''as you go through the ordered dict, set the first range tostop at the minimim plus the step size.  \n",
    "    while the key is less than the current range, accumlate the values. \n",
    "    once the key is greater than the currrent range, increment the range by a step size and start over. '''\n",
    "newD=makeRanges(d)\n",
    "\n"
   ]
  },
  {
   "cell_type": "code",
   "execution_count": 67,
   "metadata": {
    "collapsed": false
   },
   "outputs": [
    {
     "data": {
      "text/plain": [
       "<matplotlib.axes.AxesSubplot at 0x66579d0>"
      ]
     },
     "execution_count": 67,
     "metadata": {},
     "output_type": "execute_result"
    },
    {
     "data": {
      "image/png": "iVBORw0KGgoAAAANSUhEUgAAAW0AAAFFCAYAAAAn/rx5AAAABHNCSVQICAgIfAhkiAAAAAlwSFlz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\nYII=\n",
      "text/plain": [
       "<matplotlib.figure.Figure at 0x66577d0>"
      ]
     },
     "metadata": {},
     "output_type": "display_data"
    }
   ],
   "source": [
    "pd.DataFrame.from_dict(newD, orient=\"index\").plot(kind=\"bar\")"
   ]
  },
  {
   "cell_type": "code",
   "execution_count": null,
   "metadata": {
    "collapsed": true
   },
   "outputs": [],
   "source": []
  }
 ],
 "metadata": {
  "kernelspec": {
   "display_name": "Python 2",
   "language": "python",
   "name": "python2"
  },
  "language_info": {
   "codemirror_mode": {
    "name": "ipython",
    "version": 2
   },
   "file_extension": ".py",
   "mimetype": "text/x-python",
   "name": "python",
   "nbconvert_exporter": "python",
   "pygments_lexer": "ipython2",
   "version": "2.7.5"
  }
 },
 "nbformat": 4,
 "nbformat_minor": 0
}
