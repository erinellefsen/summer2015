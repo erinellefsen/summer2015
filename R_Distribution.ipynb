{
 "cells": [
  {
   "cell_type": "code",
   "execution_count": 1,
   "metadata": {
    "collapsed": false
   },
   "outputs": [
    {
     "name": "stderr",
     "output_type": "stream",
     "text": [
      "/home/students/doorjo01/research/researchEnv/local/lib/python2.7/site-packages/pandas/io/excel.py:626: UserWarning: Installed openpyxl is not supported at this time. Use >=1.6.1 and <2.0.0.\n",
      "  .format(openpyxl_compat.start_ver, openpyxl_compat.stop_ver))\n"
     ]
    }
   ],
   "source": [
    "import graph\n",
    "import disease\n",
    "import pandas as pd\n",
    "import matplotlib.pyplot as plt \n",
    "import pylab as pl\n",
    "import numpy as np\n",
    "import collections\n",
    "%matplotlib inline"
   ]
  },
  {
   "cell_type": "code",
   "execution_count": null,
   "metadata": {
    "collapsed": false
   },
   "outputs": [
    {
     "name": "stdout",
     "output_type": "stream",
     "text": [
      "50\n",
      "100"
     ]
    }
   ],
   "source": [
    "titleLst = [\"Dist_Repoductive_Num_20_Percent\",\"Dist_Repoductive_Num_40_Percent\",\"Dist_Repoductive_Num_60_Percent\",\"Dist_Repoductive_Num_80_Percent\",\"Dist_Repoductive_Num_100_Percent\"]\n",
    "for i in range(4):\n",
    "    trials = 1000\n",
    "    dist = {}\n",
    "    connectionLst = []\n",
    "    basic = False\n",
    "    for x in range(1,trials):\n",
    "        if x%50 == 0: print(x)\n",
    "        g = graph.Graph(8, .1, 0, 200*(i+1))   #k,p,r,%infected,%vaccinated\n",
    "        g.makeVertices(1000)         #of people\n",
    "        g.makeConnections(.005)         #prob they are connected\n",
    "        r = g.calculateR(basic)\n",
    "    #print(r)\n",
    "        if r not in dist: #problem with float equality    \n",
    "            dist[r]=1\n",
    "        else:\n",
    "            dist[r] += 1\n",
    "    distGraph(dist,save =True,filename=titleLst[i],basic = basic)\n",
    "\n",
    "#for vert in g.getVertices():\n",
    "#    x =len(vert.getConnections())  \n",
    "#    connectionLst.append(x)\n",
    "    \n",
    "#sum(connectionLst)/250.0"
   ]
  },
  {
   "cell_type": "code",
   "execution_count": 2,
   "metadata": {
    "collapsed": false
   },
   "outputs": [],
   "source": [
    "def makeRanges(d,numColumns):\n",
    "    res = {}\n",
    "    keys = d.keys()\n",
    "    mini = keys[0]\n",
    "    maxi = keys[len(d)-1]\n",
    "    diff = maxi - mini\n",
    "    stepSize = diff/numColumns\n",
    "    \n",
    "    currentRange = mini+stepSize\n",
    "    k = mini\n",
    "    acc = 0\n",
    "    for k,v in d.iteritems(): \n",
    "        \n",
    "        \n",
    "        \n",
    "        if k < currentRange:\n",
    "            acc +=v\n",
    "        else: \n",
    "            res[\"%.3f\" %(currentRange)] = acc\n",
    "            while k > currentRange:\n",
    "                currentRange += stepSize\n",
    "                res[\"%.3f\" %(currentRange)] = 0\n",
    "            acc = v\n",
    "    print(len(res.keys()))\n",
    "    return collections.OrderedDict(sorted(res.items()))\n",
    "\n",
    "def distGraph(dist, save=False,filename=\"output\",basic=False):\n",
    "    '''\n",
    "    Given a distribution dictionary, this function graphs the distribution\n",
    "    Include a save option later\n",
    "    '''\n",
    "    numTrials = 20.0\n",
    "    d = collections.OrderedDict(sorted(dist.items()))\n",
    "    newD = makeRanges(d,numTrials)\n",
    "    df = pd.DataFrame.from_dict(newD,orient=\"index\")\n",
    "    df[1]=df.index\n",
    "    df[0] = df[0]/numTrials\n",
    "    ind = np.array(df[1])\n",
    "    \n",
    "    plt.suptitle(\"Distribution of Reproductive Number\",fontsize=14)\n",
    "    print(len(df[0]))\n",
    "    x_pos = formatGraph(numTrials,df,basic)\n",
    "    plt.bar(x_pos,df[0])\n",
    "    \n",
    "    print(\"done one\")\n",
    "    if save:\n",
    "        #fig = pyplot.get_figure()\n",
    "        #fig = plt.figure()\n",
    "        plt.savefig('graphDir/'+filename+'.pdf')\n",
    "        plt.clf()\n",
    "        \n",
    "        \n",
    "def formatGraph(numTrials,df,basic):\n",
    "    if basic: subTitle=\"Basic \"\n",
    "    else: subTitle=\"\"\n",
    "\n",
    "    plt.suptitle(\"Distribution of %sReproductive Number\" %(subTitle), fontsize=14)\n",
    "    x_pos = np.arange(len(df[0]))\n",
    "    lst1,lst2 = getTicks(numTrials,df)\n",
    "    plt.xticks(lst1,lst2,horizontalalignment=\"left\")\n",
    "    plt.ylabel('Frequency')\n",
    "    plt.xlabel('R')\n",
    "    \n",
    "    return x_pos\n",
    "def getTicks(numTrials,df):\n",
    "    pos = []\n",
    "    ticks =[]\n",
    "    for i in range(len(df)):\n",
    "        if (i+1)%5 == 0:\n",
    "            pos.append(i)\n",
    "            ticks.append(df[1].iloc[i])\n",
    "    return pos, ticks\n",
    "        "
   ]
  },
  {
   "cell_type": "code",
   "execution_count": 50,
   "metadata": {
    "collapsed": false
   },
   "outputs": [
    {
     "name": "stdout",
     "output_type": "stream",
     "text": [
      "done one\n"
     ]
    },
    {
     "data": {
      "image/png": "[encoded data removed]",
      "text/plain": [
       "<matplotlib.figure.Figure at 0x4a50cd0>"
      ]
     },
     "metadata": {},
     "output_type": "display_data"
    }
   ],
   "source": [
    "\n",
    "\n",
    "distGraph(dist,save=True)"
   ]
  },
  {
   "cell_type": "code",
   "execution_count": 39,
   "metadata": {
    "collapsed": false
   },
   "outputs": [],
   "source": [
    "frame = pd.DataFrame.from_dict(dist,orient=\"index\")\n",
    "\n"
   ]
  },
  {
   "cell_type": "code",
   "execution_count": 28,
   "metadata": {
    "collapsed": false
   },
   "outputs": [
    {
     "data": {
      "text/plain": [
       "<matplotlib.axes.AxesSubplot at 0x4d6fe90>"
      ]
     },
     "execution_count": 28,
     "metadata": {},
     "output_type": "execute_result"
    },
    {
     "data": {
      "image/png": "[encoded data removed]",
      "text/plain": [
       "<matplotlib.figure.Figure at 0x51ccc10>"
      ]
     },
     "metadata": {},
     "output_type": "display_data"
    }
   ],
   "source": [
    "frame.plot(kind=\"bar\")"
   ]
  },
  {
   "cell_type": "code",
   "execution_count": 36,
   "metadata": {
    "collapsed": false
   },
   "outputs": [],
   "source": [
    "frame= frame.sort_index()"
   ]
  },
  {
   "cell_type": "code",
   "execution_count": 37,
   "metadata": {
    "collapsed": false
   },
   "outputs": [
    {
     "data": {
      "text/html": [
       "<div style=\"max-height:1000px;max-width:1500px;overflow:auto;\">\n",
       "<table border=\"1\" class=\"dataframe\">\n",
       "  <thead>\n",
       "    <tr style=\"text-align: right;\">\n",
       "      <th></th>\n",
       "      <th>0</th>\n",
       "    </tr>\n",
       "  </thead>\n",
       "  <tbody>\n",
       "    <tr>\n",
       "      <th>4.448</th>\n",
       "      <td> 1</td>\n",
       "    </tr>\n",
       "    <tr>\n",
       "      <th>4.456</th>\n",
       "      <td> 2</td>\n",
       "    </tr>\n",
       "    <tr>\n",
       "      <th>4.472</th>\n",
       "      <td> 1</td>\n",
       "    </tr>\n",
       "    <tr>\n",
       "      <th>4.496</th>\n",
       "      <td> 2</td>\n",
       "    </tr>\n",
       "    <tr>\n",
       "      <th>4.504</th>\n",
       "      <td> 1</td>\n",
       "    </tr>\n",
       "  </tbody>\n",
       "</table>\n",
       "</div>"
      ],
      "text/plain": [
       "       0\n",
       "4.448  1\n",
       "4.456  2\n",
       "4.472  1\n",
       "4.496  2\n",
       "4.504  1"
      ]
     },
     "execution_count": 37,
     "metadata": {},
     "output_type": "execute_result"
    }
   ],
   "source": [
    "frame.head()"
   ]
  },
  {
   "cell_type": "code",
   "execution_count": 38,
   "metadata": {
    "collapsed": false
   },
   "outputs": [
    {
     "data": {
      "text/html": [
       "<div style=\"max-height:1000px;max-width:1500px;overflow:auto;\">\n",
       "<table border=\"1\" class=\"dataframe\">\n",
       "  <thead>\n",
       "    <tr style=\"text-align: right;\">\n",
       "      <th></th>\n",
       "      <th>0</th>\n",
       "    </tr>\n",
       "  </thead>\n",
       "  <tbody>\n",
       "    <tr>\n",
       "      <th>5.440</th>\n",
       "      <td> 1</td>\n",
       "    </tr>\n",
       "    <tr>\n",
       "      <th>5.472</th>\n",
       "      <td> 1</td>\n",
       "    </tr>\n",
       "    <tr>\n",
       "      <th>5.504</th>\n",
       "      <td> 1</td>\n",
       "    </tr>\n",
       "    <tr>\n",
       "      <th>5.528</th>\n",
       "      <td> 1</td>\n",
       "    </tr>\n",
       "    <tr>\n",
       "      <th>5.544</th>\n",
       "      <td> 1</td>\n",
       "    </tr>\n",
       "  </tbody>\n",
       "</table>\n",
       "</div>"
      ],
      "text/plain": [
       "       0\n",
       "5.440  1\n",
       "5.472  1\n",
       "5.504  1\n",
       "5.528  1\n",
       "5.544  1"
      ]
     },
     "execution_count": 38,
     "metadata": {},
     "output_type": "execute_result"
    }
   ],
   "source": [
    "frame.tail()"
   ]
  },
  {
   "cell_type": "code",
   "execution_count": 65,
   "metadata": {
    "collapsed": false
   },
   "outputs": [
    {
     "name": "stdout",
     "output_type": "stream",
     "text": [
      "4.44799995552\n",
      "4.50279995497\n"
     ]
    }
   ],
   "source": [
    "import collections\n",
    "\n",
    "d = collections.OrderedDict(sorted(dist.items()))\n",
    "#print(d)\n",
    "def makeRanges(d):\n",
    "    res = {}\n",
    "    keys = d.keys()\n",
    "    mini = keys[0]\n",
    "    print(mini)\n",
    "    maxi = keys[len(d)-1]\n",
    "    diff = maxi - mini\n",
    "    stepSize = diff/20\n",
    "    currentRange = mini+stepSize\n",
    "    k = mini\n",
    "    acc = 0\n",
    "    print(currentRange)\n",
    "    for k,v in d.iteritems():\n",
    "        \n",
    "        if k < currentRange:\n",
    "            acc +=v\n",
    "        else:\n",
    "            \n",
    "            res[currentRange] = acc\n",
    "            currentRange += stepSize\n",
    "            acc =0\n",
    "    return collections.OrderedDict(sorted(res.items()))\n",
    "    '''as you go through the ordered dict, set the first range tostop at the minimim plus the step size.  \n",
    "    while the key is less than the current range, accumlate the values. \n",
    "    once the key is greater than the currrent range, increment the range by a step size and start over. '''\n",
    "newD=makeRanges(d)\n",
    "\n"
   ]
  },
  {
   "cell_type": "code",
   "execution_count": 23,
   "metadata": {
    "collapsed": false
   },
   "outputs": [
    {
     "data": {
      "text/html": [
       "<div style=\"max-height:1000px;max-width:1500px;overflow:auto;\">\n",
       "<table border=\"1\" class=\"dataframe\">\n",
       "  <thead>\n",
       "    <tr style=\"text-align: right;\">\n",
       "      <th></th>\n",
       "      <th>0</th>\n",
       "    </tr>\n",
       "  </thead>\n",
       "  <tbody>\n",
       "    <tr>\n",
       "      <th>2.335084</th>\n",
       "      <td> 1</td>\n",
       "    </tr>\n",
       "    <tr>\n",
       "      <th>2.152834</th>\n",
       "      <td> 1</td>\n",
       "    </tr>\n",
       "    <tr>\n",
       "      <th>2.420514</th>\n",
       "      <td> 2</td>\n",
       "    </tr>\n",
       "    <tr>\n",
       "      <th>2.329389</th>\n",
       "      <td> 4</td>\n",
       "    </tr>\n",
       "    <tr>\n",
       "      <th>2.238264</th>\n",
       "      <td> 2</td>\n",
       "    </tr>\n",
       "    <tr>\n",
       "      <th>2.147139</th>\n",
       "      <td> 1</td>\n",
       "    </tr>\n",
       "    <tr>\n",
       "      <th>2.414819</th>\n",
       "      <td> 1</td>\n",
       "    </tr>\n",
       "    <tr>\n",
       "      <th>2.323694</th>\n",
       "      <td> 1</td>\n",
       "    </tr>\n",
       "    <tr>\n",
       "      <th>2.317998</th>\n",
       "      <td> 1</td>\n",
       "    </tr>\n",
       "    <tr>\n",
       "      <th>2.226873</th>\n",
       "      <td> 2</td>\n",
       "    </tr>\n",
       "    <tr>\n",
       "      <th>2.044623</th>\n",
       "      <td> 1</td>\n",
       "    </tr>\n",
       "    <tr>\n",
       "      <th>2.130053</th>\n",
       "      <td> 1</td>\n",
       "    </tr>\n",
       "    <tr>\n",
       "      <th>2.306608</th>\n",
       "      <td> 1</td>\n",
       "    </tr>\n",
       "    <tr>\n",
       "      <th>2.033232</th>\n",
       "      <td> 1</td>\n",
       "    </tr>\n",
       "    <tr>\n",
       "      <th>2.392038</th>\n",
       "      <td> 1</td>\n",
       "    </tr>\n",
       "    <tr>\n",
       "      <th>2.300912</th>\n",
       "      <td> 2</td>\n",
       "    </tr>\n",
       "    <tr>\n",
       "      <th>2.448991</th>\n",
       "      <td> 1</td>\n",
       "    </tr>\n",
       "    <tr>\n",
       "      <th>2.027537</th>\n",
       "      <td> 1</td>\n",
       "    </tr>\n",
       "    <tr>\n",
       "      <th>2.295217</th>\n",
       "      <td> 1</td>\n",
       "    </tr>\n",
       "    <tr>\n",
       "      <th>2.204092</th>\n",
       "      <td> 1</td>\n",
       "    </tr>\n",
       "    <tr>\n",
       "      <th>2.107271</th>\n",
       "      <td> 1</td>\n",
       "    </tr>\n",
       "    <tr>\n",
       "      <th>2.283826</th>\n",
       "      <td> 1</td>\n",
       "    </tr>\n",
       "    <tr>\n",
       "      <th>2.192701</th>\n",
       "      <td> 1</td>\n",
       "    </tr>\n",
       "    <tr>\n",
       "      <th>2.369256</th>\n",
       "      <td> 1</td>\n",
       "    </tr>\n",
       "    <tr>\n",
       "      <th>2.278131</th>\n",
       "      <td> 1</td>\n",
       "    </tr>\n",
       "    <tr>\n",
       "      <th>2.056013</th>\n",
       "      <td> 1</td>\n",
       "    </tr>\n",
       "    <tr>\n",
       "      <th>2.363561</th>\n",
       "      <td> 1</td>\n",
       "    </tr>\n",
       "    <tr>\n",
       "      <th>2.272436</th>\n",
       "      <td> 1</td>\n",
       "    </tr>\n",
       "    <tr>\n",
       "      <th>1.987669</th>\n",
       "      <td> 1</td>\n",
       "    </tr>\n",
       "    <tr>\n",
       "      <th>2.357866</th>\n",
       "      <td> 1</td>\n",
       "    </tr>\n",
       "    <tr>\n",
       "      <th>2.266741</th>\n",
       "      <td> 2</td>\n",
       "    </tr>\n",
       "    <tr>\n",
       "      <th>2.084490</th>\n",
       "      <td> 1</td>\n",
       "    </tr>\n",
       "    <tr>\n",
       "      <th>2.443296</th>\n",
       "      <td> 1</td>\n",
       "    </tr>\n",
       "    <tr>\n",
       "      <th>2.352170</th>\n",
       "      <td> 1</td>\n",
       "    </tr>\n",
       "    <tr>\n",
       "      <th>2.078795</th>\n",
       "      <td> 1</td>\n",
       "    </tr>\n",
       "    <tr>\n",
       "      <th>2.437600</th>\n",
       "      <td> 1</td>\n",
       "    </tr>\n",
       "    <tr>\n",
       "      <th>2.346475</th>\n",
       "      <td> 1</td>\n",
       "    </tr>\n",
       "    <tr>\n",
       "      <th>2.255350</th>\n",
       "      <td> 1</td>\n",
       "    </tr>\n",
       "    <tr>\n",
       "      <th>2.073099</th>\n",
       "      <td> 1</td>\n",
       "    </tr>\n",
       "    <tr>\n",
       "      <th>2.249655</th>\n",
       "      <td> 1</td>\n",
       "    </tr>\n",
       "    <tr>\n",
       "      <th>2.158529</th>\n",
       "      <td> 1</td>\n",
       "    </tr>\n",
       "    <tr>\n",
       "      <th>2.426210</th>\n",
       "      <td> 1</td>\n",
       "    </tr>\n",
       "  </tbody>\n",
       "</table>\n",
       "</div>"
      ],
      "text/plain": [
       "          0\n",
       "2.335084  1\n",
       "2.152834  1\n",
       "2.420514  2\n",
       "2.329389  4\n",
       "2.238264  2\n",
       "2.147139  1\n",
       "2.414819  1\n",
       "2.323694  1\n",
       "2.317998  1\n",
       "2.226873  2\n",
       "2.044623  1\n",
       "2.130053  1\n",
       "2.306608  1\n",
       "2.033232  1\n",
       "2.392038  1\n",
       "2.300912  2\n",
       "2.448991  1\n",
       "2.027537  1\n",
       "2.295217  1\n",
       "2.204092  1\n",
       "2.107271  1\n",
       "2.283826  1\n",
       "2.192701  1\n",
       "2.369256  1\n",
       "2.278131  1\n",
       "2.056013  1\n",
       "2.363561  1\n",
       "2.272436  1\n",
       "1.987669  1\n",
       "2.357866  1\n",
       "2.266741  2\n",
       "2.084490  1\n",
       "2.443296  1\n",
       "2.352170  1\n",
       "2.078795  1\n",
       "2.437600  1\n",
       "2.346475  1\n",
       "2.255350  1\n",
       "2.073099  1\n",
       "2.249655  1\n",
       "2.158529  1\n",
       "2.426210  1"
      ]
     },
     "execution_count": 23,
     "metadata": {},
     "output_type": "execute_result"
    }
   ],
   "source": [
    "df = pd.DataFrame.from_dict(dist, orient=\"index\")\n",
    "df"
   ]
  },
  {
   "cell_type": "code",
   "execution_count": 30,
   "metadata": {
    "collapsed": false
   },
   "outputs": [
    {
     "data": {
      "text/plain": [
       "array([ 2.33508444,  2.15283395,  2.42051436,  2.32938911,  2.23826386,\n",
       "        2.14713862,  2.41481903,  2.32369378,  2.31799846,  2.22687321,\n",
       "        2.04462272,  2.13005263,  2.3066078 ,  2.03323206,  2.39203772,\n",
       "        2.30091247,  2.448991  ,  2.02753673,  2.29521714,  2.2040919 ,\n",
       "        2.10727132,  2.28382649,  2.19270124,  2.36925641,  2.27813116,\n",
       "        2.05601337,  2.36356108,  2.27243583,  1.98766944,  2.35786575,\n",
       "        2.2667405 ,  2.08449001,  2.44329567,  2.35217042,  2.07879468,\n",
       "        2.43760034,  2.34647509,  2.25534985,  2.07309936,  2.24965452,\n",
       "        2.15852927,  2.42620969])"
      ]
     },
     "execution_count": 30,
     "metadata": {},
     "output_type": "execute_result"
    }
   ],
   "source": [
    "np.array(dist.keys())"
   ]
  },
  {
   "cell_type": "code",
   "execution_count": null,
   "metadata": {
    "collapsed": true
   },
   "outputs": [],
   "source": []
  }
 ],
 "metadata": {
  "kernelspec": {
   "display_name": "Python 2",
   "language": "python",
   "name": "python2"
  },
  "language_info": {
   "codemirror_mode": {
    "name": "ipython",
    "version": 2
   },
   "file_extension": ".py",
   "mimetype": "text/x-python",
   "name": "python",
   "nbconvert_exporter": "python",
   "pygments_lexer": "ipython2",
   "version": "2.7.5+"
  }
 },
 "nbformat": 4,
 "nbformat_minor": 0
}
