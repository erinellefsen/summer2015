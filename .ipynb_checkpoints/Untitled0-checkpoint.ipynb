{
 "metadata": {
  "name": ""
 },
 "nbformat": 3,
 "nbformat_minor": 0,
 "worksheets": [
  {
   "cells": [
    {
     "cell_type": "code",
     "collapsed": false,
     "input": [
      "%matplotlib inline"
     ],
     "language": "python",
     "metadata": {},
     "outputs": [],
     "prompt_number": 30
    },
    {
     "cell_type": "code",
     "collapsed": false,
     "input": [
      "import matplotlib\n",
      "import numpy as np\n",
      "import matplotlib.pyplot as pl\n",
      "from vertexclass import *\n",
      "import disease\n",
      "import networkx as nx\n",
      "G=nx.Graph()\n",
      "#G.add_node(\"spam\")\n",
      "G.add_edge(1,2)\n",
      "print(G.nodes())\n",
      "[1, 2, 'spam']\n",
      "print(G.edges())\n",
      "[(1, 2)]\n"
     ],
     "language": "python",
     "metadata": {},
     "outputs": [
      {
       "output_type": "stream",
       "stream": "stdout",
       "text": [
        "[1, 2]\n",
        "[(1, 2)]\n"
       ]
      },
      {
       "metadata": {},
       "output_type": "pyout",
       "prompt_number": 31,
       "text": [
        "[(1, 2)]"
       ]
      }
     ],
     "prompt_number": 31
    },
    {
     "cell_type": "code",
     "collapsed": false,
     "input": [
      "d = disease.Disease(5,.02,.05)\n",
      "A = vertexclass.Vertex(\"A\",disease.Disease(3,.45,.1))\n",
      "B = vertexclass.Vertex(\"B\",disease.Disease(3,.45,.1))\n",
      "C = vertexclass.Vertex(\"C\",disease.Disease(3,.45,.1))\n",
      "D = vertexclass.Vertex(\"D\",disease.Disease(3,.45,.1))\n",
      "E = vertexclass.Vertex(\"E\",disease.Disease(3,.45,.1))\n",
      "F = vertexclass.Vertex(\"F\",disease.Disease(3,.45,.1))\n",
      "G = vertexclass.Vertex(\"G\",disease.Disease(3,.45,.1))\n",
      "H = vertexclass.Vertex(\"H\",disease.Disease(3,.45,.1))\n",
      "I = vertexclass.Vertex(\"I\",disease.Disease(3,.45,.1))\n",
      "\n",
      "vertLst = [A,B,C,D,E,F,G,H,I]\n",
      "\n",
      "A.addNeighbor(B)\n",
      "A.addNeighbor(C)\n",
      "B.addNeighbor(D)\n",
      "B.addNeighbor(G)\n",
      "C.addNeighbor(E)\n",
      "C.addNeighbor(F)\n",
      "D.addNeighbor(F)\n",
      "E.addNeighbor(H)\n",
      "F.addNeighbor(H)\n",
      "F.addNeighbor(I)\n",
      "H.addNeighbor(I)"
     ],
     "language": "python",
     "metadata": {},
     "outputs": [],
     "prompt_number": 32
    },
    {
     "cell_type": "code",
     "collapsed": false,
     "input": [
      "Graph=nx.Graph()\n",
      "Graph.add_nodes_from(vertLst)\n",
      "print(B.getConnections())\n",
      "for vert in vertLst:\n",
      "    connections = vert\n",
      "\n",
      "                        \n",
      "nx.draw(Graph)"
     ],
     "language": "python",
     "metadata": {},
     "outputs": [
      {
       "output_type": "stream",
       "stream": "stdout",
       "text": [
        "[S, S, S]\n"
       ]
      },
      {
       "metadata": {},
       "output_type": "display_data",
       "png": "[encoded data removed]",
       "text": [
        "<matplotlib.figure.Figure at 0x445a990>"
       ]
      }
     ],
     "prompt_number": 34
    },
    {
     "cell_type": "code",
     "collapsed": false,
     "input": [],
     "language": "python",
     "metadata": {},
     "outputs": []
    }
   ],
   "metadata": {}
  }
 ]
}