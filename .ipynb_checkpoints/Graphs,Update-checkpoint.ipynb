{
 "cells": [
  {
   "cell_type": "code",
   "execution_count": null,
   "metadata": {
    "collapsed": true
   },
   "outputs": [],
   "source": [
    "import graph\n",
    "import pandas\n",
    "import numpy\n",
    "import matplotlib\n",
    "%matplotlib inline\n",
    "\n",
    "vaccinationpercent = 0\n",
    "orderedpairlistHighEpi = []\n",
    "orderedpairlistLowEpi = []\n",
    "\n",
    "g = graph.Graph(10, .02, 0, .01, vaccinationpercent)   #k,p,r,%infected,%vaccinated\n",
    "g.makeVertices(500)  #g.makeVerticesAndConnections(210,.01)#prob they are connected\n",
    "g.makeConnections(.01)\n",
    "g.saveOriginal()\n",
    "g.update(50)            #number of repetitions, num trials\n",
    "\n",
    "while vaccinationpercent < 1.0:\n",
    "    trials = 60\n",
    "    HighEpi = 0\n",
    "    FinalEpi = 0\n",
    "    for x in range(trials):\n",
    "\n",
    "\n",
    "        if g.getHighEpi():\n",
    "            HighEpi +=1\n",
    "        if g.getFinalEpi():\n",
    "            FinalEpi +=1\n",
    "        g.resetGraph()\n",
    "        g.update(50)\n",
    "        \n",
    "    orderedpairlistHighEpi = orderedpairlistHighEpi + [[vaccinationpercent,(HighEpi/trials)*100]]\n",
    "    orderedpairlistLowEpi = orderedpairlistLowEpi + [[vaccinationpercent, (FinalEpi/trials)*100]]\n",
    "\n",
    "    y = (vaccinationpercent,(HighEpi/trials)*100 , (FinalEpi/trials)*100)\n",
    "    vaccinationpercent += .05\n",
    "df = pandas.DataFrame(orderedpairlistHighEpi)\n",
    "df1 = pandas.DataFrame(orderedpairlistLowEpi)\n",
    "del df[0]\n",
    "del df1[0]\n",
    "df.plot()\n",
    "df1.plot()"
   ]
  }
 ],
 "metadata": {
  "kernelspec": {
   "display_name": "Python 2",
   "language": "python",
   "name": "python2"
  },
  "language_info": {
   "codemirror_mode": {
    "name": "ipython",
    "version": 2
   },
   "file_extension": ".py",
   "mimetype": "text/x-python",
   "name": "python",
   "nbconvert_exporter": "python",
   "pygments_lexer": "ipython2",
   "version": "2.7.5"
  }
 },
 "nbformat": 4,
 "nbformat_minor": 0
}
