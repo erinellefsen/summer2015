{
 "cells": [
  {
   "cell_type": "code",
   "execution_count": 13,
   "metadata": {
    "collapsed": false
   },
   "outputs": [],
   "source": [
    "import graph\n",
    "import pandas\n",
    "import numpy\n",
    "import matplotlib\n",
    "%matplotlib inline"
   ]
  },
  {
   "cell_type": "code",
   "execution_count": 21,
   "metadata": {
    "collapsed": false
   },
   "outputs": [
    {
     "ename": "AttributeError",
     "evalue": "Graph instance has no attribute 'makebetterClusteredConnections'",
     "output_type": "error",
     "traceback": [
      "\u001b[0;31m---------------------------------------------------------------------------\u001b[0m",
      "\u001b[0;31mAttributeError\u001b[0m                            Traceback (most recent call last)",
      "\u001b[0;32m<ipython-input-21-b9ca6acd558e>\u001b[0m in \u001b[0;36m<module>\u001b[0;34m()\u001b[0m\n\u001b[1;32m     10\u001b[0m         \u001b[0mg\u001b[0m \u001b[0;34m=\u001b[0m \u001b[0mgraph\u001b[0m\u001b[0;34m.\u001b[0m\u001b[0mGraph\u001b[0m\u001b[0;34m(\u001b[0m\u001b[0;36m8\u001b[0m\u001b[0;34m,\u001b[0m \u001b[0;36m.9\u001b[0m\u001b[0;34m,\u001b[0m \u001b[0;36m0\u001b[0m\u001b[0;34m,\u001b[0m \u001b[0;36m.02\u001b[0m\u001b[0;34m,\u001b[0m \u001b[0mvaccinationpercent\u001b[0m\u001b[0;34m)\u001b[0m   \u001b[0;31m#k,p,r,%infected,%vaccinated\u001b[0m\u001b[0;34m\u001b[0m\u001b[0m\n\u001b[1;32m     11\u001b[0m         \u001b[0mg\u001b[0m\u001b[0;34m.\u001b[0m\u001b[0mmakeVertices\u001b[0m\u001b[0;34m(\u001b[0m\u001b[0;36m150\u001b[0m\u001b[0;34m)\u001b[0m         \u001b[0;31m#of people\u001b[0m\u001b[0;34m\u001b[0m\u001b[0m\n\u001b[0;32m---> 12\u001b[0;31m         \u001b[0mg\u001b[0m\u001b[0;34m.\u001b[0m\u001b[0mmakebetterClusteredConnections\u001b[0m\u001b[0;34m(\u001b[0m\u001b[0;36m.01\u001b[0m\u001b[0;34m)\u001b[0m         \u001b[0;31m#prob they are connected\u001b[0m\u001b[0;34m\u001b[0m\u001b[0m\n\u001b[0m\u001b[1;32m     13\u001b[0m         \u001b[0mg\u001b[0m\u001b[0;34m.\u001b[0m\u001b[0mupdate\u001b[0m\u001b[0;34m(\u001b[0m\u001b[0;36m50\u001b[0m\u001b[0;34m)\u001b[0m            \u001b[0;31m#number of repetitions, num trials\u001b[0m\u001b[0;34m\u001b[0m\u001b[0m\n\u001b[1;32m     14\u001b[0m         \u001b[0;32mif\u001b[0m \u001b[0mg\u001b[0m\u001b[0;34m.\u001b[0m\u001b[0mgetHighEpi\u001b[0m\u001b[0;34m(\u001b[0m\u001b[0;34m)\u001b[0m\u001b[0;34m:\u001b[0m\u001b[0;34m\u001b[0m\u001b[0m\n",
      "\u001b[0;31mAttributeError\u001b[0m: Graph instance has no attribute 'makebetterClusteredConnections'"
     ]
    }
   ],
   "source": [
    "vaccinationpercent = 0\n",
    "orderedpairlistHighEpi = []\n",
    "orderedpairlistLowEpi = []\n",
    "while vaccinationpercent < 1:\n",
    "    trials = 10\n",
    "    HighEpi = 0\n",
    "    FinalEpi = 0\n",
    "    for x in range(trials):\n",
    "\n",
    "        g = graph.Graph(8, .9, 0, .02, vaccinationpercent)   #k,p,r,%infected,%vaccinated\n",
    "        g.makeVertices(150)         #of people\n",
    "        g.makebetterClusteredConnections(.01)         #prob they are connected\n",
    "        g.update(50)            #number of repetitions, num trials\n",
    "        if g.getHighEpi():\n",
    "            HighEpi += 1\n",
    "        if g.getFinalEpi():\n",
    "            FinalEpi += 1\n",
    "    \n",
    "    orderedpairlistHighEpi = orderedpairlistHighEpi + [[vaccinationpercent,(float(HighEpi)/float(trials))*100]]\n",
    "    orderedpairlistLowEpi = orderedpairlistLowEpi + [[vaccinationpercent, (float(FinalEpi)/float(trials))*100]]\n",
    "\n",
    "    y = (vaccinationpercent,(float(HighEpi)/float(trials))*100 , (float(FinalEpi)/float(trials))*100)\n",
    "    \n",
    "    vaccinationpercent += .05\n",
    "\n",
    "    \n",
    "df = pandas.DataFrame(orderedpairlistHighEpi)\n",
    "df1 = pandas.DataFrame(orderedpairlistLowEpi)\n",
    "del df[0]\n",
    "del df1[0]\n",
    "df.plot()\n",
    "df1.plot()"
   ]
  },
  {
   "cell_type": "code",
   "execution_count": null,
   "metadata": {
    "collapsed": false
   },
   "outputs": [],
   "source": []
  },
  {
   "cell_type": "code",
   "execution_count": null,
   "metadata": {
    "collapsed": false
   },
   "outputs": [],
   "source": []
  },
  {
   "cell_type": "code",
   "execution_count": null,
   "metadata": {
    "collapsed": true
   },
   "outputs": [],
   "source": []
  }
 ],
 "metadata": {
  "kernelspec": {
   "display_name": "Python 2",
   "language": "python",
   "name": "python2"
  },
  "language_info": {
   "codemirror_mode": {
    "name": "ipython",
    "version": 2
   },
   "file_extension": ".py",
   "mimetype": "text/x-python",
   "name": "python",
   "nbconvert_exporter": "python",
   "pygments_lexer": "ipython2",
   "version": "2.7.5"
  }
 },
 "nbformat": 4,
 "nbformat_minor": 0
}
