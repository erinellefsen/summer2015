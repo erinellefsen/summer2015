{
 "metadata": {
  "name": "",
  "signature": "sha256:3075feb3a5adc65ff0ef3c4d6736fe42bf1764645f0f70f6f075adac07de6bfd"
 },
 "nbformat": 3,
 "nbformat_minor": 0,
 "worksheets": [
  {
   "cells": [
    {
     "cell_type": "code",
     "collapsed": false,
     "input": [
      "import graph\n",
      "import pandas\n",
      "import numpy\n",
      "import matplotlib\n",
      "%matplotlib inline"
     ],
     "language": "python",
     "metadata": {},
     "outputs": [],
     "prompt_number": 2
    },
    {
     "cell_type": "code",
     "collapsed": false,
     "input": [
      "vaccinationpercent = 0\n",
      "orderedpairlistHighEpi = []\n",
      "orderedpairlistLowEpi = []\n",
      "while vaccinationpercent < 1.0:\n",
      "    trials = 30\n",
      "    HighEpi = 0\n",
      "    FinalEpi = 0\n",
      "    for x in range(trials):\n",
      "\n",
      "        g = graph.Graph(4, .02, 0, .01, vaccinationpercent)   #k,p,r,%infected,%vaccinated\n",
      "        #g.makeVerticesAndConnections(210,.01)#prob they are connected\n",
      "        g.makeVertices(500)\n",
      "        g.makeConnections(.02)\n",
      "        g.update(50)            #number of repetitions, num trials\n",
      "        if g.getHighEpi():\n",
      "            HighEpi +=1\n",
      "        if g.getFinalEpi():\n",
      "            FinalEpi +=1\n",
      "    orderedpairlistHighEpi = orderedpairlistHighEpi + [[vaccinationpercent,(HighEpi/trials)*100]]\n",
      "    orderedpairlistLowEpi = orderedpairlistLowEpi + [[vaccinationpercent, (FinalEpi/trials)*100]]\n",
      "\n",
      "    y = (vaccinationpercent,(HighEpi/trials)*100 , (FinalEpi/trials)*100)\n",
      "    vaccinationpercent += .05\n",
      "df = pandas.DataFrame(orderedpairlistHighEpi)\n",
      "df1 = pandas.DataFrame(orderedpairlistLowEpi)\n",
      "del df[0]\n",
      "del df1[0]\n",
      "df.plot()\n",
      "df1.plot()"
     ],
     "language": "python",
     "metadata": {},
     "outputs": [
      {
       "ename": "SyntaxError",
       "evalue": "invalid syntax (<ipython-input-40-c939fea2f0cb>, line 4)",
       "output_type": "pyerr",
       "traceback": [
        "\u001b[1;36m  File \u001b[1;32m\"<ipython-input-40-c939fea2f0cb>\"\u001b[1;36m, line \u001b[1;32m4\u001b[0m\n\u001b[1;33m    while vaccinationpercent < 1.0\u001b[0m\n\u001b[1;37m                                  ^\u001b[0m\n\u001b[1;31mSyntaxError\u001b[0m\u001b[1;31m:\u001b[0m invalid syntax\n"
       ]
      }
     ],
     "prompt_number": 40
    },
    {
     "cell_type": "code",
     "collapsed": false,
     "input": [],
     "language": "python",
     "metadata": {},
     "outputs": []
    },
    {
     "cell_type": "code",
     "collapsed": false,
     "input": [],
     "language": "python",
     "metadata": {},
     "outputs": []
    }
   ],
   "metadata": {}
  }
 ]
}