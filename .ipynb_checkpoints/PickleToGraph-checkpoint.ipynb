{
 "cells": [
  {
   "cell_type": "code",
   "execution_count": 1,
   "metadata": {
    "collapsed": false
   },
   "outputs": [
    {
     "name": "stderr",
     "output_type": "stream",
     "text": [
      "/home/students/doorjo01/research/researchEnv/local/lib/python2.7/site-packages/pandas/io/excel.py:626: UserWarning: Installed openpyxl is not supported at this time. Use >=1.6.1 and <2.0.0.\n",
      "  .format(openpyxl_compat.start_ver, openpyxl_compat.stop_ver))\n"
     ]
    }
   ],
   "source": [
    "import graph\n",
    "import disease\n",
    "import pandas as pd\n",
    "import matplotlib.pyplot as plt \n",
    "import pylab as pl\n",
    "import numpy as np\n",
    "import cPickle as pickle\n",
    "import collections\n",
    "import graph\n",
    "import random\n",
    "import params as pm\n",
    "from params import *\n",
    "%matplotlib inline"
   ]
  },
  {
   "cell_type": "code",
   "execution_count": 17,
   "metadata": {
    "collapsed": true
   },
   "outputs": [],
   "source": [
    "\n",
    "\n",
    "filePrefix = \"otherSavedThings/DenseMeasles1--Clustered/savedGraphs--\" #INSERT APPROPRIATE FILE NAME HERE\n",
    "#clusteredGraphs--50.pkl\n",
    "def loadInfo(pop,kind,propI):\n",
    "    lstDct = {}\n",
    "    lstDctPrime = {}\n",
    "    r_0Lst = []\n",
    "    rPrimeLst = []\n",
    "    \n",
    "\n",
    "    for j in range(50):\n",
    "        for i in range(2):\n",
    "            fileN = \"otherSavedThings/\"+pop+\"Measles\"+str(i+1)+\"--\"+kind+\"/savedGraphs--\"\n",
    "            lst = []\n",
    "            lstPrime = []\n",
    "            with open(fileN+str(j+50)+\".pkl\",\"rb\") as inputF:\n",
    "                unPickler = pickle.Unpickler(inputF)\n",
    "                while True:\n",
    "                    try:\n",
    "                        tg1 = unPickler.load()\n",
    "                        g1 = tg1.lift()\n",
    "                        #if g1.r_0 < 16 and g1.r_0>13:\n",
    "                        if pop == \"Rural\":\n",
    "                            if g1.r_0 <6.3 and g1.r_0 >5.4:\n",
    "                                lst.append([g1.r_0,g1.propI])\n",
    "                                lstPrime.append([g1.r_0,g1.propIPrime])\n",
    "                                r_0Lst.append(g1.r_0)\n",
    "                                \n",
    "                        if pop == \"Urban\":\n",
    "                            if g1.r_0 <13 and g1.r_0 >8.3:\n",
    "                                lst.append([g1.r_0,g1.propI])\n",
    "                                lstPrime.append([g1.r_0,g1.propIPrime])\n",
    "                                r_0Lst.append(g1.r_0)                            \n",
    "                        if pop == \"Dense\":\n",
    "                            if g1.r_0 <16.3 and g1.r_0 >12.5:\n",
    "                                lst.append([g1.r_0,g1.propI])\n",
    "                                lstPrime.append([g1.r_0,g1.propIPrime])\n",
    "                                r_0Lst.append(g1.r_0)\n",
    "\n",
    "\n",
    "                    except (EOFError):#,pickle.UnpicklingError):\n",
    "                        break\n",
    "                if (j+50) in lstDct:\n",
    "                    lstDct[j+50] += lst\n",
    "                else:\n",
    "                    lstDct[j+50] = lst\n",
    "\n",
    "                if (j+50) in lstDctPrime:\n",
    "                    lstDctPrime[j+50] += lstPrime\n",
    "                else:\n",
    "                    lstDctPrime[j+50] = lstPrime\n",
    "                inputF.close()\n",
    "            #print(str(i/50.0)+\"% Completed\")\n",
    "    if propI == \"t\":\n",
    "        return lstDct,r_0Lst\n",
    "    elif propI == \"s\":\n",
    "        return lstDctPrime,r_0Lst\n"
   ]
  },
  {
   "cell_type": "code",
   "execution_count": 4,
   "metadata": {
    "collapsed": false
   },
   "outputs": [
    {
     "data": {
      "text/plain": [
       "9000"
      ]
     },
     "execution_count": 4,
     "metadata": {},
     "output_type": "execute_result"
    }
   ],
   "source": [
    "len(r_0Lst)"
   ]
  },
  {
   "cell_type": "code",
   "execution_count": null,
   "metadata": {
    "collapsed": true
   },
   "outputs": [],
   "source": []
  },
  {
   "cell_type": "code",
   "execution_count": 35,
   "metadata": {
    "collapsed": false
   },
   "outputs": [
    {
     "data": {
      "text/plain": [
       "19.244415952722974"
      ]
     },
     "execution_count": 35,
     "metadata": {},
     "output_type": "execute_result"
    }
   ],
   "source": [
    "np.mean(r_0Lst)"
   ]
  },
  {
   "cell_type": "code",
   "execution_count": 6,
   "metadata": {
    "collapsed": false
   },
   "outputs": [
    {
     "name": "stdout",
     "output_type": "stream",
     "text": [
      "180\n"
     ]
    }
   ],
   "source": [
    "print(len(lstDct.values()[2]))"
   ]
  },
  {
   "cell_type": "code",
   "execution_count": 3,
   "metadata": {
    "collapsed": false
   },
   "outputs": [],
   "source": [
    "def propOverFive(lst):\n",
    "    acc=0\n",
    "    total = len(lst)\n",
    "    for i in lst:\n",
    "        if i[1] >.05: #this assumes that lst[1] is propI\n",
    "            acc +=1\n",
    "    return float(acc)/float(total)\n"
   ]
  },
  {
   "cell_type": "code",
   "execution_count": 22,
   "metadata": {
    "collapsed": false
   },
   "outputs": [
    {
     "name": "stdout",
     "output_type": "stream",
     "text": [
      "[50, 51, 52, 53, 54, 55, 56, 57, 58, 59, 60, 61, 62, 63, 64, 65, 66, 67, 68, 69, 70, 71, 72, 73, 74, 75, 76, 77, 78, 79, 80, 81, 82, 83, 84, 85, 86, 87, 88, 89, 90, 91, 92, 93, 94, 95, 96, 97, 98, 99]\n",
      "[1.0, 0.9871794871794872, 0.9937106918238994, 0.9905362776025236, 0.9770491803278688, 0.9967845659163987, 0.9904761904761905, 0.9805194805194806, 0.9842767295597484, 0.98, 0.9838187702265372, 0.9867986798679867, 0.980327868852459, 0.9703947368421053, 0.9668874172185431, 0.9646302250803859, 0.9651898734177216, 0.98125, 0.9483870967741935, 0.9639344262295082, 0.9710610932475884, 0.9803921568627451, 0.954983922829582, 0.9617834394904459, 0.9615384615384616, 0.939873417721519, 0.921875, 0.9053627760252366, 0.9230769230769231, 0.9163879598662207, 0.939297124600639, 0.8808777429467085, 0.9099378881987578, 0.8673139158576052, 0.8338762214983714, 0.8227848101265823, 0.7919254658385093, 0.7662337662337663, 0.7166123778501629, 0.6806451612903226, 0.7087378640776699, 0.5172413793103449, 0.4983388704318937, 0.3181818181818182, 0.2389937106918239, 0.09779179810725552, 0.05573770491803279, 0.016286644951140065, 0.00974025974025974, 0.003194888178913738]\n"
     ]
    },
    {
     "data": {
      "image/png": "[encoded data removed]",
      "text/plain": [
       "<matplotlib.figure.Figure at 0x3dc8750>"
      ]
     },
     "metadata": {},
     "output_type": "display_data"
    }
   ],
   "source": [
    "fig = plt.figure()\n",
    "fig.set_size_inches(18.5, 10.5, forward=True)\n",
    "lDP, rl = loadInfo(\"Rural\", \"Clustered\",\"s\")\n",
    "lDP1, rl1 = loadInfo(\"Rural\",\"Random\",\"s\")\n",
    "lDP2, rl2 = loadInfo(\"Urban\", \"Clustered\",\"s\")\n",
    "lDP3, rl3 = loadInfo(\"Urban\",\"Random\",\"s\")\n",
    "lDP4, rl4 = loadInfo(\"Dense\", \"Clustered\",\"s\")\n",
    "lDP5, rl5 = loadInfo(\"Dense\",\"Random\",\"s\")\n",
    "#lDP2 = loadInfo(\"Rural\", \"Clustered\",\"t\")\n",
    "def makePlot(lstDct,color=\"blue\",shape=\"o\",kind = \"r\"):\n",
    "    xLst = []\n",
    "    yLst = []\n",
    "    for k,v in lstDct.iteritems():\n",
    "        xLst.append(k)\n",
    "        yLst.append(propOverFive(v))\n",
    "    #if kind == \"r\":\n",
    "        #print(yLst[33])\n",
    "    #if kind == \"u\":\n",
    "        #print(yLst[40])\n",
    "    #if kind == \"d\":\n",
    "        #print(yLst[43])\n",
    "    print xLst\n",
    "    print yLst\n",
    "    plt.scatter(xLst,yLst,c= color,marker=shape,s=75)\n",
    "#makePlot(lDP,color=\"pink\",shape=\"d\",kind = \"r\")\n",
    "#makePlot(lDP1,color=\"lightblue\",shape=\"d\",kind=\"r\")\n",
    "\n",
    "#makePlot(lDP2,color=\"salmon\",shape=\"o\",kind=\"u\")\n",
    "#makePlot(lDP3,color=\"dodgerblue\",shape=\"o\",kind=\"u\")\n",
    "\n",
    "makePlot(lDP4,color=\"red\",shape=\"^\",kind=\"d\")\n",
    "#makePlot(lDP5,color=\"blue\",shape=\"^\",kind=\"d\")\n"
   ]
  },
  {
   "cell_type": "code",
   "execution_count": 63,
   "metadata": {
    "collapsed": false
   },
   "outputs": [
    {
     "data": {
      "text/plain": [
       "6.0607271324989407"
      ]
     },
     "execution_count": 63,
     "metadata": {},
     "output_type": "execute_result"
    }
   ],
   "source": [
    "np.mean(rl1)"
   ]
  },
  {
   "cell_type": "code",
   "execution_count": null,
   "metadata": {
    "collapsed": true
   },
   "outputs": [],
   "source": []
  },
  {
   "cell_type": "code",
   "execution_count": null,
   "metadata": {
    "collapsed": true
   },
   "outputs": [],
   "source": []
  },
  {
   "cell_type": "code",
   "execution_count": null,
   "metadata": {
    "collapsed": true
   },
   "outputs": [],
   "source": []
  }
 ],
 "metadata": {
  "kernelspec": {
   "display_name": "Python 2",
   "language": "python",
   "name": "python2"
  },
  "language_info": {
   "codemirror_mode": {
    "name": "ipython",
    "version": 2
   },
   "file_extension": ".py",
   "mimetype": "text/x-python",
   "name": "python",
   "nbconvert_exporter": "python",
   "pygments_lexer": "ipython2",
   "version": "2.7.5+"
  }
 },
 "nbformat": 4,
 "nbformat_minor": 0
}
