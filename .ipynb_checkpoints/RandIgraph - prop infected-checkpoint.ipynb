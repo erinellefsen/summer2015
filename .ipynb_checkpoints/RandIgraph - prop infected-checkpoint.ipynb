{
 "cells": [
  {
   "cell_type": "code",
   "execution_count": 1,
   "metadata": {
    "collapsed": false,
    "scrolled": true
   },
   "outputs": [
    {
     "name": "stderr",
     "output_type": "stream",
     "text": [
      "/home/students/doorjo01/research/researchEnv/local/lib/python2.7/site-packages/pandas/io/excel.py:626: UserWarning: Installed openpyxl is not supported at this time. Use >=1.6.1 and <2.0.0.\n",
      "  .format(openpyxl_compat.start_ver, openpyxl_compat.stop_ver))\n"
     ]
    }
   ],
   "source": [
    "import dirGraphy as graph\n",
    "import random\n",
    "import pandas as pd\n",
    "import matplotlib.pyplot as plt\n",
    "import matplotlib.patches as mpatches\n",
    "import pylab as pl\n",
    "import numpy as np\n",
    "import params as pram\n",
    "import collections\n",
    "import utils\n",
    "%matplotlib inline"
   ]
  },
  {
   "cell_type": "code",
   "execution_count": 13,
   "metadata": {
    "collapsed": false
   },
   "outputs": [
    {
     "name": "stdout",
     "output_type": "stream",
     "text": [
      "HERE LOVE ME\n",
      "[[0.2350000000000002, 0.1, 10]]\n",
      "[[0.2350000000000002, 0.1, 10], [0.45825000000000016, 0.1, 10]]\n",
      "[[0.2350000000000002, 0.1, 10], [0.45825000000000016, 0.1, 10], [0.4991875000000004, 0.2, 10]]\n",
      "[[0.2350000000000002, 0.1, 10], [0.45825000000000016, 0.1, 10], [0.4991875000000004, 0.2, 10], [0.7976231250000005, 0.1, 10]]\n",
      "[[0.2350000000000002, 0.1, 10], [0.45825000000000016, 0.1, 10], [0.4991875000000004, 0.2, 10], [0.7976231250000005, 0.1, 10], [0.972741968750001, 0.5, 10]]\n",
      "Hey shmexy\n",
      "[[0.2350000000000002, 0.1, 10], [0.45825000000000016, 0.1, 10], [0.4991875000000004, 0.2, 10], [0.7976231250000005, 0.1, 10], [0.972741968750001, 0.5, 10], [0.2940400000000004, 0.1, 10]]\n",
      "[[0.2350000000000002, 0.1, 10], [0.45825000000000016, 0.1, 10], [0.4991875000000004, 0.2, 10], [0.7976231250000005, 0.1, 10], [0.972741968750001, 0.5, 10], [0.2940400000000004, 0.1, 10], [0.3493080000000002, 0.1, 10]]\n",
      "[[0.2350000000000002, 0.1, 10], [0.45825000000000016, 0.1, 10], [0.4991875000000004, 0.2, 10], [0.7976231250000005, 0.1, 10], [0.972741968750001, 0.5, 10], [0.2940400000000004, 0.1, 10], [0.3493080000000002, 0.1, 10], [0.6108992000000008, 0.2, 10]]\n",
      "[[0.2350000000000002, 0.1, 10], [0.45825000000000016, 0.1, 10], [0.4991875000000004, 0.2, 10], [0.7976231250000005, 0.1, 10], [0.972741968750001, 0.5, 10], [0.2940400000000004, 0.1, 10], [0.3493080000000002, 0.1, 10], [0.6108992000000008, 0.2, 10], [0.5134500000000004, 0.1, 10]]\n",
      "[[0.2350000000000002, 0.1, 10], [0.45825000000000016, 0.1, 10], [0.4991875000000004, 0.2, 10], [0.7976231250000005, 0.1, 10], [0.972741968750001, 0.5, 10], [0.2940400000000004, 0.1, 10], [0.3493080000000002, 0.1, 10], [0.6108992000000008, 0.2, 10], [0.5134500000000004, 0.1, 10], [0.7284888000000005, 0.2, 10]]\n",
      "[[0.2350000000000002, 0.1, 10], [0.45825000000000016, 0.1, 10], [0.4991875000000004, 0.2, 10], [0.7976231250000005, 0.1, 10], [0.972741968750001, 0.5, 10], [0.2940400000000004, 0.1, 10], [0.3493080000000002, 0.1, 10], [0.6108992000000008, 0.2, 10], [0.5134500000000004, 0.1, 10], [0.7284888000000005, 0.2, 10], [0.7434434000000004, 0.2, 10]]\n",
      "[[0.2350000000000002, 0.1, 10], [0.45825000000000016, 0.1, 10], [0.4991875000000004, 0.2, 10], [0.7976231250000005, 0.1, 10], [0.972741968750001, 0.5, 10], [0.2940400000000004, 0.1, 10], [0.3493080000000002, 0.1, 10], [0.6108992000000008, 0.2, 10], [0.5134500000000004, 0.1, 10], [0.7284888000000005, 0.2, 10], [0.7434434000000004, 0.2, 10], [1.0401663999999997, 0.2, 10]]\n",
      "[[0.2350000000000002, 0.1, 10], [0.45825000000000016, 0.1, 10], [0.4991875000000004, 0.2, 10], [0.7976231250000005, 0.1, 10], [0.972741968750001, 0.5, 10], [0.2940400000000004, 0.1, 10], [0.3493080000000002, 0.1, 10], [0.6108992000000008, 0.2, 10], [0.5134500000000004, 0.1, 10], [0.7284888000000005, 0.2, 10], [0.7434434000000004, 0.2, 10], [1.0401663999999997, 0.2, 10], [1.1828591999999996, 0.1, 10]]\n",
      "[[0.2350000000000002, 0.1, 10], [0.45825000000000016, 0.1, 10], [0.4991875000000004, 0.2, 10], [0.7976231250000005, 0.1, 10], [0.972741968750001, 0.5, 10], [0.2940400000000004, 0.1, 10], [0.3493080000000002, 0.1, 10], [0.6108992000000008, 0.2, 10], [0.5134500000000004, 0.1, 10], [0.7284888000000005, 0.2, 10], [0.7434434000000004, 0.2, 10], [1.0401663999999997, 0.2, 10], [1.1828591999999996, 0.1, 10], [1.1381999999999997, 0.7, 10]]\n",
      "[[0.2350000000000002, 0.1, 10], [0.45825000000000016, 0.1, 10], [0.4991875000000004, 0.2, 10], [0.7976231250000005, 0.1, 10], [0.972741968750001, 0.5, 10], [0.2940400000000004, 0.1, 10], [0.3493080000000002, 0.1, 10], [0.6108992000000008, 0.2, 10], [0.5134500000000004, 0.1, 10], [0.7284888000000005, 0.2, 10], [0.7434434000000004, 0.2, 10], [1.0401663999999997, 0.2, 10], [1.1828591999999996, 0.1, 10], [1.1381999999999997, 0.7, 10], [1.3571425999999995, 0.2, 10]]\n",
      "[[0.2350000000000002, 0.1, 10], [0.45825000000000016, 0.1, 10], [0.4991875000000004, 0.2, 10], [0.7976231250000005, 0.1, 10], [0.972741968750001, 0.5, 10], [0.2940400000000004, 0.1, 10], [0.3493080000000002, 0.1, 10], [0.6108992000000008, 0.2, 10], [0.5134500000000004, 0.1, 10], [0.7284888000000005, 0.2, 10], [0.7434434000000004, 0.2, 10], [1.0401663999999997, 0.2, 10], [1.1828591999999996, 0.1, 10], [1.1381999999999997, 0.7, 10], [1.3571425999999995, 0.2, 10], [1.3696704000000002, 0.6, 10]]\n",
      "[[0.2350000000000002, 0.1, 10], [0.45825000000000016, 0.1, 10], [0.4991875000000004, 0.2, 10], [0.7976231250000005, 0.1, 10], [0.972741968750001, 0.5, 10], [0.2940400000000004, 0.1, 10], [0.3493080000000002, 0.1, 10], [0.6108992000000008, 0.2, 10], [0.5134500000000004, 0.1, 10], [0.7284888000000005, 0.2, 10], [0.7434434000000004, 0.2, 10], [1.0401663999999997, 0.2, 10], [1.1828591999999996, 0.1, 10], [1.1381999999999997, 0.7, 10], [1.3571425999999995, 0.2, 10], [1.3696704000000002, 0.6, 10], [1.5367365000000002, 0.7, 10]]\n",
      "[[0.2350000000000002, 0.1, 10], [0.45825000000000016, 0.1, 10], [0.4991875000000004, 0.2, 10], [0.7976231250000005, 0.1, 10], [0.972741968750001, 0.5, 10], [0.2940400000000004, 0.1, 10], [0.3493080000000002, 0.1, 10], [0.6108992000000008, 0.2, 10], [0.5134500000000004, 0.1, 10], [0.7284888000000005, 0.2, 10], [0.7434434000000004, 0.2, 10], [1.0401663999999997, 0.2, 10], [1.1828591999999996, 0.1, 10], [1.1381999999999997, 0.7, 10], [1.3571425999999995, 0.2, 10], [1.3696704000000002, 0.6, 10], [1.5367365000000002, 0.7, 10], [1.4921704, 0.7, 10]]\n",
      "[[0.2350000000000002, 0.1, 10], [0.45825000000000016, 0.1, 10], [0.4991875000000004, 0.2, 10], [0.7976231250000005, 0.1, 10], [0.972741968750001, 0.5, 10], [0.2940400000000004, 0.1, 10], [0.3493080000000002, 0.1, 10], [0.6108992000000008, 0.2, 10], [0.5134500000000004, 0.1, 10], [0.7284888000000005, 0.2, 10], [0.7434434000000004, 0.2, 10], [1.0401663999999997, 0.2, 10], [1.1828591999999996, 0.1, 10], [1.1381999999999997, 0.7, 10], [1.3571425999999995, 0.2, 10], [1.3696704000000002, 0.6, 10], [1.5367365000000002, 0.7, 10], [1.4921704, 0.7, 10], [1.6592625000000003, 0.8, 10]]\n",
      "[[0.2350000000000002, 0.1, 10], [0.45825000000000016, 0.1, 10], [0.4991875000000004, 0.2, 10], [0.7976231250000005, 0.1, 10], [0.972741968750001, 0.5, 10], [0.2940400000000004, 0.1, 10], [0.3493080000000002, 0.1, 10], [0.6108992000000008, 0.2, 10], [0.5134500000000004, 0.1, 10], [0.7284888000000005, 0.2, 10], [0.7434434000000004, 0.2, 10], [1.0401663999999997, 0.2, 10], [1.1828591999999996, 0.1, 10], [1.1381999999999997, 0.7, 10], [1.3571425999999995, 0.2, 10], [1.3696704000000002, 0.6, 10], [1.5367365000000002, 0.7, 10], [1.4921704, 0.7, 10], [1.6592625000000003, 0.8, 10], [1.7106432000000005, 0.8, 10]]\n",
      "Hey shmexy\n",
      "[[0.2350000000000002, 0.1, 10], [0.45825000000000016, 0.1, 10], [0.4991875000000004, 0.2, 10], [0.7976231250000005, 0.1, 10], [0.972741968750001, 0.5, 10], [0.2940400000000004, 0.1, 10], [0.3493080000000002, 0.1, 10], [0.6108992000000008, 0.2, 10], [0.5134500000000004, 0.1, 10], [0.7284888000000005, 0.2, 10], [0.7434434000000004, 0.2, 10], [1.0401663999999997, 0.2, 10], [1.1828591999999996, 0.1, 10], [1.1381999999999997, 0.7, 10], [1.3571425999999995, 0.2, 10], [1.3696704000000002, 0.6, 10], [1.5367365000000002, 0.7, 10], [1.4921704, 0.7, 10], [1.6592625000000003, 0.8, 10], [1.7106432000000005, 0.8, 10]]\n"
     ]
    },
    {
     "data": {
      "image/png": "[encoded data removed]",
      "text/plain": [
       "<matplotlib.figure.Figure at 0x3bc4f50>"
      ]
     },
     "metadata": {},
     "output_type": "display_data"
    }
   ],
   "source": [
    "vaccination = .1\n",
    "colorlist = ['gray']#,'lightblue','red','lightgreen']\n",
    "def rVersesPropInf(prams,numTrials,lst,accK=False, accP=False):\n",
    "    if accK: prams.k,prams.p = 1,.05\n",
    "    if accP: prams.k,prams.p = 3,.02\n",
    "    for i in range(numTrials):\n",
    "        g = graph.Graph(prams)\n",
    "        g.update()\n",
    "        r = g.calculateR(True) #basic = true\n",
    "        i = g.getR()\n",
    "        lst.append([r, float(i)/float(prams.numVerts),prams.numVerts])\n",
    "        #print(lst)\n",
    "        #dct[r]=[float(i)/float(1000)]\n",
    "        if accK: prams.k+=1\n",
    "        if accP: prams.p+=.01  \n",
    "    \n",
    "acc =0\n",
    "for color in colorlist:\n",
    "    RandIlst = []\n",
    "    print(\"HERE LOVE ME\")\n",
    "    a = pram.Params(0,.05,1000,.005,vaccination*1000,random = False)\n",
    "    b = pram.Params(3,0,1000,.005,vaccination*1000,random = False)   \n",
    "    #c = pram.Params(0,.05,2000,.0025,vaccination*2000,random = False)\n",
    "    #d = pram.Params(3,0,2000,.0025,vaccination*2000,random = False) #k,p,N,rho,nu\n",
    "    #e = pram.Params(0,.05,500,.01,vaccination*500,random = False)\n",
    "    #f = pram.Params(3,0,500,.01,vaccination*500,random = False)\n",
    "    #h = pram.Params(0,.05,1500,.003,vaccination*1500,random = False)\n",
    "    #l = pram.Params(3,0,1500,.003,vaccination*1500,random = False)\n",
    "    #j = pram.Params(0,.05,3000,.001,vaccination*3000,random = False)\n",
    "    #m = pram.Params(3,0,3000,.001,vaccination*3000,random = False)\n",
    "    lst = [a,b]#,c,d,e,f,h,l,j,m]\n",
    "    trialLst= [5,15]\n",
    "    boolLst = [True,False]\n",
    "    for i in range(len(lst)):\n",
    "        rVersesPropInf(lst[acc],trialLst[acc%2],RandIlst,accK=boolLst[acc%2],accP=boolLst[(acc+1)%2]) \n",
    "        acc += 1\n",
    "        print(\"Hey shmexy\")\n",
    "\n",
    "#print(RandIdict.keys())\n",
    "Rlist = []\n",
    "Ilist = []\n",
    "print(RandIlst)\n",
    "for item in RandIlst:\n",
    "    Rlist = Rlist + [item[0]]\n",
    "    Ilist = Ilist + [item[1]]\n",
    "#Rlist = RandIdict.keys()\n",
    "#Ilist = RandIdict.values()\n",
    "\n",
    "        #print(item,RandIdict[item])\n",
    "#fig = plt.figure()\n",
    "#ax = fig.add_subplot(1,1,1)\n",
    "#implicitPlot.plot_implicit2d(implicitPlot.continuousInfection, rangeX=(0,4),rangeY=(0,1),ax=ax)\n",
    "plt.scatter(Rlist,Ilist,c=color)\n",
    "\n",
    "#    vaccination += .2\n",
    "\n",
    "\n",
    "\n",
    "#change color by population\n",
    "#maybe use a small population?\n",
    "#raw number of infected individuals?\n",
    "#number of initial infected (get rid of \"outliers\")\n",
    "#something about rnot that I don't totally understand yet\n",
    "x=''' for x in range(10):\n",
    "        a = pram.Params(k,.05,1000,.005,vaccination*1000) #k,p,N,rho,nu\n",
    "        g = dirGraphy.Graph(a)\n",
    "        g.update()\n",
    "        r = g.calculateR(True)\n",
    "        i = g.getR()\n",
    "        RandIdict[r] = [float(i)/float(1000)]\n",
    "        k += 1'''\n",
    "\n",
    "x='''p = .02\n",
    "    for x in range(30):\n",
    "        b = pram.Params(3,p,1000,.005,vaccination*1000) #k,p,N,rho,nu\n",
    "        g = dirGraphy.Graph(b)\n",
    "        g.update()\n",
    "        r = g.calculateR(True)\n",
    "        i = g.getR()\n",
    "        RandIdict[r] = [float(i)/float(1000)]\n",
    "        p += .01'''\n",
    "\n",
    "x ='''\n",
    "    k = 1\n",
    "    for x in range(10):\n",
    "        c = pram.Params(k,.05,2000,.0025,vaccination*2000) #k,p,N,rho,nu\n",
    "        g = dirGraphy.Graph(c)\n",
    "        g.update()\n",
    "        r = g.calculateR(True)\n",
    "        i = g.getR()\n",
    "        RandIdict[r] = [float(i)/float(2000)]\n",
    "        k += 1'''\n",
    "        \n",
    "        \n",
    "x ='''p = .02\n",
    "    for x in range(30):\n",
    "        d = pram.Params(3,p,2000,.0025,vaccination*2000) #k,p,N,rho,nu\n",
    "        g = dirGraphy.Graph(d)\n",
    "        g.update()\n",
    "        r = g.calculateR(True)\n",
    "        i = g.getR()\n",
    "        RandIdict[r] = [float(i)/float(2000)]\n",
    "        p += .01'''\n",
    "x ='''\n",
    "    k = 1\n",
    "    for x in range(10):\n",
    "        e = pram.Params(k,.05,500,.01,vaccination*500) #k,p,N,rho,nu\n",
    "        g = dirGraphy.Graph(e)\n",
    "        g.update()\n",
    "        r = g.calculateR(True)\n",
    "        i = g.getR()\n",
    "        RandIdict[r] = [float(i)/float(500)]\n",
    "        k += 1\n",
    "\n",
    "\n",
    "    p = .02\n",
    "    for x in range(30):\n",
    "        f = pram.Params(3,p,500,.01,vaccination*500) #k,p,N,rho,nu\n",
    "        g = dirGraphy.Graph(f)\n",
    "        g.update()\n",
    "        r = g.calculateR(True)\n",
    "        i = g.getR()\n",
    "        RandIdict[r] = [float(i)/float(500)]\n",
    "        p += .01\n",
    "\n",
    "    k = 1\n",
    "    for x in range(10):\n",
    "        h = pram.Params(k,.05,1500,.003,vaccination*1500) #k,p,N,rho,nu\n",
    "        g = dirGraphy.Graph(h)\n",
    "        g.update()\n",
    "        r = g.calculateR(True)\n",
    "        i = g.getR()\n",
    "        RandIdict[r] = [float(i)/float(1500)]\n",
    "        k += 1\n",
    "\n",
    "\n",
    "    p = .02\n",
    "    for x in range(30):\n",
    "        l = pram.Params(3,p,1500,.003,vaccination*1500) #k,p,N,rho,nu \n",
    "        g = dirGraphy.Graph(l)\n",
    "        g.update()\n",
    "        r = g.calculateR(True)\n",
    "        i = g.getR()\n",
    "        RandIdict[r] = [float(i)/float(1500)]\n",
    "        p += .01    \n",
    "    \n",
    "    k = 1\n",
    "    for x in range(10):\n",
    "        j = pram.Params(k,.05,3000,.001,vaccination*3000) #k,p,N,rho,nu\n",
    "        g = dirGraphy.Graph(j)\n",
    "        g.update()\n",
    "        r = g.calculateR(True)\n",
    "        i = g.getR()\n",
    "        RandIdict[r] = [float(i)/float(3000)]\n",
    "        k += 1\n",
    "\n",
    "\n",
    "    p = .02\n",
    "    for x in range(30):\n",
    "        m = pram.Params(3,p,3000,.001,vaccination*3000) #k,p,N,rho,nu \n",
    "        g = dirGraphy.Graph(m)\n",
    "        g.update()\n",
    "        r = g.calculateR(True)\n",
    "        i = g.getR()\n",
    "        RandIdict[r] = [float(i)/float(3000)]\n",
    "        p += .01        \n",
    "'''    "
   ]
  },
  {
   "cell_type": "code",
   "execution_count": 6,
   "metadata": {
    "collapsed": false
   },
   "outputs": [
    {
     "data": {
      "image/png": "[encoded data removed]",
      "text/plain": [
       "<matplotlib.figure.Figure at 0xb117290>"
      ]
     },
     "metadata": {},
     "output_type": "display_data"
    }
   ],
   "source": [
    "RandIdict = {1.354979039333333: [0.0006666666666666666], 1.2178521179999995: [0.001], 1.4776640000000003: [0.4666666666666667], 2.967040076: [0.7355], 1.5194339853333336: [0.5006666666666667], 2.0227670892993332: [0.561], 2.6419525440000005: [0.7205], 2.4619055100000007: [0.67], 0.5841579520000006: [0.002], 2.093833984666667: [0.636], 2.0869847040000002: [0.628], 2.3350623660000007: [0.6586666666666666], 0.425783166666667: [0.0006666666666666666], 1.8986692810641324: [0.532], 2.6651621680000006: [0.718], 2.337640851: [0.6855], 0.6518376106666665: [0.0003333333333333333], 1.5638194570500015: [0.362], 2.2498894800000007: [0.66], 1.5149841849999997: [0.4445], 0.24780000000000024: [0.001], 1.5856323840000002: [0.486], 1.5869064960000003: [0.004], 0.9923630079999998: [0.0006666666666666666], 1.9884138750000002: [0.608], 0.4270290300000002: [0.006], 2.733308928000001: [0.75], 2.736796518: [0.716], 1.0935025919999997: [0.003], 2.1958762640000002: [0.691], 1.6482301479774621: [0.001], 0.2957748360000004: [0.0005], 2.4321920000000006: [0.688], 0.6420977500000005: [0.007333333333333333], 1.3071890657109384: [0.0005], 1.593277056: [0.0005], 2.2036803840000005: [0.001], 1.2256146314999994: [0.005], 2.1506997925: [0.655], 0.4989301200000003: [0.0003333333333333333], 0.9199562531250006: [0.001], 3.1025716740000004: [0.746], 1.1139026637500011: [0.0005], 2.514526560000001: [0.699], 1.1042362239999997: [0.009], 1.4980569875984389: [0.002], 2.3427974826666675: [0.6873333333333334], 2.239594666666667: [0.644], 0.2918052960000004: [0.001], 2.9988605919999998: [0.744], 2.414015968: [0.644], 0.2966275520000004: [0.002], 0.15005000000000013: [0.0003333333333333333], 0.5192258986666674: [0.0013333333333333333], 0.4832100000000002: [0.006], 3.3109515000000003: [0.7415], 1.7542239583333334: [0.0003333333333333333], 0.7045675000000006: [0.001], 2.0377018880000004: [0.0015], 3.268575: [0.752], 0.6682511106250008: [0.0006666666666666666], 2.0776894760000006: [0.616], 0.7632755520000006: [0.007333333333333333], 1.1066323893333334: [0.0003333333333333333], 0.9164512944671883: [0.006], 0.7119840000000006: [0.002], 0.5507927750000003: [0.0003333333333333333], 1.2286949939999994: [0.004], 1.5224615824691419: [0.332], 0.5725162880000007: [0.001], 0.17387565333333357: [0.0003333333333333333], 0.9743021400000007: [0.001], 3.161646236000001: [0.735], 2.6314672140000006: [0.704], 1.6589476483689205: [0.006], 0.26730196266666706: [0.0006666666666666666], 3.2064632319999995: [0.75], 1.3322359999999998: [0.012], 2.017647648000001: [0.6133333333333333], 0.5706144320000007: [0.0005], 2.845513728000001: [0.72], 0.4311770625000002: [0.0005], 0.9222749250000007: [0.018], 0.7059937500000005: [0.002], 1.808893877913389: [0.454], 1.1632845000000003: [0.0023333333333333335], 0.2477000000000002: [0.0005], 2.94774: [0.728], 0.7468441559999998: [0.0023333333333333335], 1.67616625218047: [0.4], 0.49890750000000017: [0.001], 0.8080316666666664: [0.0003333333333333333], 0.48745125000000017: [0.0005], 1.9356930051140613: [0.004], 1.1122162199999996: [0.006], 1.3455149999999996: [0.3285], 1.0028660180000006: [0.002], 0.432629166666667: [0.0006666666666666666], 1.2975199197187508: [0.248], 1.3894336213333334: [0.0006666666666666666], 2.517821806500001: [0.6925], 2.1848378400000006: [0.704], 0.8855847183333331: [0.0023333333333333335], 1.3777639999999993: [0.365], 2.9727187500000003: [0.736], 3.13062624: [0.754], 1.705436018: [0.5565], 0.7235366250000006: [0.0005], 2.827560960000001: [0.7225], 1.2078018128924801: [0.0003333333333333333], 1.936754453666667: [0.5656666666666667], 2.669275840000001: [0.698], 2.8172031250000003: [0.725], 0.22680000000000017: [0.0006666666666666666], 1.2346499413333336: [0.001], 1.8547680853333333: [0.5513333333333333], 1.363917638594793: [0.004666666666666667], 2.054401024: [0.618], 1.5289943760000007: [0.0006666666666666666], 1.5268657758214856: [0.31], 2.0200687583333337: [0.0003333333333333333], 2.4380480000000007: [0.697], 3.02146208: [0.719], 0.8411523250000005: [0.0006666666666666666], 1.8649237770000002: [0.0003333333333333333], 1.9417230000000003: [0.002], 1.105061264136385: [0.011333333333333334], 0.2603508960000001: [0.0003333333333333333], 1.4278548480000002: [0.3973333333333333], 0.9687263145000007: [0.0025], 2.6844223466666666: [0.72], 0.7088462500000006: [0.01], 0.8772360480000007: [0.006], 3.381628676: [0.746], 0.8504683200000005: [0.001], 1.9075461773333335: [0.6286666666666667], 2.3882720000000006: [0.6905], 1.8559630878873248: [0.4855], 3.1685578380000003: [0.77], 1.6632240800000002: [0.0033333333333333335], 3.319164: [0.742], 2.8495909820000005: [0.722], 2.735812878000001: [0.707], 0.8863932186666672: [0.0013333333333333333], 1.9424947500000003: [0.6185], 2.666123152000001: [0.7], 0.7843046091562506: [0.0003333333333333333], 1.66992033: [0.559], 3.3453681620000006: [0.001], 1.1034616319999997: [0.02], 1.7938042500000002: [0.562], 1.5717901173333337: [0.4483333333333333], 1.344408655078126: [0.002], 2.34748059: [0.001], 1.7043909120000005: [0.0003333333333333333], 1.853468330666667: [0.5973333333333334], 1.9820388886320284: [0.001], 0.9651398400000001: [0.016], 3.0182560200000004: [0.727], 0.9945926255408211: [0.0006666666666666666], 1.873583712: [0.004], 1.4273599779999997: [0.448], 1.4713195969999997: [0.001], 1.0092386441666676: [0.012666666666666666], 3.1879718850000005: [0.746], 1.8277267680000002: [0.554], 0.6928722500000005: [0.001], 2.560139520000001: [0.6973333333333334], 1.180960351593751: [0.0006666666666666666], 2.8571534506666665: [0.7186666666666667], 0.6387698333333338: [0.0006666666666666666], 0.34659884800000046: [0.0003333333333333333], 0.9165246187500006: [0.002], 0.43101500000000015: [0.0006666666666666666], 1.2779303296666669: [0.0003333333333333333], 3.0554159999999997: [0.736], 2.495262042000001: [0.728], 0.5806684240000004: [0.0003333333333333333], 0.2877550000000001: [0.001], 0.3958241820000002: [0.0006666666666666666], 2.996192842: [0.734], 0.2515000000000002: [0.002], 1.6250061577364074: [0.002], 1.2225713333333328: [0.002], 0.43506311400000025: [0.001], 1.1415013893750012: [0.126], 1.6503281233333338: [0.0033333333333333335], 2.620833333333333: [0.7113333333333334], 1.953042: [0.5683333333333334], 3.1192683620000006: [0.732], 1.8078918200000003: [0.5565], 2.887734375: [0.725], 1.3375215360000003: [0.31033333333333335], 1.0077576470000003: [0.0013333333333333333], 3.3527545630000004: [0.7455], 1.7947693651967476: [0.52], 1.770053376: [0.5006666666666667], 0.8418281040000006: [0.0035], 1.7266088320000004: [0.536]}\n",
    "Rlist = RandIdict.keys()\n",
    "Ilist = []\n",
    "\n",
    "for item in Rlist:\n",
    "    Ilist = Ilist + [RandIdict[item]]\n",
    "        #print(item,RandIdict[item])\n",
    "\n",
    "        \n",
    "fig = plt.figure()\n",
    "ax = fig.add_subplot(1,1,1)\n",
    "plt.suptitle(\"R vs Proportion Infected\",fontsize = 14, fontname=\"Times\")\n",
    "plt.ylabel('Proportion Infected',fontname=\"Times\")\n",
    "plt.xlabel('R',fontname=\"Times\")\n",
    "plt.title(\"Contains data observed from discrete network and from continuous implicit function\",fontsize = 10,fontname=\"Times\",ha=\"center\")\n",
    "#blue_patch = mpatches.Patch(color='blue', label=\"dumbLabel\")\n",
    "#plt.legend(handles=[blue_patch])\n",
    "l1, = plt.plot([1,2,3])\n",
    "l1.remove()\n",
    " \n",
    "def continuousInfection(x,z):\n",
    "    N=2000.0\n",
    "    y=400.0\n",
    "    left = np.log((N-1-y)/(N*(1-z)-y))\n",
    "    right = x*(z)\n",
    "    return (left-right)\n",
    "\n",
    "name = utils.plot_implicit2d(continuousInfection, rangeX=(0,4),rangeY=(0,1),ax=ax)\n",
    "l2 = plt.scatter(Rlist,Ilist,c=\"gray\")\n",
    "plt.legend([l1,l2], [name,\"discreteInfections\"],loc=4)\n",
    "plt.savefig('graphDir/'+\"Two_Ways_Reproductive_Num_VS_Proportion_Infected_20_Vacc\"+'.pdf')"
   ]
  },
  {
   "cell_type": "code",
   "execution_count": null,
   "metadata": {
    "collapsed": true
   },
   "outputs": [],
   "source": []
  },
  {
   "cell_type": "code",
   "execution_count": 7,
   "metadata": {
    "collapsed": false
   },
   "outputs": [
    {
     "data": {
      "image/png": "[encoded data removed]",
      "text/plain": [
       "<matplotlib.figure.Figure at 0x55d2250>"
      ]
     },
     "metadata": {},
     "output_type": "display_data"
    }
   ],
   "source": [
    "import matplotlib.patches as mpatches\n",
    "import matplotlib.pyplot as plt\n",
    "\n",
    "red_patch = mpatches.Patch(color='red', label='The red data')\n",
    "plt.legend(handles=[red_patch])\n",
    "\n",
    "plt.show()"
   ]
  },
  {
   "cell_type": "code",
   "execution_count": 8,
   "metadata": {
    "collapsed": false
   },
   "outputs": [
    {
     "data": {
      "text/plain": [
       "<matplotlib.legend.Legend at 0x47334d0>"
      ]
     },
     "execution_count": 8,
     "metadata": {},
     "output_type": "execute_result"
    },
    {
     "data": {
      "image/png": "[encoded data removed]",
      "text/plain": [
       "<matplotlib.figure.Figure at 0x55dfb50>"
      ]
     },
     "metadata": {},
     "output_type": "display_data"
    }
   ],
   "source": [
    "l1, = plt.plot([1,2,3])\n",
    "l1.remove()\n",
    "plt.legend([l1], [\"test\"]) "
   ]
  },
  {
   "cell_type": "code",
   "execution_count": null,
   "metadata": {
    "collapsed": true
   },
   "outputs": [],
   "source": []
  },
  {
   "cell_type": "code",
   "execution_count": null,
   "metadata": {
    "collapsed": true
   },
   "outputs": [],
   "source": [
    "def rVersesPropInf(parameters,numTrials,dct,accK=False, accP=False):\n",
    "    if accK: k,p = 1,.05\n",
    "    if accP: k,p = 3,.02\n",
    "    for i in range(numTrials):\n",
    "        g = graph.Graph(parameters)\n",
    "        g.update()\n",
    "        r = g.calculateR(True) #basic = true\n",
    "        i = g.getR()\n",
    "        dct[r]=[float(i)/float(1000)]\n",
    "    if accK: k+=1\n",
    "    if accP: p+=.01  "
   ]
  }
 ],
 "metadata": {
  "kernelspec": {
   "display_name": "Python 2",
   "language": "python",
   "name": "python2"
  },
  "language_info": {
   "codemirror_mode": {
    "name": "ipython",
    "version": 2
   },
   "file_extension": ".py",
   "mimetype": "text/x-python",
   "name": "python",
   "nbconvert_exporter": "python",
   "pygments_lexer": "ipython2",
   "version": "2.7.5+"
  }
 },
 "nbformat": 4,
 "nbformat_minor": 0
}
