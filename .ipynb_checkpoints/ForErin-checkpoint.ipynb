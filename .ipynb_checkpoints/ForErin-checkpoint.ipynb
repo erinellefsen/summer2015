{
 "cells": [
  {
   "cell_type": "code",
   "execution_count": 1,
   "metadata": {
    "collapsed": false
   },
   "outputs": [
    {
     "name": "stderr",
     "output_type": "stream",
     "text": [
      "/home/students/doorjo01/research/researchEnv/local/lib/python2.7/site-packages/pandas/io/excel.py:626: UserWarning: Installed openpyxl is not supported at this time. Use >=1.6.1 and <2.0.0.\n",
      "  .format(openpyxl_compat.start_ver, openpyxl_compat.stop_ver))\n"
     ]
    }
   ],
   "source": [
    "import graph\n",
    "import disease\n",
    "import pandas as pd\n",
    "import matplotlib.pyplot as plt \n",
    "import pylab as pl\n",
    "import numpy as np\n",
    "import collections\n",
    "%matplotlib inline"
   ]
  },
  {
   "cell_type": "code",
   "execution_count": null,
   "metadata": {
    "collapsed": true
   },
   "outputs": [],
   "source": [
    "for i in range(4):\n",
    "    trials = 750\n",
    "    dist = {}\n",
    "    connectionLst = []\n",
    "    for x in range(trials):\n",
    "        g = graph.Graph(8, .1, 0, 1*.25)   #k,p,r,%infected,%vaccinated\n",
    "        g.makeVertices(1000)         #of people\n",
    "        g.makeConnections(.005)         #prob they are connected\n",
    "        r = g.calculateR(True)\n",
    "    #print(r)\n",
    "        if r not in dist: #problem with float equality    \n",
    "            dist[r]=1\n",
    "        else:\n",
    "            dist[r] += 1\n",
    "\n",
    "\n",
    "#for vert in g.getVertices():\n",
    "#    x =len(vert.getConnections())  \n",
    "#    connectionLst.append(x)\n",
    "    \n",
    "#sum(connectionLst)/250.0"
   ]
  },
  {
   "cell_type": "code",
   "execution_count": null,
   "metadata": {
    "collapsed": true
   },
   "outputs": [],
   "source": [
    "def makeRanges(d,numColumns):\n",
    "    res = {}\n",
    "    keys = d.keys()\n",
    "    mini = keys[0]\n",
    "    maxi = keys[len(d)-1]\n",
    "    diff = maxi - mini\n",
    "    stepSize = diff/numColumns\n",
    "    \n",
    "    currentRange = mini+stepSize\n",
    "    k = mini\n",
    "    acc = 0\n",
    "    for k,v in d.iteritems():\n",
    "        \n",
    "        if k < currentRange:\n",
    "            acc +=v\n",
    "        else:\n",
    "            \n",
    "            res[\"%.3f\" %(currentRange)] = acc\n",
    "            currentRange += stepSize\n",
    "            acc =0\n",
    "    return collections.OrderedDict(sorted(res.items()))\n",
    "\n",
    "def distGraph(dist, save=False):\n",
    "    '''\n",
    "    Given a distribution dictionary, this function graphs the distribution\n",
    "    Include a save option later\n",
    "    '''\n",
    "    d = collections.OrderedDict(sorted(dist.items()))\n",
    "    newD = makeRanges(d,20)\n",
    "    df = pd.DataFrame.from_dict(newD,orient=\"index\")\n",
    "    df\n",
    "    #df.plot(kind=\"bar\",title=\"Distribution Graph with Range\",legend=False)\n",
    "    plt.suptitle(\"Distribution of Basic Reproductive Number\",fontsize=14)\n",
    "\n",
    "    #plt.summer()\n",
    "    plt.plot(df)\n",
    "    print(df)\n",
    "    if save:\n",
    "        #fig = pyplot.get_figure()\n",
    "        #fig = plt.figure()\n",
    "        plt.savefig('graphDir/newoutput.pdf')"
   ]
  },
  {
   "cell_type": "code",
   "execution_count": null,
   "metadata": {
    "collapsed": true
   },
   "outputs": [],
   "source": [
    "distGraph(dist,save=True)"
   ]
  }
 ],
 "metadata": {
  "kernelspec": {
   "display_name": "Python 2",
   "language": "python",
   "name": "python2"
  },
  "language_info": {
   "codemirror_mode": {
    "name": "ipython",
    "version": 2
   },
   "file_extension": ".py",
   "mimetype": "text/x-python",
   "name": "python",
   "nbconvert_exporter": "python",
   "pygments_lexer": "ipython2",
   "version": "2.7.5+"
  }
 },
 "nbformat": 4,
 "nbformat_minor": 0
}
