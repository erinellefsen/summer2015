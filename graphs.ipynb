{
 "cells": [
  {
   "cell_type": "code",
   "execution_count": 4,
   "metadata": {
    "collapsed": false
   },
   "outputs": [],
   "source": [
    "import graph\n",
    "import pandas\n",
    "import numpy\n",
    "import matplotlib\n",
    "%matplotlib inline"
   ]
  },
  {
   "cell_type": "code",
   "execution_count": 7,
   "metadata": {
    "collapsed": false
   },
   "outputs": [
    {
     "data": {
      "text/plain": [
       "<matplotlib.axes.AxesSubplot at 0x113554ad0>"
      ]
     },
     "execution_count": 7,
     "metadata": {},
     "output_type": "execute_result"
    },
    {
     "data": {
      "image/png": "[encoded data removed]",
      "text/plain": [
       "<matplotlib.figure.Figure at 0x113391890>"
      ]
     },
     "metadata": {},
     "output_type": "display_data"
    },
    {
     "data": {
      "image/png": "[encoded data removed]",
      "text/plain": [
       "<matplotlib.figure.Figure at 0x113547610>"
      ]
     },
     "metadata": {},
     "output_type": "display_data"
    }
   ],
   "source": [
    "vaccinationpercent = 0\n",
    "orderedpairlistHighEpi = []\n",
    "orderedpairlistLowEpi = []\n",
    "while vaccinationpercent < 200:\n",
    "    trials = 30\n",
    "    HighEpi = 0\n",
    "    FinalEpi = 0\n",
    "    for x in range(trials):\n",
    "\n",
    "        g = graph.Graph(5, .5, 0, vaccinationpercent)   #k,p,r,%infected,%vaccinated\n",
    "        g.makeVertices(200)         #of people\n",
    "        g.makeConnections(.02)         #prob they are connected\n",
    "        g.update()            #number of repetitions, num trials\n",
    "        if g.getHighEpi():\n",
    "            HighEpi += 1\n",
    "        if g.getFinalEpi():\n",
    "            FinalEpi += 1\n",
    "    \n",
    "    orderedpairlistHighEpi = orderedpairlistHighEpi + [[vaccinationpercent,(float(HighEpi)/float(trials))*100]]\n",
    "    orderedpairlistLowEpi = orderedpairlistLowEpi + [[vaccinationpercent, (float(FinalEpi)/float(trials))*100]]\n",
    "\n",
    "    y = (vaccinationpercent,(float(HighEpi)/float(trials))*100 , (float(FinalEpi)/float(trials))*100)\n",
    "    \n",
    "    vaccinationpercent += 10\n",
    "\n",
    "    \n",
    "df = pandas.DataFrame(orderedpairlistHighEpi)\n",
    "df1 = pandas.DataFrame(orderedpairlistLowEpi)\n",
    "del df[0]\n",
    "del df1[0]\n",
    "df.plot()\n",
    "df1.plot()"
   ]
  },
  {
   "cell_type": "code",
   "execution_count": null,
   "metadata": {
    "collapsed": false
   },
   "outputs": [],
   "source": []
  },
  {
   "cell_type": "code",
   "execution_count": null,
   "metadata": {
    "collapsed": false
   },
   "outputs": [],
   "source": []
  },
  {
   "cell_type": "code",
   "execution_count": null,
   "metadata": {
    "collapsed": true
   },
   "outputs": [],
   "source": []
  }
 ],
 "metadata": {
  "kernelspec": {
   "display_name": "Python 2",
   "language": "python",
   "name": "python2"
  },
  "language_info": {
   "codemirror_mode": {
    "name": "ipython",
    "version": 2
   },
   "file_extension": ".py",
   "mimetype": "text/x-python",
   "name": "python",
   "nbconvert_exporter": "python",
   "pygments_lexer": "ipython2",
   "version": "2.7.5"
  }
 },
 "nbformat": 4,
 "nbformat_minor": 0
}
