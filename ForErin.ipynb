{
 "cells": [
  {
   "cell_type": "code",
   "execution_count": 1,
   "metadata": {
    "collapsed": false
   },
   "outputs": [
    {
     "name": "stderr",
     "output_type": "stream",
     "text": [
      "/Users/erinellefsen/PycharmProjects/Summer2015env/lib/python2.7/site-packages/pandas/io/excel.py:626: UserWarning: Installed openpyxl is not supported at this time. Use >=1.6.1 and <2.0.0.\n",
      "  .format(openpyxl_compat.start_ver, openpyxl_compat.stop_ver))\n"
     ]
    }
   ],
   "source": [
    "import graph\n",
    "import disease\n",
    "import pandas as pd\n",
    "import matplotlib.pyplot as plt \n",
    "import pylab as pl\n",
    "import numpy as np\n",
    "import collections\n",
    "%matplotlib inline"
   ]
  },
  {
   "cell_type": "code",
   "execution_count": null,
   "metadata": {
    "collapsed": true
   },
   "outputs": [],
   "source": [
    "def makeRanges(d,numColumns):\n",
    "    res = {}\n",
    "    keys = d.keys()\n",
    "    mini = keys[0]\n",
    "    maxi = keys[len(d)-1]\n",
    "    diff = maxi - mini\n",
    "    stepSize = diff/numColumns\n",
    "    \n",
    "    currentRange = mini+stepSize\n",
    "    k = mini\n",
    "    acc = 0\n",
    "    for k,v in d.iteritems(): \n",
    "        \n",
    "        \n",
    "        \n",
    "        if k < currentRange:\n",
    "            acc +=v\n",
    "        else: \n",
    "            res[\"%.3f\" %(currentRange)] = acc\n",
    "            while k > currentRange:\n",
    "                currentRange += stepSize\n",
    "                res[\"%.3f\" %(currentRange)] = 0\n",
    "            acc = v\n",
    "    print(len(res.keys()))\n",
    "    return collections.OrderedDict(sorted(res.items()))\n",
    "\n",
    "def distGraph(dist, save=False,filename=\"output\",basic=False):\n",
    "    '''\n",
    "    Given a distribution dictionary, this function graphs the distribution\n",
    "    Include a save option later\n",
    "    '''\n",
    "    numTrials = 20.0\n",
    "    d = collections.OrderedDict(sorted(dist.items()))\n",
    "    newD = makeRanges(d,numTrials)\n",
    "    df = pd.DataFrame.from_dict(newD,orient=\"index\")\n",
    "    df[1]=df.index\n",
    "    df[0] = df[0]/numTrials\n",
    "    ind = np.array(df[1])\n",
    "    \n",
    "    plt.suptitle(\"Distribution of Reproductive Number\",fontsize=14)\n",
    "    print(len(df[0]))\n",
    "    x_pos = formatGraph(numTrials,df,basic)\n",
    "    plt.bar(x_pos,df[0])\n",
    "    \n",
    "    print(\"done one\")\n",
    "    if save:\n",
    "        #fig = pyplot.get_figure()\n",
    "        #fig = plt.figure()\n",
    "        plt.savefig('graphDir/'+filename+'.pdf')\n",
    "        plt.clf()\n",
    "        \n",
    "        \n",
    "def formatGraph(numTrials,df,basic):\n",
    "    if basic: subTitle=\"Basic \"\n",
    "    else: subTitle=\"\"\n",
    "\n",
    "    plt.suptitle(\"Distribution of %sReproductive Number\" %(subTitle), fontsize=14)\n",
    "    x_pos = np.arange(len(df[0]))\n",
    "    lst1,lst2 = getTicks(numTrials,df)\n",
    "    plt.xticks(lst1,lst2,horizontalalignment=\"left\")\n",
    "    plt.ylabel('Frequency')\n",
    "    plt.xlabel('R')\n",
    "    \n",
    "    return x_pos\n",
    "def getTicks(numTrials,df):\n",
    "    pos = []\n",
    "    ticks =[]\n",
    "    for i in range(len(df)):\n",
    "        if (i+1)%5 == 0:\n",
    "            pos.append(i)\n",
    "            ticks.append(df[1].iloc[i])\n",
    "    return pos, ticks\n",
    "        "
   ]
  },
  {
   "cell_type": "code",
   "execution_count": 5,
   "metadata": {
    "collapsed": false
   },
   "outputs": [],
   "source": [
    "titleLst = [\"Dist_Repoductive_Num_20_Percent\",\"Dist_Repoductive_Num_40_Percent\",\"Dist_Repoductive_Num_60_Percent\",\"Dist_Repoductive_Num_80_Percent\",\"Dist_Repoductive_Num_100_Percent\"]\n",
    "for i in range(4):\n",
    "    trials = 1000\n",
    "    dist = {}\n",
    "    connectionLst = []\n",
    "    basic = False\n",
    "    for x in range(1,trials):\n",
    "        if x%50 == 0: print(x)\n",
    "        g = graph.Graph(8, .1, 0, 200*(i+1))   #k,p,r,%infected,%vaccinated\n",
    "        g.makeVertices(1000)         #of people\n",
    "        g.makeConnections(.005)         #prob they are connected\n",
    "        r = g.calculateR(basic)\n",
    "    #print(r)\n",
    "        if r not in dist: #problem with float equality    \n",
    "            dist[r]=1\n",
    "        else:\n",
    "            dist[r] += 1\n",
    "    distGraph(dist,save =True,filename=titleLst[i],basic = basic)"
   ]
  },
  {
   "cell_type": "code",
   "execution_count": null,
   "metadata": {
    "collapsed": true
   },
   "outputs": [],
   "source": []
  }
 ],
 "metadata": {
  "kernelspec": {
   "display_name": "Python 2",
   "language": "python",
   "name": "python2"
  },
  "language_info": {
   "codemirror_mode": {
    "name": "ipython",
    "version": 2
   },
   "file_extension": ".py",
   "mimetype": "text/x-python",
   "name": "python",
   "nbconvert_exporter": "python",
   "pygments_lexer": "ipython2",
   "version": "2.7.5+"
  }
 },
 "nbformat": 4,
 "nbformat_minor": 0
}
