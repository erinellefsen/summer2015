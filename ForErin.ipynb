{
 "cells": [
  {
   "cell_type": "code",
   "execution_count": 47,
   "metadata": {
    "collapsed": false
   },
   "outputs": [],
   "source": [
    "import graph\n",
    "import disease\n",
    "import pandas as pd\n",
    "import matplotlib.pyplot as plt \n",
    "import pylab as pl\n",
    "import numpy as np\n",
    "import collections\n",
    "%matplotlib inline"
   ]
  },
  {
   "cell_type": "code",
   "execution_count": 48,
   "metadata": {
    "collapsed": false
   },
   "outputs": [],
   "source": [
    "#for i in range(4)\n",
    "trials = 500\n",
    "dist = {}\n",
    "connectionLst = []\n",
    "for x in range(trials):\n",
    "    g = graph.Graph(8, .1, 0, 999)   #k,p,r,%infected,%vaccinated\n",
    "    g.makeVertices(1000)         #of people\n",
    "    g.makeConnections(.02)         #prob they are connected\n",
    "    r = g.calculateR()\n",
    "    if r not in dist: #problem with float equality    \n",
    "        dist[r]=1\n",
    "    else:\n",
    "        dist[r] += 1\n",
    "\n",
    "#for vert in g.getVertices():\n",
    "#    x =len(vert.getConnections())  \n",
    "#    connectionLst.append(x)\n",
    "    \n",
    "#sum(connectionLst)/250.0"
   ]
  },
  {
   "cell_type": "code",
   "execution_count": 49,
   "metadata": {
    "collapsed": true
   },
   "outputs": [],
   "source": [
    "def makeRanges(d,numColumns):\n",
    "    res = {}\n",
    "    keys = d.keys()\n",
    "    mini = keys[0]\n",
    "    maxi = keys[len(d)-1]\n",
    "    diff = maxi - mini\n",
    "    stepSize = diff/float(numColumns)\n",
    "    currentRange = mini+stepSize\n",
    "    acc = 0\n",
    "    for k,v in d.iteritems():\n",
    "        if k < currentRange:\n",
    "            acc +=v\n",
    "        else:\n",
    "            res[\"%.3f\" %(currentRange)] = acc\n",
    "            while k > currentRange:\n",
    "                currentRange += stepSize\n",
    "            acc = v\n",
    "    temp = collections.OrderedDict(sorted(res.items()))\n",
    "    return temp\n",
    "def distGraph(dist, save=False):\n",
    "    '''\n",
    "    Given a distribution dictionary, this function graphs the distribution\n",
    "    Include a save option later\n",
    "    '''\n",
    "    d = collections.OrderedDict(sorted(dist.items()))\n",
    "    newD = makeRanges(d,20)\n",
    "    df = pd.DataFrame.from_dict(newD,orient=\"index\")\n",
    "    #df.plot(kind=\"bar\",title=\"Distribution Graph with Range\",legend=False)\n",
    "    plt.suptitle(\"Distribution of Basic Reproductive Number\",fontsize=14)\n",
    "\n",
    "    #plt.summer()\n",
    "    plt.plot(df)\n",
    "    print(df)\n",
    "    if save:\n",
    "        #fig = pyplot.get_figure()\n",
    "        #fig = plt.figure()\n",
    "        plt.savefig('graphDir/newoutput.pdf')"
   ]
  },
  {
   "cell_type": "code",
   "execution_count": 50,
   "metadata": {
    "collapsed": false
   },
   "outputs": [
    {
     "name": "stdout",
     "output_type": "stream",
     "text": [
      "        0\n",
      "0.005   4\n",
      "0.006   3\n",
      "0.007   9\n",
      "0.008  11\n",
      "0.009  31\n",
      "0.010  35\n",
      "0.011  43\n",
      "0.012  73\n",
      "0.013  44\n",
      "0.014  38\n",
      "0.015  34\n",
      "0.016  11\n",
      "0.017   3\n",
      "0.018   1\n"
     ]
    },
    {
     "data": {
      "image/png": "[encoded data removed]",
      "text/plain": [
       "<matplotlib.figure.Figure at 0x105bde910>"
      ]
     },
     "metadata": {},
     "output_type": "display_data"
    }
   ],
   "source": [
    "distGraph(dist,save=True)"
   ]
  },
  {
   "cell_type": "code",
   "execution_count": null,
   "metadata": {
    "collapsed": false
   },
   "outputs": [],
   "source": [
    "\n"
   ]
  },
  {
   "cell_type": "code",
   "execution_count": null,
   "metadata": {
    "collapsed": true
   },
   "outputs": [],
   "source": []
  }
 ],
 "metadata": {
  "kernelspec": {
   "display_name": "Python 2",
   "language": "python",
   "name": "python2"
  },
  "language_info": {
   "codemirror_mode": {
    "name": "ipython",
    "version": 2
   },
   "file_extension": ".py",
   "mimetype": "text/x-python",
   "name": "python",
   "nbconvert_exporter": "python",
   "pygments_lexer": "ipython2",
   "version": "2.7.5"
  }
 },
 "nbformat": 4,
 "nbformat_minor": 0
}
