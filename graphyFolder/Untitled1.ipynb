{
 "cells": [
  {
   "cell_type": "code",
<<<<<<< HEAD
   "execution_count": 1,
=======
   "execution_count": 3,
>>>>>>> be684f048e7761762193f0efa61892b4875564ba
   "metadata": {
    "collapsed": false
   },
   "outputs": [
    {
     "name": "stderr",
     "output_type": "stream",
     "text": [
      "/home/students/doorjo01/research/researchEnv/local/lib/python2.7/site-packages/pandas/io/excel.py:626: UserWarning: Installed openpyxl is not supported at this time. Use >=1.6.1 and <2.0.0.\n",
      "  .format(openpyxl_compat.start_ver, openpyxl_compat.stop_ver))\n",
      "ERROR: Line magic function `%matplotlibinline` not found.\n"
     ]
    }
   ],
   "source": [
    "import graph\n",
    "import pandas\n",
    "import numpy\n",
    "import matplotlib\n",
    "%matplotlibinline"
   ]
  },
  {
   "cell_type": "code",
   "execution_count": 2,
   "metadata": {
    "collapsed": false,
    "scrolled": false
   },
   "outputs": [
    {
     "name": "stdout",
     "output_type": "stream",
     "text": [
      "0.01\n",
      "0.06\n",
      "0.11\n",
      "0.16\n",
      "0.21\n",
      "0.26\n",
      "0.31\n",
      "0.36\n",
      "0.41\n",
      "0.46\n",
      "0.51\n",
      "0.56\n",
      "0.61\n",
      "0.66\n",
      "0.71\n",
      "0.76\n",
      "0.81\n",
      "0.86\n",
      "0.91\n"
     ]
    },
    {
     "name": "stderr",
     "output_type": "stream",
     "text": [
      "/home/students/doorjo01/research/researchEnv/local/lib/python2.7/site-packages/matplotlib/pyplot.py:412: RuntimeWarning: More than 20 figures have been opened. Figures created through the pyplot interface (`matplotlib.pyplot.figure`) are retained until explicitly closed and may consume too much memory. (To control this warning, see the rcParam `figure.max_num_figures`).\n",
      "  max_open_warning, RuntimeWarning)\n"
     ]
    }
   ],
   "source": [
    "q = .01\n",
<<<<<<< HEAD
    "for index in range(10):\n",
=======
    "for index in range(19):\n",
>>>>>>> be684f048e7761762193f0efa61892b4875564ba
    "    vaccinationpercent = 0\n",
    "    orderedpairlistHighEpi = []\n",
    "    orderedpairlistLowEpi = []\n",
    "    while vaccinationpercent < 250:\n",
    "        trials = 30\n",
    "        HighEpi = 0\n",
    "        FinalEpi = 0\n",
    "        for x in range(trials):\n",
    "\n",
    "            g = graph.Graph(8, q, 0, vaccinationpercent)   #k,p,r,%infected,%vaccinated\n",
    "            g.makeVertices(250)         #of people\n",
    "            g.makebetterClusteredConnections(.02)         #prob they are connected\n",
    "            g.update()            #number of repetitions, num trials\n",
    "            if g.getHighEpi():\n",
    "                HighEpi += 1\n",
    "            if g.getFinalEpi():\n",
    "                FinalEpi += 1\n",
    "    \n",
    "        orderedpairlistHighEpi = orderedpairlistHighEpi + [[vaccinationpercent,(float(HighEpi)/float(trials))*100]]\n",
    "        orderedpairlistLowEpi = orderedpairlistLowEpi + [[vaccinationpercent, (float(FinalEpi)/float(trials))*100]]\n",
    "\n",
    "        y = (vaccinationpercent,(float(HighEpi)/float(trials))*100 , (float(FinalEpi)/float(trials))*100)\n",
    "    \n",
    "        vaccinationpercent += 15\n",
    "    \n",
    "\n",
    "    \n",
    "    df = pandas.DataFrame(orderedpairlistHighEpi)\n",
    "    df1 = pandas.DataFrame(orderedpairlistLowEpi)\n",
    "    del df[0]\n",
    "    del df1[0]\n",
    "    df.plot()\n",
    "    df1.plot()\n",
    "    print(q)\n",
    "    q += .05\n"
   ]
  },
  {
   "cell_type": "code",
   "execution_count": null,
   "metadata": {
    "collapsed": true
   },
   "outputs": [],
   "source": []
  }
 ],
 "metadata": {
  "kernelspec": {
   "display_name": "Python 2",
   "language": "python",
   "name": "python2"
  },
  "language_info": {
   "codemirror_mode": {
    "name": "ipython",
    "version": 2
   },
   "file_extension": ".py",
   "mimetype": "text/x-python",
   "name": "python",
   "nbconvert_exporter": "python",
   "pygments_lexer": "ipython2",
   "version": "2.7.5"
  }
 },
 "nbformat": 4,
 "nbformat_minor": 0
}
