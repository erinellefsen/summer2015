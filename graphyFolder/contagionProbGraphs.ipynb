{
 "cells": [
  {
   "cell_type": "code",
   "execution_count": 5,
   "metadata": {
    "collapsed": false
   },
<<<<<<< HEAD
   "outputs": [
    {
     "name": "stderr",
     "output_type": "stream",
     "text": [
      "/Users/erinellefsen/PycharmProjects/Summer2015env/lib/python2.7/site-packages/pandas/io/excel.py:626: UserWarning: Installed openpyxl is not supported at this time. Use >=1.6.1 and <2.0.0.\n",
      "  .format(openpyxl_compat.start_ver, openpyxl_compat.stop_ver))\n"
     ]
    }
   ],
=======
   "outputs": [],
>>>>>>> 13869f9cd7d0c371a4aff1b028ecd01adfe76625
   "source": [
    "import graph\n",
    "import pandas\n",
    "import numpy\n",
    "import matplotlib\n",
    "%matplotlib inline"
   ]
  },
  {
   "cell_type": "code",
   "execution_count": 2,
   "metadata": {
    "collapsed": true
   },
   "outputs": [
    {
     "name": "stdout",
     "output_type": "stream",
     "text": [
      "1\n"
     ]
    },
    {
     "data": {
      "image/png": "iVBORw0KGgoAAAANSUhEUgAAAYMAAAEACAYAAABRQBpkAAAABHNCSVQICAgIfAhkiAAAAAlwSFlz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\nAABJRU5ErkJggg==\n",
      "text/plain": [
       "<matplotlib.figure.Figure at 0x1056266d0>"
      ]
     },
     "metadata": {},
     "output_type": "display_data"
    },
    {
     "data": {
      "image/png": "iVBORw0KGgoAAAANSUhEUgAAAYMAAAEACAYAAABRQBpkAAAABHNCSVQICAgIfAhkiAAAAAlwSFlz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\nAABJRU5ErkJggg==\n",
      "text/plain": [
       "<matplotlib.figure.Figure at 0x105626690>"
      ]
     },
     "metadata": {},
     "output_type": "display_data"
    }
   ],
   "source": [
<<<<<<< HEAD
    "q = 1\n",
    "for index in range(1):\n",
    "    vaccinationpercent = 0\n",
    "    orderedpairlistHighEpi = []\n",
    "    orderedpairlistLowEpi = []\n",
    "    while vaccinationpercent < 250:\n",
    "        trials = 30\n",
    "        HighEpi = 0\n",
    "        FinalEpi = 0\n",
=======
    "q = .01\n",
    "for index in range(19): \n",
    "    vaccinationnum = 0 \n",
    "    orderedpairlistHighEpi = [] \n",
    "    orderedpairlistLowEpi = [] \n",
    "    while vaccinationnum < 250: \n",
    "        trials = 30 \n",
    "        HighEpi = 0 \n",
    "        FinalEpi = 0 \n",
>>>>>>> 13869f9cd7d0c371a4aff1b028ecd01adfe76625
    "        for x in range(trials):\n",
    "            g = graph.Graph(8, q, 0, vaccinationnum)   #k,p,r,%infected,%vaccinated\n",
    "            g.makeVertices(250)         #of people\n",
    "            g.makebetterClusteredConnections(.02)         #prob they are connected\n",
    "            g.update()            #number of repetitions, num trials\n",
    "            if g.getHighEpi():\n",
    "                HighEpi += 1\n",
    "            if g.getFinalEpi():\n",
    "                FinalEpi += 1\n",
    "\n",
<<<<<<< HEAD
    "        y = (vaccinationpercent,(float(HighEpi)/float(trials))*100 , (float(FinalEpi)/float(trials))*100)\n",
    "    \n",
    "        vaccinationpercent += 5\n",
    "    \n",
=======
    "        orderedpairlistHighEpi = orderedpairlistHighEpi + [[vaccinationnum,(float(HighEpi)/float(trials))*100]]\n",
    "        orderedpairlistLowEpi = orderedpairlistLowEpi + [[vaccinationnum, (float(FinalEpi)/float(trials))*100]]\n",
    "\n",
    "        y = (vaccinationnum,(float(HighEpi)/float(trials))*100 , (float(FinalEpi)/float(trials))*100)\n",
>>>>>>> 13869f9cd7d0c371a4aff1b028ecd01adfe76625
    "\n",
    "        vaccinationnum += 15\n",
    "    df = pandas.DataFrame(orderedpairlistHighEpi)\n",
    "    df1 = pandas.DataFrame(orderedpairlistLowEpi)\n",
    "    del df[0]\n",
    "    del df1[0]\n",
    "    df.plot()\n",
    "    df1.plot()\n",
    "    print(q)\n",
    "    q += .05"
   ]
  },
  {
   "cell_type": "code",
   "execution_count": null,
   "metadata": {
    "collapsed": true
   },
   "outputs": [],
   "source": []
  }
 ],
 "metadata": {
  "kernelspec": {
   "display_name": "Python 2",
   "language": "python",
   "name": "python2"
  },
  "language_info": {
   "codemirror_mode": {
    "name": "ipython",
    "version": 2
   },
   "file_extension": ".py",
   "mimetype": "text/x-python",
   "name": "python",
   "nbconvert_exporter": "python",
   "pygments_lexer": "ipython2",
   "version": "2.7.5"
  }
 },
 "nbformat": 4,
 "nbformat_minor": 0
}
