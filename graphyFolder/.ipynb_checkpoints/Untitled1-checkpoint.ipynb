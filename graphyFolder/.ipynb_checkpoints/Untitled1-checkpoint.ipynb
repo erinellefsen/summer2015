{
 "cells": [
  {
   "cell_type": "code",
   "execution_count": 5,
   "metadata": {
    "collapsed": false
   },
   "outputs": [
    {
     "name": "stderr",
     "output_type": "stream",
     "text": [
      "ERROR: Line magic function `%matplotlibinline` not found.\n"
     ]
    }
   ],
   "source": [
    "import graph\n",
    "import pandas\n",
    "import numpy\n",
    "import matplotlib\n",
    "%matplotlibinline"
   ]
  },
  {
   "cell_type": "code",
   "execution_count": null,
   "metadata": {
    "collapsed": false
   },
   "outputs": [
    {
     "name": "stdout",
     "output_type": "stream",
     "text": [
      "1\n",
      "3\n",
      "5\n",
      "7\n",
      "9\n",
      "11\n",
      "13\n",
      "15\n",
      "17\n",
      "19\n",
      "21\n",
      "23\n",
      "25\n",
      "27"
     ]
    }
   ],
   "source": [
    "q = .01\n",
    "for index in range(19):\n",
    "    vaccinationpercent = 0\n",
    "    orderedpairlistHighEpi = []\n",
    "    orderedpairlistLowEpi = []\n",
    "    while vaccinationpercent < 250:\n",
    "        trials = 30\n",
    "        HighEpi = 0\n",
    "        FinalEpi = 0\n",
    "        for x in range(trials):\n",
    "\n",
    "            g = graph.Graph(8, q, 0, vaccinationpercent)   #k,p,r,%infected,%vaccinated\n",
    "            g.makeVertices(250)         #of people\n",
    "            g.makeConnections(.02)         #prob they are connected\n",
    "            g.update()            #number of repetitions, num trials\n",
    "            if g.getHighEpi():\n",
    "                HighEpi += 1\n",
    "            if g.getFinalEpi():\n",
    "                FinalEpi += 1\n",
    "    \n",
    "        orderedpairlistHighEpi = orderedpairlistHighEpi + [[vaccinationpercent,(float(HighEpi)/float(trials))*100]]\n",
    "        orderedpairlistLowEpi = orderedpairlistLowEpi + [[vaccinationpercent, (float(FinalEpi)/float(trials))*100]]\n",
    "\n",
    "        y = (vaccinationpercent,(float(HighEpi)/float(trials))*100 , (float(FinalEpi)/float(trials))*100)\n",
    "    \n",
    "        vaccinationpercent += 15\n",
    "    \n",
    "\n",
    "    \n",
    "    df = pandas.DataFrame(orderedpairlistHighEpi)\n",
    "    df1 = pandas.DataFrame(orderedpairlistLowEpi)\n",
    "    del df[0]\n",
    "    del df1[0]\n",
    "    df.plot()\n",
    "    df1.plot()\n",
    "    print(q)\n",
    "    q += .05\n"
   ]
  },
  {
   "cell_type": "code",
   "execution_count": null,
   "metadata": {
    "collapsed": true
   },
   "outputs": [],
   "source": []
  }
 ],
 "metadata": {
  "kernelspec": {
   "display_name": "Python 2",
   "language": "python",
   "name": "python2"
  },
  "language_info": {
   "codemirror_mode": {
    "name": "ipython",
    "version": 2
   },
   "file_extension": ".py",
   "mimetype": "text/x-python",
   "name": "python",
   "nbconvert_exporter": "python",
   "pygments_lexer": "ipython2",
   "version": "2.7.5+"
  }
 },
 "nbformat": 4,
 "nbformat_minor": 0
}
