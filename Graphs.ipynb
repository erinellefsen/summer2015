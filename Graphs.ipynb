{
 "metadata": {
  "name": "",
  "signature": "sha256:0b8ecd6b849d9c89d277588cfdef7b3b986a6929e12c5dc0c876ac68b2d0da60"
 },
 "nbformat": 3,
 "nbformat_minor": 0,
 "worksheets": [
  {
   "cells": [
    {
     "cell_type": "code",
     "collapsed": false,
     "input": [
      "import graph\n",
      "import pandas\n",
      "import numpy\n",
      "import matplotlib\n",
      "%matplotlib inline"
     ],
     "language": "python",
     "metadata": {},
     "outputs": [],
     "prompt_number": 2
    },
    {
     "cell_type": "code",
     "collapsed": false,
     "input": [
      "vaccinationpercent = 0\n",
      "orderedpairlistHighEpi = []\n",
      "orderedpairlistLowEpi = []\n",
      "while vaccinationpercent < 1.0:\n",
      "    trials = 60\n",
      "    HighEpi = 0\n",
      "    FinalEpi = 0\n",
      "    for x in range(trials):\n",
      "\n",
      "        g = graph.Graph(10, .02, 0, .01, vaccinationpercent)   #k,p,r,%infected,%vaccinated\n",
      "        #g.makeVerticesAndConnections(210,.01)#prob they are connected\n",
      "        g.makeVertices(500)\n",
      "        g.makeConnections(.01)\n",
      "        g.update(50)            #number of repetitions, num trials\n",
      "        if g.getHighEpi():\n",
      "            HighEpi +=1\n",
      "        if g.getFinalEpi():\n",
      "            FinalEpi +=1\n",
      "    orderedpairlistHighEpi = orderedpairlistHighEpi + [[vaccinationpercent,(HighEpi/trials)*100]]\n",
      "    orderedpairlistLowEpi = orderedpairlistLowEpi + [[vaccinationpercent, (FinalEpi/trials)*100]]\n",
      "\n",
      "    y = (vaccinationpercent,(HighEpi/trials)*100 , (FinalEpi/trials)*100)\n",
      "    vaccinationpercent += .05\n",
      "df = pandas.DataFrame(orderedpairlistHighEpi)\n",
      "df1 = pandas.DataFrame(orderedpairlistLowEpi)\n",
      "del df[0]\n",
      "del df1[0]\n",
      "df.plot()\n",
      "df1.plot()"
     ],
     "language": "python",
     "metadata": {},
     "outputs": [
      {
       "metadata": {},
       "output_type": "pyout",
       "prompt_number": 45,
       "text": [
        "<matplotlib.axes.AxesSubplot at 0x7fec08819590>"
       ]
      },
      {
       "metadata": {},
       "output_type": "display_data",
       "png": "[encoded data removed]",
       "text": [
        "<matplotlib.figure.Figure at 0x7fec0890e350>"
       ]
      },
      {
       "metadata": {},
       "output_type": "display_data",
       "png": "[encoded data removed]",
       "text": [
        "<matplotlib.figure.Figure at 0x7fec08805750>"
       ]
      }
     ],
     "prompt_number": 45
    },
    {
     "cell_type": "code",
     "collapsed": false,
     "input": [],
     "language": "python",
     "metadata": {},
     "outputs": [],
     "prompt_number": 45
    },
    {
     "cell_type": "code",
     "collapsed": false,
     "input": [],
     "language": "python",
     "metadata": {},
     "outputs": []
    }
   ],
   "metadata": {}
  }
 ]
}