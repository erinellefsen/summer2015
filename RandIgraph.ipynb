{
 "cells": [
  {
   "cell_type": "code",
   "execution_count": 7,
   "metadata": {
    "collapsed": false
   },
   "outputs": [],
   "source": [
    "import graph\n",
    "import params\n",
    "import random\n",
    "import pandas as pd\n",
    "import matplotlib.pyplot as plt\n",
    "import pylab as pl\n",
    "import numpy as np\n",
    "import collections\n",
    "%matplotlib inline"
   ]
  },
  {
   "cell_type": "code",
   "execution_count": 8,
   "metadata": {
    "collapsed": false
   },
   "outputs": [
    {
     "ename": "NameError",
     "evalue": "global name 'random' is not defined",
     "output_type": "error",
     "traceback": [
      "\u001b[0;31m---------------------------------------------------------------------------\u001b[0m",
      "\u001b[0;31mNameError\u001b[0m                                 Traceback (most recent call last)",
      "\u001b[0;32m<ipython-input-8-0dccb64d7739>\u001b[0m in \u001b[0;36m<module>\u001b[0;34m()\u001b[0m\n\u001b[1;32m      7\u001b[0m         \u001b[0ma\u001b[0m \u001b[0;34m=\u001b[0m \u001b[0mparams\u001b[0m\u001b[0;34m.\u001b[0m\u001b[0mParams\u001b[0m\u001b[0;34m(\u001b[0m\u001b[0mk\u001b[0m\u001b[0;34m,\u001b[0m\u001b[0;36m.05\u001b[0m\u001b[0;34m,\u001b[0m\u001b[0;36m1000\u001b[0m\u001b[0;34m,\u001b[0m\u001b[0;36m.005\u001b[0m\u001b[0;34m,\u001b[0m\u001b[0mvaccination\u001b[0m\u001b[0;34m*\u001b[0m\u001b[0;36m1000\u001b[0m\u001b[0;34m)\u001b[0m\u001b[0;34m\u001b[0m\u001b[0m\n\u001b[1;32m      8\u001b[0m         \u001b[0mg\u001b[0m \u001b[0;34m=\u001b[0m \u001b[0mgraph\u001b[0m\u001b[0;34m.\u001b[0m\u001b[0mGraph\u001b[0m\u001b[0;34m(\u001b[0m\u001b[0ma\u001b[0m\u001b[0;34m)\u001b[0m\u001b[0;34m\u001b[0m\u001b[0m\n\u001b[0;32m----> 9\u001b[0;31m         \u001b[0mg\u001b[0m\u001b[0;34m.\u001b[0m\u001b[0mupdate\u001b[0m\u001b[0;34m(\u001b[0m\u001b[0;34m)\u001b[0m\u001b[0;34m\u001b[0m\u001b[0m\n\u001b[0m\u001b[1;32m     10\u001b[0m         \u001b[0mr\u001b[0m \u001b[0;34m=\u001b[0m \u001b[0mg\u001b[0m\u001b[0;34m.\u001b[0m\u001b[0mcalculateR\u001b[0m\u001b[0;34m(\u001b[0m\u001b[0;34m)\u001b[0m\u001b[0;34m\u001b[0m\u001b[0m\n\u001b[1;32m     11\u001b[0m         \u001b[0mi\u001b[0m \u001b[0;34m=\u001b[0m \u001b[0mg\u001b[0m\u001b[0;34m.\u001b[0m\u001b[0mgetR\u001b[0m\u001b[0;34m(\u001b[0m\u001b[0;34m)\u001b[0m\u001b[0;34m\u001b[0m\u001b[0m\n",
      "\u001b[0;32m/Users/erinellefsen/PycharmProjects/Summer 2015/graph.pyc\u001b[0m in \u001b[0;36mupdate\u001b[0;34m(self)\u001b[0m\n\u001b[1;32m    209\u001b[0m \u001b[0;34m\u001b[0m\u001b[0m\n\u001b[1;32m    210\u001b[0m     \u001b[0;32mdef\u001b[0m \u001b[0mupdate\u001b[0m\u001b[0;34m(\u001b[0m\u001b[0mself\u001b[0m\u001b[0;34m)\u001b[0m\u001b[0;34m:\u001b[0m\u001b[0;34m\u001b[0m\u001b[0m\n\u001b[0;32m--> 211\u001b[0;31m         \u001b[0mself\u001b[0m\u001b[0;34m.\u001b[0m\u001b[0mcountAndUpdateStatuses\u001b[0m\u001b[0;34m(\u001b[0m\u001b[0;34m)\u001b[0m\u001b[0;34m\u001b[0m\u001b[0m\n\u001b[0m\u001b[1;32m    212\u001b[0m         \u001b[0mself\u001b[0m\u001b[0;34m.\u001b[0m\u001b[0mupdateLists\u001b[0m\u001b[0;34m(\u001b[0m\u001b[0;34m)\u001b[0m\u001b[0;34m\u001b[0m\u001b[0m\n\u001b[1;32m    213\u001b[0m         \u001b[0mself\u001b[0m\u001b[0;34m.\u001b[0m\u001b[0mcheckHighConcentrationEpi\u001b[0m\u001b[0;34m(\u001b[0m\u001b[0;34m)\u001b[0m\u001b[0;34m\u001b[0m\u001b[0m\n",
      "\u001b[0;32m/Users/erinellefsen/PycharmProjects/Summer 2015/graph.pyc\u001b[0m in \u001b[0;36mcountAndUpdateStatuses\u001b[0;34m(self)\u001b[0m\n\u001b[1;32m    199\u001b[0m             \u001b[0;32mif\u001b[0m \u001b[0mitem\u001b[0m\u001b[0;34m.\u001b[0m\u001b[0mgetStatus\u001b[0m\u001b[0;34m(\u001b[0m\u001b[0;34m)\u001b[0m \u001b[0;34m==\u001b[0m \u001b[0;34m'R'\u001b[0m\u001b[0;34m:\u001b[0m\u001b[0;34m\u001b[0m\u001b[0m\n\u001b[1;32m    200\u001b[0m                 \u001b[0mself\u001b[0m\u001b[0;34m.\u001b[0m\u001b[0mnumR\u001b[0m \u001b[0;34m+=\u001b[0m \u001b[0;36m1\u001b[0m\u001b[0;34m\u001b[0m\u001b[0m\n\u001b[0;32m--> 201\u001b[0;31m             \u001b[0mitem\u001b[0m\u001b[0;34m.\u001b[0m\u001b[0mupdateVertex\u001b[0m\u001b[0;34m(\u001b[0m\u001b[0;34m)\u001b[0m\u001b[0;34m\u001b[0m\u001b[0m\n\u001b[0m\u001b[1;32m    202\u001b[0m \u001b[0;34m\u001b[0m\u001b[0m\n\u001b[1;32m    203\u001b[0m     \u001b[0;32mdef\u001b[0m \u001b[0mupdateLists\u001b[0m\u001b[0;34m(\u001b[0m\u001b[0mself\u001b[0m\u001b[0;34m)\u001b[0m\u001b[0;34m:\u001b[0m\u001b[0;34m\u001b[0m\u001b[0m\n",
      "\u001b[0;32m/Users/erinellefsen/PycharmProjects/Summer 2015/vertex.pyc\u001b[0m in \u001b[0;36mupdateVertex\u001b[0;34m(self)\u001b[0m\n\u001b[1;32m     75\u001b[0m             \u001b[0;32mfor\u001b[0m \u001b[0mi\u001b[0m \u001b[0;32min\u001b[0m \u001b[0mself\u001b[0m\u001b[0;34m.\u001b[0m\u001b[0medgeLst\u001b[0m\u001b[0;34m:\u001b[0m\u001b[0;34m\u001b[0m\u001b[0m\n\u001b[1;32m     76\u001b[0m                 \u001b[0;32mif\u001b[0m \u001b[0mi\u001b[0m\u001b[0;34m.\u001b[0m\u001b[0mgetSource\u001b[0m\u001b[0;34m(\u001b[0m\u001b[0;34m)\u001b[0m\u001b[0;34m.\u001b[0m\u001b[0mgetStatus\u001b[0m\u001b[0;34m(\u001b[0m\u001b[0;34m)\u001b[0m\u001b[0;34m==\u001b[0m\u001b[0;34m'I'\u001b[0m\u001b[0;34m:\u001b[0m\u001b[0;34m\u001b[0m\u001b[0m\n\u001b[0;32m---> 77\u001b[0;31m                     \u001b[0;32mif\u001b[0m \u001b[0mi\u001b[0m\u001b[0;34m.\u001b[0m\u001b[0mcheckSpread\u001b[0m\u001b[0;34m(\u001b[0m\u001b[0;34m)\u001b[0m\u001b[0;34m:\u001b[0m\u001b[0;34m\u001b[0m\u001b[0m\n\u001b[0m\u001b[1;32m     78\u001b[0m                         \u001b[0mself\u001b[0m\u001b[0;34m.\u001b[0m\u001b[0mnextStatus\u001b[0m \u001b[0;34m=\u001b[0m \u001b[0;34m'I'\u001b[0m\u001b[0;34m\u001b[0m\u001b[0m\n\u001b[1;32m     79\u001b[0m         \u001b[0;32melif\u001b[0m \u001b[0mself\u001b[0m\u001b[0;34m.\u001b[0m\u001b[0mgetStatus\u001b[0m\u001b[0;34m(\u001b[0m\u001b[0;34m)\u001b[0m \u001b[0;34m==\u001b[0m \u001b[0;34m\"I\"\u001b[0m\u001b[0;34m:\u001b[0m\u001b[0;34m\u001b[0m\u001b[0m\n",
      "\u001b[0;32m/Users/erinellefsen/PycharmProjects/Summer 2015/edge.pyc\u001b[0m in \u001b[0;36mcheckSpread\u001b[0;34m(self)\u001b[0m\n\u001b[1;32m     19\u001b[0m         \u001b[0;32mreturn\u001b[0m \u001b[0mself\u001b[0m\u001b[0;34m.\u001b[0m\u001b[0mb\u001b[0m\u001b[0;34m\u001b[0m\u001b[0m\n\u001b[1;32m     20\u001b[0m     \u001b[0;32mdef\u001b[0m \u001b[0mcheckSpread\u001b[0m\u001b[0;34m(\u001b[0m\u001b[0mself\u001b[0m\u001b[0;34m)\u001b[0m\u001b[0;34m:\u001b[0m\u001b[0;34m\u001b[0m\u001b[0m\n\u001b[0;32m---> 21\u001b[0;31m         \u001b[0;32mif\u001b[0m \u001b[0mrandom\u001b[0m\u001b[0;34m.\u001b[0m\u001b[0mrandom\u001b[0m\u001b[0;34m(\u001b[0m\u001b[0;34m)\u001b[0m \u001b[0;34m<\u001b[0m \u001b[0mself\u001b[0m\u001b[0;34m.\u001b[0m\u001b[0mweight\u001b[0m\u001b[0;34m:\u001b[0m\u001b[0;34m\u001b[0m\u001b[0m\n\u001b[0m\u001b[1;32m     22\u001b[0m             \u001b[0;32mreturn\u001b[0m \u001b[0mTrue\u001b[0m\u001b[0;34m\u001b[0m\u001b[0m\n\u001b[1;32m     23\u001b[0m         \u001b[0;32melse\u001b[0m\u001b[0;34m:\u001b[0m\u001b[0;34m\u001b[0m\u001b[0m\n",
      "\u001b[0;31mNameError\u001b[0m: global name 'random' is not defined"
     ]
    }
   ],
   "source": [
    "vaccination = 0\n",
    "colorlist = ['gray','lightblue','red','lightgreen']\n",
    "for color in colorlist:\n",
    "    RandIdict = {}\n",
    "    k = 1\n",
    "    for x in range(10):\n",
    "        a = params.Params(k,.05,1000,.005,vaccination*1000)\n",
    "        g = graph.Graph(a)\n",
    "        g.update()\n",
    "        r = g.calculateR()\n",
    "        i = g.getR()\n",
    "        RandIdict[r] = [float(i)/float(1000)]\n",
    "        k += 1\n",
    "        \n",
    "    p = .02\n",
    "    for x in range(30):\n",
    "        b = params.Params(3,p,1000,.005,vaccination*1000)\n",
    "        g = graph.Graph(b)\n",
    "        g.update()\n",
    "        r = g.calculateR()\n",
    "        i = g.getR()\n",
    "        RandIdict[r] = [float(i)/float(1000)]\n",
    "        p += .01\n",
    "\n",
    "    k = 1\n",
    "    for x in range(10):\n",
    "        c = params.Params(k,.05,2000,.0025,vaccination*2000)\n",
    "        g = graph.Graph(c)\n",
    "        g.update()\n",
    "        r = g.calculateR()\n",
    "        i = g.getR()\n",
    "        RandIdict[r] = [float(i)/float(2000)]\n",
    "        k += 1\n",
    "\n",
    "\n",
    "    p = .02\n",
    "    for x in range(30):\n",
    "        d = params.Params(3,p,2000,.0025,vaccination*2000)\n",
    "        g = graph.Graph(d)\n",
    "        g.update()\n",
    "        r = g.calculateR()\n",
    "        i = g.getR()\n",
    "        RandIdict[r] = [float(i)/float(2000)]\n",
    "        p += .01\n",
    "\n",
    "    k = 1\n",
    "    for x in range(10):\n",
    "        e = params.Params(k, .05,500,.01,vaccination*500)\n",
    "        g = graph.Graph(e)\n",
    "        g.update()\n",
    "        r = g.calculateR()\n",
    "        i = g.getR()\n",
    "        RandIdict[r] = [float(i)/float(500)]\n",
    "        k += 1\n",
    "\n",
    "\n",
    "    p = .02\n",
    "    for x in range(30):\n",
    "        f = params.Params(3,p,500,.01,vaccination*500)\n",
    "        g = graph.Graph(f)\n",
    "        g.update()\n",
    "        r = g.calculateR()\n",
    "        i = g.getR()\n",
    "        RandIdict[r] = [float(i)/float(500)]\n",
    "        p += .01\n",
    "\n",
    "    k = 1\n",
    "    for x in range(10):\n",
    "        h = params.Params(k, .05,1500,.003,vaccination*1500)\n",
    "        g = graph.Graph(h)\n",
    "        g.update()\n",
    "        r = g.calculateR()\n",
    "        i = g.getR()\n",
    "        RandIdict[r] = [float(i)/float(1500)]\n",
    "        k += 1\n",
    "\n",
    "\n",
    "    p = .02\n",
    "    for x in range(30):\n",
    "        j = params.Params(3,p,1500,.003,vaccination*1500)\n",
    "        g = graph.Graph(j)\n",
    "        g.update()\n",
    "        r = g.calculateR()\n",
    "        i = g.getR()\n",
    "        RandIdict[r] = [float(i)/float(1500)]\n",
    "        p += .01    \n",
    "    \n",
    "    k = 1\n",
    "    for x in range(10):\n",
    "        l = params.Params(k, .05,3000,.001,vaccination*3000)\n",
    "        g = graph.Graph(l)\n",
    "        g.update()\n",
    "        r = g.calculateR()\n",
    "        i = g.getR()\n",
    "        RandIdict[r] = [float(i)/float(3000)]\n",
    "        k += 1\n",
    "\n",
    "\n",
    "    p = .02\n",
    "    for x in range(30):\n",
    "        m = params.Params(3,p,3000,.001,vaccination*3000)\n",
    "        g = graph.Graph(m)\n",
    "        g.update()\n",
    "        r = g.calculateR()\n",
    "        i = g.getR()\n",
    "        RandIdict[r] = [float(i)/float(3000)]\n",
    "        p += .01        \n",
    "    \n",
    "\n",
    "    Rlist = RandIdict.keys()\n",
    "    Ilist = []\n",
    "\n",
    "    for item in Rlist:\n",
    "        Ilist = Ilist + [RandIdict[item]]\n",
    "        #print(item,RandIdict[item])\n",
    "    \n",
    "    plt.scatter(Rlist,Ilist,c=color)\n",
    "\n",
    "    vaccination += .2\n",
    "\n",
    "\n",
    "\n",
    "#change color by population\n",
    "#maybe use a small population?\n",
    "#raw number of infected individuals?\n",
    "#number of initial infected (get rid of \"outliers\")\n",
    "#something about rnot that I don't totally understand yet\n"
   ]
  },
  {
   "cell_type": "code",
   "execution_count": 15,
   "metadata": {
    "collapsed": false
   },
   "outputs": [
    {
     "data": {
      "text/plain": [
       "<matplotlib.collections.PathCollection at 0x11314c750>"
      ]
     },
     "execution_count": 15,
     "metadata": {},
     "output_type": "execute_result"
    },
    {
     "data": {
      "image/png": "[encoded data removed]",
      "text/plain": [
       "<matplotlib.figure.Figure at 0x112d90050>"
      ]
     },
     "metadata": {},
     "output_type": "display_data"
    }
   ],
   "source": []
  },
  {
   "cell_type": "code",
   "execution_count": null,
   "metadata": {
    "collapsed": true
   },
   "outputs": [],
   "source": []
  }
 ],
 "metadata": {
  "kernelspec": {
   "display_name": "Python 2",
   "language": "python",
   "name": "python2"
  },
  "language_info": {
   "codemirror_mode": {
    "name": "ipython",
    "version": 2
   },
   "file_extension": ".py",
   "mimetype": "text/x-python",
   "name": "python",
   "nbconvert_exporter": "python",
   "pygments_lexer": "ipython2",
   "version": "2.7.5"
  }
 },
 "nbformat": 4,
 "nbformat_minor": 0
}
