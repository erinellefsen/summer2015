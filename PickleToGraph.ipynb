{
 "cells": [
  {
   "cell_type": "code",
   "execution_count": 1,
   "metadata": {
    "collapsed": false
   },
   "outputs": [
    {
     "name": "stderr",
     "output_type": "stream",
     "text": [
      "/home/students/doorjo01/research/researchEnv/local/lib/python2.7/site-packages/pandas/io/excel.py:626: UserWarning: Installed openpyxl is not supported at this time. Use >=1.6.1 and <2.0.0.\n",
      "  .format(openpyxl_compat.start_ver, openpyxl_compat.stop_ver))\n"
     ]
    }
   ],
   "source": [
    "import graph\n",
    "import disease\n",
    "import pandas as pd\n",
    "import matplotlib.pyplot as plt \n",
    "import pylab as pl\n",
    "import numpy as np\n",
    "import cPickle as pickle\n",
    "import collections\n",
    "import graph\n",
    "import random\n",
    "import params as pm\n",
    "from params import *\n",
    "%matplotlib inline"
   ]
  },
  {
   "cell_type": "code",
   "execution_count": 14,
   "metadata": {
    "collapsed": false
   },
   "outputs": [],
   "source": [
    "\n",
    "\n",
    "filePrefix = \"otherSavedThings/DenseMeasles1--Clustered--Part2/savedGraphs--\" #INSERT APPROPRIATE FILE NAME HERE\n",
    "#clusteredGraphs--50.pkl\n",
    "def loadInfo(pop,kind,propI):\n",
    "    lstDct = {}\n",
    "    lstDctPrime = {}\n",
    "    r_0Lst = []\n",
    "    rPrimeLst = []\n",
    "    \n",
    "\n",
    "    for j in range(50):\n",
    "        for i in range(2):\n",
    "            fileN = \"otherSavedThings/\"+pop+\"Measles\"+str(i+1)+\"--\"+kind+\"--Part2/savedGraphs\"\n",
    "            lst = []\n",
    "            lstPrime = []\n",
    "            with open(fileN+str(j)+\".pkl\",\"rb\") as inputF:\n",
    "                unPickler = pickle.Unpickler(inputF)\n",
    "                while True:\n",
    "                    try:\n",
    "                        tg1 = unPickler.load()\n",
    "                        g1 = tg1.lift()\n",
    "                        #if g1.r_0 < 16 and g1.r_0>13:\n",
    "                        if pop == \"Rural\":\n",
    "                            if g1.r_0 <6.3 and g1.r_0 >5.4:\n",
    "                                lst.append([g1.r_0,g1.propI])\n",
    "                                lstPrime.append([g1.r_0,g1.propIPrime])\n",
    "                                r_0Lst.append(g1.r_0)\n",
    "                                \n",
    "                        if pop == \"Urban\":\n",
    "                            if g1.r_0 <13 and g1.r_0 >8.3:\n",
    "                                lst.append([g1.r_0,g1.propI])\n",
    "                                lstPrime.append([g1.r_0,g1.propIPrime])\n",
    "                                r_0Lst.append(g1.r_0)                            \n",
    "                        if pop == \"Dense\":\n",
    "                            if g1.r_0 <16.3 and g1.r_0 >12.5:\n",
    "                                lst.append([g1.r_0,g1.propI])\n",
    "                                lstPrime.append([g1.r_0,g1.propIPrime])\n",
    "                                r_0Lst.append(g1.r_0)\n",
    "\n",
    "\n",
    "                    except (EOFError):#,pickle.UnpicklingError):\n",
    "                        break\n",
    "                if (j+50) in lstDct:\n",
    "                    lstDct[j+50] += lst\n",
    "                else:\n",
    "                    lstDct[j+50] = lst\n",
    "\n",
    "                if (j+50) in lstDctPrime:\n",
    "                    lstDctPrime[j+50] += lstPrime\n",
    "                else:\n",
    "                    lstDctPrime[j+50] = lstPrime\n",
    "                inputF.close()\n",
    "            #print(str(i/50.0)+\"% Completed\")\n",
    "    if propI == \"t\":\n",
    "        return lstDct,r_0Lst\n",
    "    elif propI == \"s\":\n",
    "        return lstDctPrime,r_0Lst\n"
   ]
  },
  {
   "cell_type": "code",
   "execution_count": 4,
   "metadata": {
    "collapsed": false
   },
   "outputs": [],
   "source": [
    "def propOverFive(lst):\n",
    "    acc=0\n",
    "    total = len(lst)\n",
    "    for i in lst:\n",
    "        if i[1] >.05: #this assumes that lst[1] is propI\n",
    "            acc +=1\n",
    "    return float(acc)/float(total)\n"
   ]
  },
  {
   "cell_type": "code",
   "execution_count": 13,
   "metadata": {
    "collapsed": false
   },
   "outputs": [
    {
     "ename": "IOError",
     "evalue": "[Errno 2] No such file or directory: 'otherSavedThings/RuralMeasles1--Clustered--Part2/savedGraphs50.pkl'",
     "output_type": "error",
     "traceback": [
      "\u001b[1;31m---------------------------------------------------------------------------\u001b[0m",
      "\u001b[1;31mIOError\u001b[0m                                   Traceback (most recent call last)",
      "\u001b[1;32m<ipython-input-13-54124914770f>\u001b[0m in \u001b[0;36m<module>\u001b[1;34m()\u001b[0m\n\u001b[0;32m      1\u001b[0m \u001b[0mfig\u001b[0m \u001b[1;33m=\u001b[0m \u001b[0mplt\u001b[0m\u001b[1;33m.\u001b[0m\u001b[0mfigure\u001b[0m\u001b[1;33m(\u001b[0m\u001b[1;33m)\u001b[0m\u001b[1;33m\u001b[0m\u001b[0m\n\u001b[0;32m      2\u001b[0m \u001b[0mfig\u001b[0m\u001b[1;33m.\u001b[0m\u001b[0mset_size_inches\u001b[0m\u001b[1;33m(\u001b[0m\u001b[1;36m18.5\u001b[0m\u001b[1;33m,\u001b[0m \u001b[1;36m10.5\u001b[0m\u001b[1;33m,\u001b[0m \u001b[0mforward\u001b[0m\u001b[1;33m=\u001b[0m\u001b[0mTrue\u001b[0m\u001b[1;33m)\u001b[0m\u001b[1;33m\u001b[0m\u001b[0m\n\u001b[1;32m----> 3\u001b[1;33m \u001b[0mlDP\u001b[0m\u001b[1;33m,\u001b[0m \u001b[0mrl\u001b[0m \u001b[1;33m=\u001b[0m \u001b[0mloadInfo\u001b[0m\u001b[1;33m(\u001b[0m\u001b[1;34m\"Rural\"\u001b[0m\u001b[1;33m,\u001b[0m \u001b[1;34m\"Clustered\"\u001b[0m\u001b[1;33m,\u001b[0m\u001b[1;34m\"s\"\u001b[0m\u001b[1;33m)\u001b[0m\u001b[1;33m\u001b[0m\u001b[0m\n\u001b[0m\u001b[0;32m      4\u001b[0m \u001b[0mlDP1\u001b[0m\u001b[1;33m,\u001b[0m \u001b[0mrl1\u001b[0m \u001b[1;33m=\u001b[0m \u001b[0mloadInfo\u001b[0m\u001b[1;33m(\u001b[0m\u001b[1;34m\"Rural\"\u001b[0m\u001b[1;33m,\u001b[0m\u001b[1;34m\"Random\"\u001b[0m\u001b[1;33m,\u001b[0m\u001b[1;34m\"s\"\u001b[0m\u001b[1;33m)\u001b[0m\u001b[1;33m\u001b[0m\u001b[0m\n\u001b[0;32m      5\u001b[0m \u001b[0mlDP2\u001b[0m\u001b[1;33m,\u001b[0m \u001b[0mrl2\u001b[0m \u001b[1;33m=\u001b[0m \u001b[0mloadInfo\u001b[0m\u001b[1;33m(\u001b[0m\u001b[1;34m\"Urban\"\u001b[0m\u001b[1;33m,\u001b[0m \u001b[1;34m\"Clustered\"\u001b[0m\u001b[1;33m,\u001b[0m\u001b[1;34m\"s\"\u001b[0m\u001b[1;33m)\u001b[0m\u001b[1;33m\u001b[0m\u001b[0m\n",
      "\u001b[1;32m<ipython-input-12-b0b52e1cf1e0>\u001b[0m in \u001b[0;36mloadInfo\u001b[1;34m(pop, kind, propI)\u001b[0m\n\u001b[0;32m     15\u001b[0m             \u001b[0mlst\u001b[0m \u001b[1;33m=\u001b[0m \u001b[1;33m[\u001b[0m\u001b[1;33m]\u001b[0m\u001b[1;33m\u001b[0m\u001b[0m\n\u001b[0;32m     16\u001b[0m             \u001b[0mlstPrime\u001b[0m \u001b[1;33m=\u001b[0m \u001b[1;33m[\u001b[0m\u001b[1;33m]\u001b[0m\u001b[1;33m\u001b[0m\u001b[0m\n\u001b[1;32m---> 17\u001b[1;33m             \u001b[1;32mwith\u001b[0m \u001b[0mopen\u001b[0m\u001b[1;33m(\u001b[0m\u001b[0mfileN\u001b[0m\u001b[1;33m+\u001b[0m\u001b[0mstr\u001b[0m\u001b[1;33m(\u001b[0m\u001b[0mj\u001b[0m\u001b[1;33m+\u001b[0m\u001b[1;36m50\u001b[0m\u001b[1;33m)\u001b[0m\u001b[1;33m+\u001b[0m\u001b[1;34m\".pkl\"\u001b[0m\u001b[1;33m,\u001b[0m\u001b[1;34m\"rb\"\u001b[0m\u001b[1;33m)\u001b[0m \u001b[1;32mas\u001b[0m \u001b[0minputF\u001b[0m\u001b[1;33m:\u001b[0m\u001b[1;33m\u001b[0m\u001b[0m\n\u001b[0m\u001b[0;32m     18\u001b[0m                 \u001b[0munPickler\u001b[0m \u001b[1;33m=\u001b[0m \u001b[0mpickle\u001b[0m\u001b[1;33m.\u001b[0m\u001b[0mUnpickler\u001b[0m\u001b[1;33m(\u001b[0m\u001b[0minputF\u001b[0m\u001b[1;33m)\u001b[0m\u001b[1;33m\u001b[0m\u001b[0m\n\u001b[0;32m     19\u001b[0m                 \u001b[1;32mwhile\u001b[0m \u001b[0mTrue\u001b[0m\u001b[1;33m:\u001b[0m\u001b[1;33m\u001b[0m\u001b[0m\n",
      "\u001b[1;31mIOError\u001b[0m: [Errno 2] No such file or directory: 'otherSavedThings/RuralMeasles1--Clustered--Part2/savedGraphs50.pkl'"
     ]
    },
    {
     "data": {
      "text/plain": [
       "<matplotlib.figure.Figure at 0x3f3ab50>"
      ]
     },
     "metadata": {},
     "output_type": "display_data"
    }
   ],
   "source": [
    "fig = plt.figure()\n",
    "fig.set_size_inches(18.5, 10.5, forward=True)\n",
    "lDP, rl = loadInfo(\"Rural\", \"Clustered\",\"s\")\n",
    "lDP1, rl1 = loadInfo(\"Rural\",\"Random\",\"s\")\n",
    "lDP2, rl2 = loadInfo(\"Urban\", \"Clustered\",\"s\")\n",
    "lDP3, rl3 = loadInfo(\"Urban\",\"Random\",\"s\")\n",
    "lDP4, rl4 = loadInfo(\"Dense\", \"Clustered\",\"s\")\n",
    "lDP5, rl5 = loadInfo(\"Dense\",\"Random\",\"s\")\n",
    "#lDP2 = loadInfo(\"Rural\", \"Clustered\",\"t\")\n",
    "def makePlot(lstDct,color=\"blue\",shape=\"o\",kind = \"r\"):\n",
    "    xLst = []\n",
    "    yLst = []\n",
    "    for k,v in lstDct.iteritems():\n",
    "        xLst.append(k)\n",
    "        yLst.append(propOverFive(v))\n",
    "    #if kind == \"r\":\n",
    "        #print(yLst[33])\n",
    "    #if kind == \"u\":\n",
    "        #print(yLst[40])\n",
    "    #if kind == \"d\":\n",
    "        #print(yLst[43])\n",
    "    print xLst\n",
    "    print yLst\n",
    "    plt.scatter(xLst,yLst,c= color,marker=shape,s=75)\n",
    "#makePlot(lDP,color=\"pink\",shape=\"d\",kind = \"r\")\n",
    "#makePlot(lDP1,color=\"lightblue\",shape=\"d\",kind=\"r\")\n",
    "\n",
    "#makePlot(lDP2,color=\"salmon\",shape=\"o\",kind=\"u\")\n",
    "#makePlot(lDP3,color=\"dodgerblue\",shape=\"o\",kind=\"u\")\n",
    "\n",
    "makePlot(lDP4,color=\"red\",shape=\"^\",kind=\"d\")\n",
    "#makePlot(lDP5,color=\"blue\",shape=\"^\",kind=\"d\")\n"
   ]
  },
  {
   "cell_type": "code",
   "execution_count": 63,
   "metadata": {
    "collapsed": false
   },
   "outputs": [
    {
     "data": {
      "text/plain": [
       "6.0607271324989407"
      ]
     },
     "execution_count": 63,
     "metadata": {},
     "output_type": "execute_result"
    }
   ],
   "source": [
    "np.mean(rl1)"
   ]
  },
  {
   "cell_type": "code",
   "execution_count": null,
   "metadata": {
    "collapsed": true
   },
   "outputs": [],
   "source": []
  },
  {
   "cell_type": "code",
   "execution_count": null,
   "metadata": {
    "collapsed": true
   },
   "outputs": [],
   "source": []
  },
  {
   "cell_type": "code",
   "execution_count": null,
   "metadata": {
    "collapsed": true
   },
   "outputs": [],
   "source": []
  }
 ],
 "metadata": {
  "kernelspec": {
   "display_name": "Python 2",
   "language": "python",
   "name": "python2"
  },
  "language_info": {
   "codemirror_mode": {
    "name": "ipython",
    "version": 2
   },
   "file_extension": ".py",
   "mimetype": "text/x-python",
   "name": "python",
   "nbconvert_exporter": "python",
   "pygments_lexer": "ipython2",
   "version": "2.7.5+"
  }
 },
 "nbformat": 4,
 "nbformat_minor": 0
}
