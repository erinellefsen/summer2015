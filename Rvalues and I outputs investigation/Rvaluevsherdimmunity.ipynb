{
 "cells": [
  {
   "cell_type": "code",
   "execution_count": 1,
   "metadata": {
    "collapsed": false
   },
   "outputs": [
    {
     "name": "stderr",
     "output_type": "stream",
     "text": [
      "/Users/erinellefsen/PycharmProjects/Summer2015env/lib/python2.7/site-packages/pandas/io/excel.py:626: UserWarning: Installed openpyxl is not supported at this time. Use >=1.6.1 and <2.0.0.\n",
      "  .format(openpyxl_compat.start_ver, openpyxl_compat.stop_ver))\n"
     ]
    }
   ],
   "source": [
    "import graph\n",
    "import params\n",
    "import random\n",
    "import pandas as pd\n",
    "import matplotlib.pyplot as plt\n",
    "import pylab as pl\n",
    "import numpy as np\n",
    "import collections\n",
    "%matplotlib inline"
   ]
  },
  {
   "cell_type": "code",
   "execution_count": null,
   "metadata": {
    "collapsed": false,
    "scrolled": true
   },
   "outputs": [],
   "source": [
    "RandIdict = []\n",
    "vaccination = 0\n",
    "plist = [.05,.1,.2]\n",
    "klist = [1,2,3,5,8]\n",
    "for x in range(19):\n",
    "    \n",
    "    for x in range(3):\n",
    "        population = 500\n",
    "        probofconnlist = [.01,.005,.00333,.0025]\n",
    "        for y in probofconnlist:\n",
    "        \n",
    "            for p in plist:\n",
    "                for k in klist:\n",
    "                    par = params.Params(k,p,population,y,vaccination * population)\n",
    "                    g = graph.Graph(par,clustered = True)\n",
    "                    g.update()\n",
    "                    r = g.calculateR(True)\n",
    "                    i = g.getR()\n",
    "                    RandIdict = RandIdict + [[r, float(i),population,vaccination,g.getClusteringCoefficient()]]\n",
    "                    \n",
    "   \n",
    "            population += 500\n",
    "    print(\"im going\")\n",
    "    vaccination += .05\n",
    "    "
   ]
  },
  {
   "cell_type": "code",
   "execution_count": 13,
   "metadata": {
    "collapsed": false
   },
   "outputs": [
    {
     "name": "stdout",
     "output_type": "stream",
     "text": [
      "409\n",
      "[[0, 0.782608695652174], [1, 0.9130434782608695], [2, 0.8260869565217391], [3, 0.7272727272727273], [4, 0.6086956521739131], [5, 0.55], [6, 0.6666666666666666], [7, 0.6666666666666666], [8, 0.5652173913043478], [9, 0.4090909090909091], [10, 0.18181818181818182], [11, 0.2608695652173913], [12, 0.15], [13, 0.0], [14, 0.0], [15, 0.0], [16, 0.0], [17, 0.0]]\n"
     ]
    },
    {
     "data": {
      "text/plain": [
       "<matplotlib.collections.PathCollection at 0x114cda3d0>"
      ]
     },
     "execution_count": 13,
     "metadata": {},
     "output_type": "execute_result"
    },
    {
     "data": {
      "image/png": "[encoded data removed]",
      "text/plain": [
       "<matplotlib.figure.Figure at 0x1147b93d0>"
      ]
     },
     "metadata": {},
     "output_type": "display_data"
    }
   ],
   "source": [
    "vacc1 = 0\n",
    "vacc1p = 0\n",
    "vacc2 = 0\n",
    "vacc2p = 0\n",
    "vacc3 = 0\n",
    "vacc3p = 0\n",
    "vacc4 = 0\n",
    "vacc4p = 0\n",
    "vacc5 = 0\n",
    "vacc5p = 0\n",
    "vacc6 = 0\n",
    "vacc6p = 0\n",
    "vacc7 = 0\n",
    "vacc7p = 0\n",
    "vacc8 = 0\n",
    "vacc8p = 0\n",
    "vacc9 = 0 \n",
    "vacc9p = 0\n",
    "vacc10 = 0\n",
    "vacc10p = 0\n",
    "vacc11= 0\n",
    "vacc11p = 0\n",
    "vacc12 =0\n",
    "vacc12p = 0\n",
    "vacc13= 0\n",
    "vacc13p = 0\n",
    "vacc14= 0\n",
    "vacc14p = 0\n",
    "vacc15= 0\n",
    "vacc15p = 0\n",
    "vacc16= 0\n",
    "vacc16p = 0\n",
    "vacc17= 0\n",
    "vacc17p = 0\n",
    "vacc18= 0\n",
    "vacc18p = 0\n",
    "vacc19= 0\n",
    "vacc19p = 0\n",
    "vacc20= 0\n",
    "vacc20p = 0\n",
    "vacclst = [vacc1,vacc1p,vacc2,vacc2p,vacc3,vacc3p,vacc4,vacc4p,vacc5,vacc5p,vacc6,vacc6p,vacc7,vacc7p,vacc8,vacc8p,vacc9,vacc9p,vacc10,vacc10p,vacc11,vacc11p,vacc12,vacc12p,vacc13,vacc13p,vacc14,vacc14p,vacc15,vacc15p,vacc16,vacc16p,vacc17,vacc17p,vacc18,vacc18p,vacc19,vacc19p]\n",
    "vaccperclst = [.05,.1,.15,.2,.25,.3,.35,.4,.45,.5,.55,.6,.65,.7,.75,.8,.85,.9,.95,1]\n",
    "count = 0\n",
    "zlist = []\n",
    "def eq( a, b, eps=0.000001 ):\n",
    "    return abs(a - b) <= eps\n",
    "\n",
    "for item in RandIdict:\n",
    "    if item[0] >= 2 and item[0] < 2.5:\n",
    "        zlist = zlist + [item]\n",
    "\n",
    "\n",
    "for item in zlist:\n",
    "    count = 0\n",
    "    while count <= 19:\n",
    "        something = vaccperclst[count]\n",
    "        if eq(item[3],something):\n",
    "            vacclst[2*count] += 1\n",
    "            if item[1] > .03*item[2]:\n",
    "                vacclst[(2*count)+1] +=1\n",
    "        count += 1\n",
    "        \n",
    "newvacclist = []\n",
    "newcount = 0\n",
    "while newcount < 19:\n",
    "    if not vacclst[2*newcount] == 0:\n",
    "        newvacclist = newvacclist + [[newcount, float(vacclst[(2*newcount)+1])/float(vacclst[2*newcount])]]\n",
    "    newcount += 1\n",
    "    \n",
    "xlist = []\n",
    "ylist = []\n",
    "for item in newvacclist:     \n",
    "    xlist = xlist + [item[0]]\n",
    "    ylist = ylist + [item[1]]\n",
    "print(len(zlist))\n",
    "print(newvacclist)\n",
    "plt.scatter(xlist,ylist)\n"
   ]
  },
  {
   "cell_type": "code",
   "execution_count": 12,
   "metadata": {
    "collapsed": false
   },
   "outputs": [
    {
     "data": {
      "text/plain": [
       "<matplotlib.collections.PathCollection at 0x114c49210>"
      ]
     },
     "execution_count": 12,
     "metadata": {},
     "output_type": "execute_result"
    },
    {
     "data": {
      "image/png": "[encoded data removed]",
      "text/plain": [
       "<matplotlib.figure.Figure at 0x1147a4fd0>"
      ]
     },
     "metadata": {},
     "output_type": "display_data"
    }
   ],
   "source": [
    "clusterlist = []\n",
    "propinflist = []\n",
    "for item in zlist:\n",
    "    clusterlist = clusterlist + [item[4]]\n",
    "    propinflist = propinflist + [float(item[1]/float(item[2]))]\n",
    "plt.scatter(clusterlist,propinflist)"
   ]
  },
  {
   "cell_type": "code",
   "execution_count": null,
   "metadata": {
    "collapsed": true
   },
   "outputs": [],
   "source": []
  }
 ],
 "metadata": {
  "kernelspec": {
   "display_name": "Python 2",
   "language": "python",
   "name": "python2"
  },
  "language_info": {
   "codemirror_mode": {
    "name": "ipython",
    "version": 2
   },
   "file_extension": ".py",
   "mimetype": "text/x-python",
   "name": "python",
   "nbconvert_exporter": "python",
   "pygments_lexer": "ipython2",
   "version": "2.7.5"
  }
 },
 "nbformat": 4,
 "nbformat_minor": 0
}
