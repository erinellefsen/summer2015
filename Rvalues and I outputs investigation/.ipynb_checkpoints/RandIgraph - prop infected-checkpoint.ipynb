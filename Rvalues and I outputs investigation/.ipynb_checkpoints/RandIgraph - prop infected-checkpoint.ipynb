{
 "cells": [
  {
   "cell_type": "code",
   "execution_count": 2,
   "metadata": {
    "collapsed": false,
    "scrolled": true
   },
   "outputs": [
    {
     "name": "stderr",
     "output_type": "stream",
     "text": [
      "/Users/erinellefsen/PycharmProjects/Summer2015env/lib/python2.7/site-packages/pandas/io/excel.py:626: UserWarning: Installed openpyxl is not supported at this time. Use >=1.6.1 and <2.0.0.\n",
      "  .format(openpyxl_compat.start_ver, openpyxl_compat.stop_ver))\n"
     ]
    }
   ],
   "source": [
    "import graph\n",
    "import random\n",
    "import pandas as pd\n",
    "import matplotlib.pyplot as plt\n",
    "import pylab as pl\n",
    "import numpy as np\n",
    "import collections\n",
    "%matplotlib inline"
   ]
  },
  {
   "cell_type": "code",
   "execution_count": null,
   "metadata": {
    "collapsed": false
   },
   "outputs": [],
   "source": [
    "#NuM infected, not proportion\n",
    "vaccination = 0\n",
    "colorlist = ['gray','lightblue','red','lightgreen']\n",
    "for color in colorlist:\n",
    "    population = 500\n",
    "    probofconnlist = [.01,.005,.00333,.0025,.002]\n",
    "    for y in probofconnlist:\n",
    "        RandIdict = []\n",
    "\n",
    "        k = 5\n",
    "\n",
    "        for x in range(10):\n",
    "            g = graph.Graph(k,.7,0,vaccination*population)\n",
    "            g.makeVertices(population)\n",
    "            g.makeConnections(y)\n",
    "            g.update()\n",
    "            r = g.calculateR(True)\n",
    "            i = g.getR()\n",
    "            RandIdict = RandIdict + [[r, float(i)/float(1000),population]]\n",
    "            k += 1\n",
    "\n",
    "        p = .1\n",
    "        for x in range(9):\n",
    "            g = graph.Graph(8,p,0,vaccination*population)\n",
    "            g.makeVertices(population)\n",
    "            g.makeConnections(y)\n",
    "            g.update()\n",
    "            r = g.calculateR(True)\n",
    "            i = g.getR()\n",
    "            RandIdict = RandIdict + [[r, float(i)/float(1000),population]]\n",
    "            p += .1\n",
    "        \n",
    "        population += 500\n",
    "\n",
    "\n",
    "    \n",
    "    print(RandIdict)\n",
    "    Rlist = []\n",
    "    Ilist = []\n",
    "\n",
    "    for item in RandIdict:\n",
    "        Rlist = Rlist + [item[0]]\n",
    "        Ilist = Ilist + [item[1]]\n",
    "        #print(item,RandIdict[item])\n",
    "    \n",
    "    plt.scatter(Rlist,Ilist,s = 50,c=color)\n",
    "\n",
    "    vaccination += .2\n",
    "\n",
    "\n",
    "\n",
    "\n",
    "#change color by population\n",
    "#maybe use a small population?\n",
    "#raw number of infected individuals?\n",
    "#number of initial infected (get rid of \"outliers\")\n",
    "#something about rnot that I don't totally understand yet\n"
   ]
  }
 ],
 "metadata": {
  "kernelspec": {
   "display_name": "Python 2",
   "language": "python",
   "name": "python2"
  },
  "language_info": {
   "codemirror_mode": {
    "name": "ipython",
    "version": 2
   },
   "file_extension": ".py",
   "mimetype": "text/x-python",
   "name": "python",
   "nbconvert_exporter": "python",
   "pygments_lexer": "ipython2",
   "version": "2.7.5"
  }
 },
 "nbformat": 4,
 "nbformat_minor": 0
}
