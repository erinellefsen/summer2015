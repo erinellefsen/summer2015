{
 "cells": [
  {
   "cell_type": "code",
   "execution_count": 1,
   "metadata": {
    "collapsed": false,
    "scrolled": true
   },
   "outputs": [
    {
     "name": "stderr",
     "output_type": "stream",
     "text": [
      "/Users/erinellefsen/PycharmProjects/Summer2015env/lib/python2.7/site-packages/pandas/io/excel.py:626: UserWarning: Installed openpyxl is not supported at this time. Use >=1.6.1 and <2.0.0.\n",
      "  .format(openpyxl_compat.start_ver, openpyxl_compat.stop_ver))\n"
     ]
    }
   ],
   "source": [
    "import graph\n",
    "import random\n",
    "import pandas as pd\n",
    "import matplotlib.pyplot as plt\n",
    "import pylab as pl\n",
    "import numpy as np\n",
    "import collections\n",
    "%matplotlib inline"
   ]
  },
  {
   "cell_type": "code",
   "execution_count": 5,
   "metadata": {
    "collapsed": false,
    "scrolled": true
   },
   "outputs": [
    {
     "name": "stdout",
     "output_type": "stream",
     "text": [
      "im going\n",
      "im going\n",
      "im going\n",
      "im going\n",
      "im going\n",
      "im going\n",
      "im going\n",
      "im going\n",
      "im going\n",
      "im going\n",
      "im going\n",
      "im going\n",
      "im going\n",
      "im going\n",
      "im going\n",
      "{0.0: 0.0, 1.0: 0.0, 2.0: 0.0, 3.0: 0.0, 0.4: 0.0, 0.8: 0.0, 1.6: 0.0, 1.2000000000000002: 0.0, 3.8000000000000003: 0.019138755980861243, 0.6000000000000001: 0.0, 0.2: 0.0, 3.6: 0.024390243902439025, 3.2: 0.0, 2.6: 0.0, 1.8: 0.0, 2.4000000000000004: 0.0, 2.8000000000000003: 0.025, 1.4000000000000001: 0.0, 2.2: 0.0, 3.4000000000000004: 0.045454545454545456}\n"
     ]
    },
    {
     "ename": "ValueError",
     "evalue": "Cannot convert argument type <type 'numpy.ndarray'> to rgba array",
     "output_type": "error",
     "traceback": [
      "\u001b[0;31m---------------------------------------------------------------------------\u001b[0m",
      "\u001b[0;31mValueError\u001b[0m                                Traceback (most recent call last)",
      "\u001b[0;32m<ipython-input-5-b7b542d21466>\u001b[0m in \u001b[0;36m<module>\u001b[0;34m()\u001b[0m\n\u001b[1;32m    101\u001b[0m         \u001b[0mvaluelist\u001b[0m \u001b[0;34m=\u001b[0m \u001b[0mvaluelist\u001b[0m \u001b[0;34m+\u001b[0m \u001b[0;34m[\u001b[0m\u001b[0mpropdict\u001b[0m\u001b[0;34m[\u001b[0m\u001b[0mkey\u001b[0m\u001b[0;34m]\u001b[0m\u001b[0;34m]\u001b[0m\u001b[0;34m\u001b[0m\u001b[0m\n\u001b[1;32m    102\u001b[0m \u001b[0;34m\u001b[0m\u001b[0m\n\u001b[0;32m--> 103\u001b[0;31m     \u001b[0mplt\u001b[0m\u001b[0;34m.\u001b[0m\u001b[0mscatter\u001b[0m\u001b[0;34m(\u001b[0m\u001b[0mkeylist\u001b[0m\u001b[0;34m,\u001b[0m\u001b[0mvaluelist\u001b[0m\u001b[0;34m,\u001b[0m \u001b[0mc\u001b[0m\u001b[0;34m=\u001b[0m\u001b[0mcolor\u001b[0m\u001b[0;34m)\u001b[0m\u001b[0;34m\u001b[0m\u001b[0m\n\u001b[0m\u001b[1;32m    104\u001b[0m \u001b[0;34m\u001b[0m\u001b[0m\n\u001b[1;32m    105\u001b[0m     \u001b[0mvaccination\u001b[0m \u001b[0;34m+=\u001b[0m \u001b[0;36m.2\u001b[0m\u001b[0;34m\u001b[0m\u001b[0m\n",
      "\u001b[0;32m/Users/erinellefsen/PycharmProjects/Summer2015env/lib/python2.7/site-packages/matplotlib/pyplot.pyc\u001b[0m in \u001b[0;36mscatter\u001b[0;34m(x, y, s, c, marker, cmap, norm, vmin, vmax, alpha, linewidths, verts, hold, **kwargs)\u001b[0m\n\u001b[1;32m   3085\u001b[0m         ret = ax.scatter(x, y, s=s, c=c, marker=marker, cmap=cmap, norm=norm,\n\u001b[1;32m   3086\u001b[0m                          \u001b[0mvmin\u001b[0m\u001b[0;34m=\u001b[0m\u001b[0mvmin\u001b[0m\u001b[0;34m,\u001b[0m \u001b[0mvmax\u001b[0m\u001b[0;34m=\u001b[0m\u001b[0mvmax\u001b[0m\u001b[0;34m,\u001b[0m \u001b[0malpha\u001b[0m\u001b[0;34m=\u001b[0m\u001b[0malpha\u001b[0m\u001b[0;34m,\u001b[0m\u001b[0;34m\u001b[0m\u001b[0m\n\u001b[0;32m-> 3087\u001b[0;31m                          linewidths=linewidths, verts=verts, **kwargs)\n\u001b[0m\u001b[1;32m   3088\u001b[0m         \u001b[0mdraw_if_interactive\u001b[0m\u001b[0;34m(\u001b[0m\u001b[0;34m)\u001b[0m\u001b[0;34m\u001b[0m\u001b[0m\n\u001b[1;32m   3089\u001b[0m     \u001b[0;32mfinally\u001b[0m\u001b[0;34m:\u001b[0m\u001b[0;34m\u001b[0m\u001b[0m\n",
      "\u001b[0;32m/Users/erinellefsen/PycharmProjects/Summer2015env/lib/python2.7/site-packages/matplotlib/axes.pyc\u001b[0m in \u001b[0;36mscatter\u001b[0;34m(self, x, y, s, c, marker, cmap, norm, vmin, vmax, alpha, linewidths, verts, **kwargs)\u001b[0m\n\u001b[1;32m   6276\u001b[0m                 \u001b[0mcolors\u001b[0m \u001b[0;34m=\u001b[0m \u001b[0mNone\u001b[0m  \u001b[0;31m# use cmap, norm after collection is created\u001b[0m\u001b[0;34m\u001b[0m\u001b[0m\n\u001b[1;32m   6277\u001b[0m             \u001b[0;32melse\u001b[0m\u001b[0;34m:\u001b[0m\u001b[0;34m\u001b[0m\u001b[0m\n\u001b[0;32m-> 6278\u001b[0;31m                 \u001b[0mcolors\u001b[0m \u001b[0;34m=\u001b[0m \u001b[0mmcolors\u001b[0m\u001b[0;34m.\u001b[0m\u001b[0mcolorConverter\u001b[0m\u001b[0;34m.\u001b[0m\u001b[0mto_rgba_array\u001b[0m\u001b[0;34m(\u001b[0m\u001b[0mc\u001b[0m\u001b[0;34m,\u001b[0m \u001b[0malpha\u001b[0m\u001b[0;34m)\u001b[0m\u001b[0;34m\u001b[0m\u001b[0m\n\u001b[0m\u001b[1;32m   6279\u001b[0m \u001b[0;34m\u001b[0m\u001b[0m\n\u001b[1;32m   6280\u001b[0m         \u001b[0mfaceted\u001b[0m \u001b[0;34m=\u001b[0m \u001b[0mkwargs\u001b[0m\u001b[0;34m.\u001b[0m\u001b[0mpop\u001b[0m\u001b[0;34m(\u001b[0m\u001b[0;34m'faceted'\u001b[0m\u001b[0;34m,\u001b[0m \u001b[0mNone\u001b[0m\u001b[0;34m)\u001b[0m\u001b[0;34m\u001b[0m\u001b[0m\n",
      "\u001b[0;32m/Users/erinellefsen/PycharmProjects/Summer2015env/lib/python2.7/site-packages/matplotlib/colors.pyc\u001b[0m in \u001b[0;36mto_rgba_array\u001b[0;34m(self, c, alpha)\u001b[0m\n\u001b[1;32m    378\u001b[0m         \u001b[0;32mexcept\u001b[0m \u001b[0mTypeError\u001b[0m\u001b[0;34m:\u001b[0m\u001b[0;34m\u001b[0m\u001b[0m\n\u001b[1;32m    379\u001b[0m             raise ValueError(\n\u001b[0;32m--> 380\u001b[0;31m                 \"Cannot convert argument type %s to rgba array\" % type(c))\n\u001b[0m\u001b[1;32m    381\u001b[0m         \u001b[0;32mtry\u001b[0m\u001b[0;34m:\u001b[0m\u001b[0;34m\u001b[0m\u001b[0m\n\u001b[1;32m    382\u001b[0m             \u001b[0;32mif\u001b[0m \u001b[0mnc\u001b[0m \u001b[0;34m==\u001b[0m \u001b[0;36m0\u001b[0m \u001b[0;32mor\u001b[0m \u001b[0mc\u001b[0m\u001b[0;34m.\u001b[0m\u001b[0mlower\u001b[0m\u001b[0;34m(\u001b[0m\u001b[0;34m)\u001b[0m \u001b[0;34m==\u001b[0m \u001b[0;34m'none'\u001b[0m\u001b[0;34m:\u001b[0m\u001b[0;34m\u001b[0m\u001b[0m\n",
      "\u001b[0;31mValueError\u001b[0m: Cannot convert argument type <type 'numpy.ndarray'> to rgba array"
     ]
    },
    {
     "data": {
      "image/png": "[encoded data removed]",
      "text/plain": [
       "<matplotlib.figure.Figure at 0x10b3043d0>"
      ]
     },
     "metadata": {},
     "output_type": "display_data"
    }
   ],
   "source": [
    "colorlist = ['lightblue','red','lightgreen']\n",
    "vaccination = .8\n",
    "for color in colorlist:  \n",
    "    \n",
    "    RandIdict = []\n",
    "    for color in range(3):  \n",
    "        population = 500\n",
    "        probofconnlist = [.008,.004,.00267,.002,.0016]\n",
    "        for y in probofconnlist:\n",
    "            p = .01\n",
    "            for x in range(16):\n",
    "                \n",
    "                g = graph.Graph(5,p,0,vaccination*population)\n",
    "                g.makeVertices(population)\n",
    "                g.makeConnections(y)\n",
    "                g.update()\n",
    "                r = g.calculateR(True)\n",
    "                i = g.getR()\n",
    "                RandIdict = RandIdict + [[r, float(i),population]]\n",
    "                \n",
    "                \n",
    "                p += .02\n",
    "                \n",
    "            k = 1\n",
    "            \n",
    "            for x in range(16):\n",
    "                \n",
    "                g = graph.Graph(k,.5,0,vaccination*population)\n",
    "                g.makeVertices(population)\n",
    "                g.makeConnections(y)\n",
    "                g.update()\n",
    "                r = g.calculateR(True)\n",
    "                i = g.getR()\n",
    "                RandIdict = RandIdict + [[r, float(i),population]]\n",
    "                \n",
    "                k += 1\n",
    "                \n",
    "            p= .01\n",
    "            \n",
    "            for x in range(16):\n",
    "                \n",
    "                g = graph.Graph(3,p,0,vaccination*population)\n",
    "                g.makeVertices(population)\n",
    "                g.makeConnections(y)\n",
    "                g.update()\n",
    "                r = g.calculateR(True)\n",
    "                i = g.getR()\n",
    "                RandIdict = RandIdict + [[r, float(i),population]]\n",
    "                \n",
    "                \n",
    "                p += .02\n",
    "    \n",
    "            k = 1\n",
    "            \n",
    "            for x in range(16):\n",
    "                \n",
    "                g = graph.Graph(k,.7,0,vaccination*population)\n",
    "                g.makeVertices(population)\n",
    "                g.makeConnections(y)\n",
    "                g.update()\n",
    "                r = g.calculateR(True)\n",
    "                i = g.getR()\n",
    "                RandIdict = RandIdict + [[r, float(i),population]]\n",
    "                \n",
    "                k += 1\n",
    "                \n",
    "            population += 500\n",
    "            print('im going')\n",
    "\n",
    "\n",
    "\n",
    "    #for item in RandIdict:\n",
    "    #   print(item[0],item[2])\n",
    "    #Rlist = RandIdict.keys()\n",
    "\n",
    "\n",
    "    stepsize = .2\n",
    "    leftbound = 0\n",
    "    itemtotallist = [0]*20\n",
    "    itemabovelist = [0]*20\n",
    "    for x in range(20):\n",
    "        for item in RandIdict:\n",
    "            if item[0] >= leftbound and item[0] < (leftbound + stepsize):\n",
    "                itemtotallist[x] = itemtotallist[x] + 1\n",
    "                if item[1] > .03*item[2]:\n",
    "                    itemabovelist[x] = itemabovelist[x] + 1\n",
    "\n",
    "        leftbound = (leftbound + stepsize)\n",
    "\n",
    "    propdict = {}\n",
    "    for x in range(20):\n",
    "        if itemtotallist[x] != 0:\n",
    "            propdict[x*.2] = float(itemabovelist[x])/float(itemtotallist[x])  \n",
    "\n",
    "    print(propdict)\n",
    "\n",
    "    keylist = []\n",
    "    valuelist = []\n",
    "    for key in propdict:\n",
    "        keylist = keylist + [key]\n",
    "        valuelist = valuelist + [propdict[key]]\n",
    "\n",
    "    plt.scatter(keylist,valuelist, c=color)\n",
    "    \n",
    "    vaccination += .2\n",
    "\n",
    "\n"
   ]
  },
  {
   "cell_type": "code",
   "execution_count": null,
   "metadata": {
    "collapsed": true
   },
   "outputs": [],
   "source": []
  }
 ],
 "metadata": {
  "kernelspec": {
   "display_name": "Python 2",
   "language": "python",
   "name": "python2"
  },
  "language_info": {
   "codemirror_mode": {
    "name": "ipython",
    "version": 2
   },
   "file_extension": ".py",
   "mimetype": "text/x-python",
   "name": "python",
   "nbconvert_exporter": "python",
   "pygments_lexer": "ipython2",
   "version": "2.7.5"
  }
 },
 "nbformat": 4,
 "nbformat_minor": 0
}
