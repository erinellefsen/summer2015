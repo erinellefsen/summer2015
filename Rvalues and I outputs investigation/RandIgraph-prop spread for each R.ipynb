{
 "cells": [
  {
   "cell_type": "code",
   "execution_count": 1,
   "metadata": {
    "collapsed": false,
    "scrolled": true
   },
   "outputs": [
    {
     "name": "stderr",
     "output_type": "stream",
     "text": [
      "/Users/erinellefsen/PycharmProjects/Summer2015env/lib/python2.7/site-packages/pandas/io/excel.py:626: UserWarning: Installed openpyxl is not supported at this time. Use >=1.6.1 and <2.0.0.\n",
      "  .format(openpyxl_compat.start_ver, openpyxl_compat.stop_ver))\n"
     ]
    }
   ],
   "source": [
    "import graph\n",
    "import random\n",
    "import params\n",
    "import group\n",
    "import edge\n",
    "import pandas as pd\n",
    "import matplotlib.pyplot as plt\n",
    "import pylab as pl\n",
    "import numpy as np\n",
    "import collections\n",
    "%matplotlib inline"
   ]
  },
  {
   "cell_type": "code",
   "execution_count": null,
   "metadata": {
    "collapsed": false,
    "scrolled": true
   },
   "outputs": [],
   "source": [
    "colorlist = ['lightblue','red','lightgreen','gray']\n",
    "vaccination = 0\n",
    "for color in colorlist:  \n",
    "    \n",
    "    RandIdict = []\n",
    "\n",
    "    population = 500\n",
    "    probofconnlist = [.001,.005,.00333,.0025,.002]\n",
    "    for y in probofconnlist:\n",
    "        for something in range(5):\n",
    "            plist = [.05,.1,.2,.4,.6]\n",
    "            klist = [1,2,4,7]\n",
    "            for p in plist:\n",
    "                for k in klist:\n",
    "                    prams = params.Params(k,p,population,y,vaccination*population)\n",
    "                    g = graph.Graph(prams,clustered=True)\n",
    "                    g.update()\n",
    "                    r = g.calculateR(True)\n",
    "                    i = g.getR()\n",
    "                    RandIdict = RandIdict + [[r, float(i),population]]\n",
    "\n",
    "        population += 500\n",
    "        print('im going')\n",
    "\n",
    "\n",
    "    #for item in RandIdict:\n",
    "    #   print(item[0],item[2])\n",
    "    #Rlist = RandIdict.keys()\n",
    "\n",
    "\n",
    "    stepsize = .5\n",
    "    leftbound = 0\n",
    "    itemtotallist = [0]*10\n",
    "    itemabovelist = [0]*10\n",
    "    for x in range(10):\n",
    "        for item in RandIdict:\n",
    "            if item[0] >= leftbound and item[0] < (leftbound + stepsize):\n",
    "                itemtotallist[x] = itemtotallist[x] + 1\n",
    "                if item[1] > .03*item[2]:\n",
    "                    itemabovelist[x] = itemabovelist[x] + 1\n",
    "\n",
    "        leftbound = (leftbound + stepsize)\n",
    "\n",
    "    propdict = {}\n",
    "    for x in range(10):\n",
    "        if itemtotallist[x] != 0:\n",
    "            propdict[x*.5] = float(itemabovelist[x])/float(itemtotallist[x])  \n",
    "\n",
    "    print(propdict)\n",
    "\n",
    "    keylist = []\n",
    "    valuelist = []\n",
    "    for key in propdict:\n",
    "        keylist = keylist + [key]\n",
    "        valuelist = valuelist + [propdict[key]]\n",
    "\n",
    "    plt.scatter(keylist,valuelist, c=color)\n",
    "    \n",
    "    vaccination += .2\n",
    "\n",
    "\n"
   ]
  },
  {
   "cell_type": "code",
   "execution_count": null,
   "metadata": {
    "collapsed": true
   },
   "outputs": [],
   "source": []
  }
 ],
 "metadata": {
  "kernelspec": {
   "display_name": "Python 2",
   "language": "python",
   "name": "python2"
  },
  "language_info": {
   "codemirror_mode": {
    "name": "ipython",
    "version": 2
   },
   "file_extension": ".py",
   "mimetype": "text/x-python",
   "name": "python",
   "nbconvert_exporter": "python",
   "pygments_lexer": "ipython2",
   "version": "2.7.5"
  }
 },
 "nbformat": 4,
 "nbformat_minor": 0
}
