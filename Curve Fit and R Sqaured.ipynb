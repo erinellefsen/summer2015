{
 "cells": [
  {
   "cell_type": "code",
   "execution_count": 1,
   "metadata": {
    "collapsed": false
   },
   "outputs": [
    {
     "name": "stderr",
     "output_type": "stream",
     "text": [
      "/home/students/doorjo01/research/researchEnv/local/lib/python2.7/site-packages/pandas/io/excel.py:626: UserWarning: Installed openpyxl is not supported at this time. Use >=1.6.1 and <2.0.0.\n",
      "  .format(openpyxl_compat.start_ver, openpyxl_compat.stop_ver))\n"
     ]
    }
   ],
   "source": [
    "import graph\n",
    "import disease\n",
    "import pandas as pd\n",
    "import matplotlib.pyplot as plt \n",
    "import pylab as pl\n",
    "import numpy as np\n",
    "import numpy.linalg as ln\n",
    "import cPickle as pickle\n",
    "import collections\n",
    "from scipy.optimize import brentq\n",
    "import graph\n",
    "import random\n",
    "import params as pm\n",
    "import pylab\n",
    "from scipy.optimize import curve_fit\n",
    "from params import *\n",
    "\n",
    "%matplotlib inline"
   ]
  },
  {
   "cell_type": "code",
   "execution_count": 2,
   "metadata": {
    "collapsed": false
   },
   "outputs": [
    {
     "data": {
      "text/plain": [
       "matrix([[-0.75],\n",
       "        [ 1.75],\n",
       "        [ 1.  ]])"
      ]
     },
     "execution_count": 2,
     "metadata": {},
     "output_type": "execute_result"
    }
   ],
   "source": [
    "a = np.matrix('1,1,1;4,2,1;0,0,1;4,2,1')\n",
    "v = np.matrix('2;1;1;2')\n",
    "aT = a.transpose()\n",
    "(ln.inv(aT*a)*aT)*v\n"
   ]
  },
  {
   "cell_type": "code",
   "execution_count": 9,
   "metadata": {
    "collapsed": false
   },
   "outputs": [
    {
     "name": "stdout",
     "output_type": "stream",
     "text": [
      "[  1.39265285e-11   8.08770868e-01   5.48956808e-01]\n"
     ]
    },
    {
     "data": {
      "image/png": "[encoded data removed]",
      "text/plain": [
       "<matplotlib.figure.Figure at 0x47ea0d0>"
      ]
     },
     "metadata": {},
     "output_type": "display_data"
    }
   ],
   "source": [
    "xLst= [50, 51, 52, 53, 54, 55, 56, 57, 58, 59, 60, 61, 62, 63, 64, 65, 66, 67, 68, 69, 70, 71, 72, 73, 74, 75, 76, 77, 78, 79, 80, 81, 82, 83, 84, 85, 86, 87, 88, 89, 90, 91, 92, 93, 94, 95, 96, 97, 98, 99]\n",
    "yLst = [1.0, 0.9871794871794872, 0.9937106918238994, 0.9905362776025236, 0.9770491803278688, 0.9967845659163987, 0.9904761904761905, 0.9805194805194806, 0.9842767295597484, 0.98, 0.9838187702265372, 0.9867986798679867, 0.980327868852459, 0.9703947368421053, 0.9668874172185431, 0.9646302250803859, 0.9651898734177216, 0.98125, 0.9483870967741935, 0.9639344262295082, 0.9710610932475884, 0.9803921568627451, 0.954983922829582, 0.9617834394904459, 0.9615384615384616, 0.939873417721519, 0.921875, 0.9053627760252366, 0.9230769230769231, 0.9163879598662207, 0.939297124600639, 0.8808777429467085, 0.9099378881987578, 0.8673139158576052, 0.8338762214983714, 0.8227848101265823, 0.7919254658385093, 0.7662337662337663, 0.7166123778501629, 0.6806451612903226, 0.7087378640776699, 0.5172413793103449, 0.4983388704318937, 0.3181818181818182, 0.2389937106918239, 0.09779179810725552, 0.05573770491803279, 0.016286644951140065, 0.00974025974025974, 0.003194888178913738]\n",
    "\n",
    "def boltzmann(x, x0,a1, k):\n",
    "    a2 = 0\n",
    "    \n",
    "    y = (a1-a2) / (1 + np.exp(-k*(x-x0))) - a2\n",
    "    return y\n",
    "\n",
    "def logistic(x,x0,a1,p):\n",
    "    a2 = 0\n",
    "    y = (a1-a2)/(1+(x/x0)**p)+a2\n",
    "    return y\n",
    "\n",
    "def hill(x,k,v,n):\n",
    "    y = v*(x**n/(k**n+x**n))\n",
    "    return y \n",
    "\n",
    "\n",
    "xdata = np.array(xLst)\n",
    "ydata = np.array(yLst)\n",
    "\n",
    "x = np.linspace(40, 100, 500)\n",
    "\n",
    "popt, pcov = curve_fit(logistic, xdata, ydata)\n",
    "y = logistic(x, *popt)\n",
    "\n",
    "popt, pcov = curve_fit(boltzmann, xdata, ydata)\n",
    "y1 = boltzmann(x,*popt)\n",
    "\n",
    "popt, pcov = curve_fit(hill, xdata, ydata)\n",
    "y2 = hill(x,*popt)\n",
    " \n",
    "pylab.plot(xdata, ydata, 'o', label='data')\n",
    "pylab.plot(x,y, label='fit')\n",
    "\n",
    "pylab.plot(x,y1,color = \"lightskyblue\")\n",
    "pylab.plot(x,y2, color = \"magenta\")\n",
    "print(popt)\n",
    "pylab.ylim(0, 1.05)\n",
    "pylab.legend(loc='best')\n",
    "pylab.show() "
   ]
  },
  {
   "cell_type": "code",
   "execution_count": 48,
   "metadata": {
    "collapsed": false
   },
   "outputs": [
    {
     "name": "stdout",
     "output_type": "stream",
     "text": [
      "[ 7.14248671  1.12930053]\n"
     ]
    },
    {
     "data": {
      "image/png": "[encoded data removed]",
      "text/plain": [
       "<matplotlib.figure.Figure at 0x46ca890>"
      ]
     },
     "metadata": {},
     "output_type": "display_data"
    }
   ],
   "source": [
    "def sigmoid(x, x0, k):\n",
    "    y = 1 / (1 + np.exp(-k*(x-x0)))\n",
    "    return y\n",
    " \n",
    "xdata = np.array([0.0, 1.0, 3.0, 4.3, 7.0, 8.0, 8.5, 10.0, 12.0])\n",
    "ydata = np.array([0.01, 0.02, 0.04, 0.11, 0.43, 0.7, 0.89, 0.95, 0.99])\n",
    " \n",
    "popt, pcov = curve_fit(sigmoid, xdata, ydata)\n",
    "print popt\n",
    " \n",
    "x = np.linspace(-1, 15, 50)\n",
    "y = sigmoid(x, *popt)\n",
    " \n",
    "pylab.plot(xdata, ydata, 'o', label='data')\n",
    "pylab.plot(x,y, label='fit')\n",
    "pylab.ylim(0, 1.05)\n",
    "pylab.legend(loc='best')\n",
    "pylab.show() "
   ]
  },
  {
   "cell_type": "code",
   "execution_count": 39,
   "metadata": {
    "collapsed": false
   },
   "outputs": [
    {
     "data": {
      "text/plain": [
       "0.5"
      ]
     },
     "execution_count": 39,
     "metadata": {},
     "output_type": "execute_result"
    }
   ],
   "source": [
    "def calcRSquared(f,popt,xLst,yLst): #input: function, xlist and y list \n",
    "    SSreg = calcSSreg(f,popt,xLst,yLst)\n",
    "    SStot = calcSStot(yLst) #mean\n",
    "    print(SSreg,SStot)\n",
    "    return 1- (SSreg/SStot)\n",
    "\n",
    "def calcSSreg(f,popt,xLst,yLst):\n",
    "    res = 0\n",
    "    for i in range(len(xLst)):\n",
    "        x = xLst[i]\n",
    "        yGuess = yLst[i]\n",
    "        temp = yGuess - f(x,*popt) \n",
    "        res += temp**2\n",
    "    return res\n",
    "def calcSStot(yLst):\n",
    "    res = 0\n",
    "    mean = np.mean(yLst)\n",
    "    for i in yLst:\n",
    "        res += (mean-i)**2\n",
    "    return res\n",
    "\n",
    "\n",
    "def calcRSquaredImplicit(f,xLst,yLst):\n",
    "    SStot = calcSStot(yLst)\n",
    "    SSreg = calcSSregImplicit(f,xLst,yLst)\n",
    "    return 1- (SSreg/SStot)\n",
    "        \n",
    "def calcSSregImplicit(f,xLst,yLst):\n",
    "    res = 0\n",
    "    for i in range(len(xLst)):\n",
    "        x = xLst[i]\n",
    "        yGuess = yLst[i]\n",
    "        g = f(x) #return a single variable function\n",
    "        yReal = brentq(g,0,1)\n",
    "        temp = yReal-yGuess\n",
    "        res += temp**2\n",
    "    return res\n",
    "    \n",
    "    \n",
    "brentq(utils.continuousInfection(2,nu = 400),0,1)    \n",
    "calcSStot([5,4])"
   ]
  },
  {
   "cell_type": "code",
   "execution_count": 46,
   "metadata": {
    "collapsed": false
   },
   "outputs": [
    {
     "name": "stdout",
     "output_type": "stream",
     "text": [
      "2\n",
      "25.0\n",
      "(2, 25.0)\n",
      "0.92\n"
     ]
    }
   ],
   "source": [
    "def line(x,a,c):\n",
    "    y = a*x+c\n",
    "    return y\n",
    "tupl = (2,3)\n",
    "line(2,*tupl)\n",
    "\n",
    "xPoints = [1,2,3,4]\n",
    "yPoints = [4,7,8,11]\n",
    "print(calcSSreg(line,tupl,xPoints,yPoints))\n",
    "print(calcSStot(yPoints))\n",
    "print(calcRSquared(line,tupl,xPoints,yPoints))"
   ]
  },
  {
   "cell_type": "code",
   "execution_count": 47,
   "metadata": {
    "collapsed": false
   },
   "outputs": [
    {
     "data": {
      "text/plain": [
       "7.5"
      ]
     },
     "execution_count": 47,
     "metadata": {},
     "output_type": "execute_result"
    }
   ],
   "source": [
    "np.mean(yPoints)"
   ]
  },
  {
   "cell_type": "code",
   "execution_count": 48,
   "metadata": {
    "collapsed": false
   },
   "outputs": [
    {
     "name": "stdout",
     "output_type": "stream",
     "text": [
      "12.25\n",
      "0.25\n",
      "0.25\n",
      "12.25\n"
     ]
    }
   ],
   "source": [
    "for i in yPoints:\n",
    "    print((7.5-i)**2)"
   ]
  },
  {
   "cell_type": "code",
   "execution_count": 51,
   "metadata": {
    "collapsed": false
   },
   "outputs": [
    {
     "data": {
      "text/plain": [
       "0.92"
      ]
     },
     "execution_count": 51,
     "metadata": {},
     "output_type": "execute_result"
    }
   ],
   "source": [
    "1-(2/25.)"
   ]
  },
  {
   "cell_type": "code",
   "execution_count": null,
   "metadata": {
    "collapsed": true
   },
   "outputs": [],
   "source": []
  }
 ],
 "metadata": {
  "kernelspec": {
   "display_name": "Python 2",
   "language": "python",
   "name": "python2"
  },
  "language_info": {
   "codemirror_mode": {
    "name": "ipython",
    "version": 2
   },
   "file_extension": ".py",
   "mimetype": "text/x-python",
   "name": "python",
   "nbconvert_exporter": "python",
   "pygments_lexer": "ipython2",
   "version": "2.7.5+"
  }
 },
 "nbformat": 4,
 "nbformat_minor": 0
}
