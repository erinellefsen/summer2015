{
 "cells": [
  {
   "cell_type": "code",
   "execution_count": 4,
   "metadata": {
    "collapsed": false
   },
   "outputs": [],
   "source": [
    "import graph\n",
    "import disease\n",
    "import pandas as pd\n",
    "import matplotlib.pyplot as plt \n",
    "import pylab as pl\n",
    "import numpy as np\n",
    "import collections\n",
    "import graph\n",
    "import random\n",
    "import params as pm\n",
    "from params import *\n",
    "%matplotlib inline"
   ]
  },
  {
   "cell_type": "code",
   "execution_count": 7,
   "metadata": {
    "collapsed": false
   },
   "outputs": [
    {
     "data": {
      "text/plain": [
       "23.751233333333339"
      ]
     },
     "execution_count": 7,
     "metadata": {},
     "output_type": "execute_result"
    }
   ],
   "source": [
    "lst = []\n",
    "for i in range(30):\n",
    "    rho = random.uniform(0.0015,0.004)\n",
    "    prams = pm.Params(6,1,4000,rho,0,targeted= False)\n",
    "\n",
    "    g = graph.Graph(prams,clustered=True)\n",
    "    #g.update()\n",
    "    r = g.calculateR(True) #basic = true\n",
    "    \n",
    "    lst.append(r)\n",
    "\n",
    "np.mean(lst)"
   ]
  },
  {
   "cell_type": "code",
   "execution_count": null,
   "metadata": {
    "collapsed": true
   },
   "outputs": [],
   "source": [
    "python2 saveVitals.py clusteredGraphs$COUNTER--2 $1 .02\n",
    "python2 saveVitals.py clusteredGraphs$COUNTER--4 $1 .04\n",
    "python2 saveVitals.py clusteredGraphs$COUNTER--6 $1 .06\n",
    "python2 saveVitals.py clusteredGraphs$COUNTER--8 $1 .08\n",
    "python2 saveVitals.py clusteredGraphs$COUNTER--10 $1 .10\n",
    "python2 saveVitals.py clusteredGraphs$COUNTER--12 $1 .12\n",
    "python2 saveVitals.py clusteredGraphs$COUNTER--14 $1 .14\n",
    "python2 saveVitals.py clusteredGraphs$COUNTER--16 $1 .16\n",
    "python2 saveVitals.py clusteredGraphs$COUNTER--18 $1 .18\n",
    "python2 saveVitals.py clusteredGraphs$COUNTER--20 $1 .20\n",
    "python2 saveVitals.py clusteredGraphs$COUNTER--22 $1 .22\n",
    "python2 saveVitals.py clusteredGraphs$COUNTER--24 $1 .24\n",
    "python2 saveVitals.py clusteredGraphs$COUNTER--26 $1 .26\n",
    "python2 saveVitals.py clusteredGraphs$COUNTER--28 $1 .28\n",
    "python2 saveVitals.py clusteredGraphs$COUNTER--30 $1 .30\n",
    "python2 saveVitals.py clusteredGraphs$COUNTER--32 $1 .32\n",
    "python2 saveVitals.py clusteredGraphs$COUNTER--34 $1 .34\n",
    "python2 saveVitals.py clusteredGraphs$COUNTER--36 $1 .36\n",
    "python2 saveVitals.py clusteredGraphs$COUNTER--38 $1 .38\n",
    "python2 saveVitals.py clusteredGraphs$COUNTER--40 $1 .40\n",
    "python2 saveVitals.py clusteredGraphs$COUNTER--42 $1 .42\n",
    "python2 saveVitals.py clusteredGraphs$COUNTER--44 $1 .44\n",
    "python2 saveVitals.py clusteredGraphs$COUNTER--46 $1 .46\n",
    "python2 saveVitals.py clusteredGraphs$COUNTER--48 $1 .48\n",
    "python2 saveVitals.py clusteredGraphs$COUNTER--50 $1 .40\n",
    "python2 saveVitals.py clusteredGraphs$COUNTER--52 $1 .52\n",
    "python2 saveVitals.py clusteredGraphs$COUNTER--54 $1 .54\n",
    "python2 saveVitals.py clusteredGraphs$COUNTER--56 $1 .56\n",
    "python2 saveVitals.py clusteredGraphs$COUNTER--58 $1 .58\n",
    "python2 saveVitals.py clusteredGraphs$COUNTER--60 $1 .60\n",
    "python2 saveVitals.py clusteredGraphs$COUNTER--62 $1 .62\n",
    "python2 saveVitals.py clusteredGraphs$COUNTER--64 $1 .64\n",
    "python2 saveVitals.py clusteredGraphs$COUNTER--66 $1 .66\n",
    "python2 saveVitals.py clusteredGraphs$COUNTER--68 $1 .68\n",
    "python2 saveVitals.py clusteredGraphs$COUNTER--70 $1 .70\n",
    "python2 saveVitals.py clusteredGraphs$COUNTER--72 $1 .72\n",
    "python2 saveVitals.py clusteredGraphs$COUNTER--74 $1 .74\n",
    "python2 saveVitals.py clusteredGraphs$COUNTER--76 $1 .76\n",
    "python2 saveVitals.py clusteredGraphs$COUNTER--78 $1 .78\n",
    "python2 saveVitals.py clusteredGraphs$COUNTER--80 $1 .80\n",
    "python2 saveVitals.py clusteredGraphs$COUNTER--82 $1 .82\n",
    "python2 saveVitals.py clusteredGraphs$COUNTER--84 $1 .84\n",
    "python2 saveVitals.py clusteredGraphs$COUNTER--86 $1 .86\n",
    "python2 saveVitals.py clusteredGraphs$COUNTER--88 $1 .88\n",
    "python2 saveVitals.py clusteredGraphs$COUNTER--90 $1 .90\n",
    "python2 saveVitals.py clusteredGraphs$COUNTER--92 $1 .92\n",
    "python2 saveVitals.py clusteredGraphs$COUNTER--94 $1 .94\n",
    "python2 saveVitals.py clusteredGraphs$COUNTER--96 $1 .96\n",
    "python2 saveVitals.py clusteredGraphs$COUNTER--98 $1 .98\n",
    "\n",
    "\n",
    "\n",
    "COUNTER=1\n",
    "while [[ $COUNTER -lt 10 ]]; \n",
    "do\n",
    "    python2 saveVitals.py clusteredGraphs$COUNTER--0 $1 .0\n",
    "    python2 saveVitals.py clusteredGraphs$COUNTER--20 $1 .2\n",
    "    python2 saveVitals.py clusteredGraphs$COUNTER--40 $1 .4\n",
    "    python2 saveVitals.py clusteredGraphs$COUNTER--60 $1 .6\n",
    "    python2 saveVitals.py clusteredGraphs$COUNTER--80 $1 .8\n",
    "    echo $COUNTER\n",
    "    let COUNTER=COUNTER+1\n",
    "done "
   ]
  }
 ],
 "metadata": {
  "kernelspec": {
   "display_name": "Python 2",
   "language": "python",
   "name": "python2"
  },
  "language_info": {
   "codemirror_mode": {
    "name": "ipython",
    "version": 2
   },
   "file_extension": ".py",
   "mimetype": "text/x-python",
   "name": "python",
   "nbconvert_exporter": "python",
   "pygments_lexer": "ipython2",
   "version": "2.7.5+"
  }
 },
 "nbformat": 4,
 "nbformat_minor": 0
}
