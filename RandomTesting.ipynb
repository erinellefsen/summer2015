{
 "metadata": {
  "name": ""
 },
 "nbformat": 3,
 "nbformat_minor": 0,
 "worksheets": [
  {
   "cells": [
    {
     "cell_type": "code",
     "collapsed": false,
     "input": [
      "import graph\n",
      "import pandas\n",
      "import numpy\n"
     ],
     "language": "python",
     "metadata": {},
     "outputs": [],
     "prompt_number": 2
    },
    {
     "cell_type": "code",
     "collapsed": false,
     "input": [
      "highEpi = 0\n",
      "finalEpi = 0\n",
      "g = graph.Graph(2, .02, 0, .03, .2)   #k,p,r,%infected,%vaccinated\n",
      "g.makeVertices(1000)         #of people\n",
      "g.makeConnections(.01)         #prob they are connected\n",
      "g.update(50)            #number of repetitions, num trials\n",
      "if g.getHighEpi():\n",
      "    highEpi +=1\n",
      "if g.getFinalEpi():\n",
      "    finalEpi +=1\n",
      "print(g.getStatuses())"
     ],
     "language": "python",
     "metadata": {},
     "outputs": [
      {
       "output_type": "stream",
       "stream": "stdout",
       "text": [
        "(593, 0, 201)\n"
       ]
      }
     ],
     "prompt_number": 6
    },
    {
     "cell_type": "code",
     "collapsed": false,
     "input": [],
     "language": "python",
     "metadata": {},
     "outputs": []
    }
   ],
   "metadata": {}
  }
 ]
}