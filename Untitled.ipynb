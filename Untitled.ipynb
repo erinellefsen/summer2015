{
 "cells": [
  {
   "cell_type": "code",
   "execution_count": 1,
   "metadata": {
    "collapsed": false
   },
   "outputs": [],
   "source": [
    "import graph\n",
    "import params\n",
    "import group\n",
    "import math\n",
    "import utils\n",
    "import collections\n",
    "import matplotlib\n",
    "import matplotlib.pyplot as plt\n",
    "import pylab as pl\n",
    "import numpy as np\n",
    "%matplotlib inline\n"
   ]
  },
  {
   "cell_type": "code",
   "execution_count": null,
   "metadata": {
    "collapsed": false
   },
   "outputs": [],
   "source": [
    "fig = plt.figure()\n",
    "\n",
    "vaccination = 0\n",
    "colorlist = ['red','blue','green', 'gray']\n",
    "for color in colorlist:\n",
    "    Rlist = []\n",
    "    for x in range(5):\n",
    "        plist = [.1,.4,.6,.9]\n",
    "        klist = [1,3,5,7,8]\n",
    "        for p in plist:\n",
    "            for k in klist:\n",
    "                prams = params.Params(k,p,1000,0,vaccination*1000)\n",
    "                g = graph.Graph(prams,True)\n",
    "                g.update()\n",
    "                Rlist = Rlist + [[g.calculateR(True), float(g.getR())/float(1000), float(vaccination)]]\n",
    "\n",
    "        for p in plist:\n",
    "            for k in klist:\n",
    "                prams = params.Params(k,p,2000,0,vaccination*2000)\n",
    "                g = graph.Graph(prams,True)\n",
    "                g.update()\n",
    "                Rlist = Rlist + [[g.calculateR(True), float(g.getR())/float(2000), float(vaccination)]]\n",
    "\n",
    "        for p in plist:\n",
    "            for k in klist:\n",
    "                prams = params.Params(k,p,3000,0,vaccination*3000)\n",
    "                g = graph.Graph(prams,True)\n",
    "                g.update()\n",
    "                Rlist = Rlist + [[g.calculateR(True), float(g.getR())/float(3000), float(vaccination)]]\n",
    "    xlist = []\n",
    "    ylist = []\n",
    "    for item in Rlist:\n",
    "        xlist = xlist +[item[0]]\n",
    "        ylist = ylist + [item[1]]\n",
    "    ax = fig.add_subplot(1,1,1)\n",
    "    utils.plot_implicit2d(utils.continuousInfection, rangeX=(0,4),rangeY=(0,1),ax=ax)\n",
    "    utils.plot_implicit2d(utils.continuousInfection2, rangeX=(0,4),rangeY=(0,1),ax=ax)\n",
    "    utils.plot_implicit2d(utils.continuousInfection4, rangeX=(0,4),rangeY=(0,1),ax=ax)\n",
    "    utils.plot_implicit2d(utils.continuousInfection6, rangeX=(0,4),rangeY=(0,1),ax=ax)\n",
    "    plt.scatter(xlist,ylist, c = color)\n",
    "    vaccination += .2\n",
    "    print(Rlist)"
   ]
  },
  {
   "cell_type": "code",
   "execution_count": null,
   "metadata": {
    "collapsed": true
   },
   "outputs": [],
   "source": []
  }
 ],
 "metadata": {
  "kernelspec": {
   "display_name": "Python 2",
   "language": "python",
   "name": "python2"
  },
  "language_info": {
   "codemirror_mode": {
    "name": "ipython",
    "version": 2
   },
   "file_extension": ".py",
   "mimetype": "text/x-python",
   "name": "python",
   "nbconvert_exporter": "python",
   "pygments_lexer": "ipython2",
   "version": "2.7.5"
  }
 },
 "nbformat": 4,
 "nbformat_minor": 0
}
