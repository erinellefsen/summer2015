{
 "cells": [
  {
   "cell_type": "code",
   "execution_count": 2,
   "metadata": {
    "collapsed": false
   },
   "outputs": [],
   "source": [
    "%matplotlib inline\n"
   ]
  },
  {
   "cell_type": "code",
   "execution_count": 1,
   "metadata": {
    "collapsed": false
   },
   "outputs": [
    {
     "name": "stdout",
     "output_type": "stream",
     "text": [
      "[1, 2]\n",
      "[(1, 2)]\n"
     ]
    },
    {
     "name": "stderr",
     "output_type": "stream",
     "text": [
      "/home/students/doorjo01/research/researchEnv/local/lib/python2.7/site-packages/pandas/io/excel.py:626: UserWarning: Installed openpyxl is not supported at this time. Use >=1.6.1 and <2.0.0.\n",
      "  .format(openpyxl_compat.start_ver, openpyxl_compat.stop_ver))\n"
     ]
    },
    {
     "data": {
      "text/plain": [
       "[(1, 2)]"
      ]
     },
     "execution_count": 1,
     "metadata": {},
     "output_type": "execute_result"
    }
   ],
   "source": [
    "import matplotlib\n",
    "import numpy as np\n",
    "import pandas as pd\n",
    "import matplotlib.pyplot as pl\n",
    "from vertex import *\n",
    "import disease\n",
    "import graph\n",
    "import params\n",
    "import collections\n",
    "import networkx as nx\n",
    "import random\n",
    "G=nx.Graph()\n",
    "#G.add_node(\"spam\")\n",
    "G.add_edge(1,2)\n",
    "print(G.nodes())\n",
    "[1, 2, 'spam']\n",
    "print(G.edges())\n",
    "[(1, 2)]\n"
   ]
  },
  {
   "cell_type": "code",
   "execution_count": 2,
   "metadata": {
    "collapsed": false
   },
   "outputs": [],
   "source": [
    "p = params.Params(8,.01,20,.5,0) #k,p,N,rho,nu\n",
    "g = graph.Graph(p)\n",
    "g.makeVertices()\n",
    "g.makeConnections()\n",
    "\n",
    "verts = g.getVertices()\n",
    "edges = g.getEdges()"
   ]
  },
  {
   "cell_type": "code",
   "execution_count": 39,
   "metadata": {
    "collapsed": false
   },
   "outputs": [
    {
     "name": "stdout",
     "output_type": "stream",
     "text": [
      "[0 : R, 1 : S, 2 : S, 3 : R, 4 : S, 5 : R, 6 : S, 7 : S, 8 : S, 9 : R, 10 : S, 11 : R, 12 : R, 13 : S, 14 : R, 15 : S, 16 : S, 17 : S, 18 : S, 19 : R]\n"
     ]
    }
   ],
   "source": [
    "#for i in verts:\n",
    "    #print i.getSourceTo()\n",
    "#print(edges)\n",
    "g.update()\n",
    "print(g.getVertices())"
   ]
  },
  {
   "cell_type": "code",
   "execution_count": 23,
   "metadata": {
    "collapsed": false
   },
   "outputs": [
    {
     "data": {
      "text/plain": [
       "184"
      ]
     },
     "execution_count": 23,
     "metadata": {},
     "output_type": "execute_result"
    }
   ],
   "source": [
    "len(edges)"
   ]
  },
  {
   "cell_type": "code",
   "execution_count": 4,
   "metadata": {
    "collapsed": false
   },
   "outputs": [],
   "source": [
    "g = graph.Graph(8, .2, 0, 0)   #k,p,r,%infected,%vaccinated\n",
    "g.makeVertices(250)\n",
    "g.makeConnections(.05)\n",
    "\n",
    "g2 = graph.Graph(8,.2,0,0)\n",
    "g2.makeVertices(250)\n",
    "g2.makebetterClusteredConnections(.05)\n",
    "\n",
    "network=nx.Graph()\n",
    "network.add_nodes_from(g.getVertices())\n",
    "\n",
    "network2=nx.Graph()\n",
    "network2.add_nodes_from(g2.getVertices())\n",
    "\n",
    "edgeLst = []\n",
    "for vert in g.getVertices():\n",
    "    connections = vert.getConnections()\n",
    "    for i in connections:\n",
    "        edgeLst.append([vert,i])\n",
    "network.add_edges_from(edgeLst)\n",
    "\n",
    "edgeLst2 = []\n",
    "for vert in g2.getVertices():\n",
    "    connections = vert.getConnections()\n",
    "    for i in connections:\n",
    "        edgeLst2.append([vert,i])\n",
    "network2.add_edges_from(edgeLst2)\n",
    "\n",
    "                        \n",
    "#nx.draw_networkx(network,node_size = 100,node_color=\"red\")\n",
    "#nx.draw_networkx(network2,node_size = 100,node_color=\"lightblue\")"
   ]
  },
  {
   "cell_type": "code",
   "execution_count": 5,
   "metadata": {
    "collapsed": false
   },
   "outputs": [
    {
     "data": {
      "text/plain": [
       "NoneType"
      ]
     },
     "execution_count": 5,
     "metadata": {},
     "output_type": "execute_result"
    },
    {
     "data": {
      "image/png": "[encoded data removed]",
      "text/plain": [
       "<matplotlib.figure.Figure at 0x27033d0>"
      ]
     },
     "metadata": {},
     "output_type": "display_data"
    }
   ],
   "source": [
    "type(nx.draw_networkx(network2,node_size = 100,node_color=\"lightblue\"))"
   ]
  },
  {
   "cell_type": "markdown",
   "metadata": {},
   "source": [
    "##### Triangles"
   ]
  },
  {
   "cell_type": "code",
   "execution_count": 6,
   "metadata": {
    "collapsed": false
   },
   "outputs": [
    {
     "name": "stdout",
     "output_type": "stream",
     "text": [
      "(6906, 697545)\n"
     ]
    }
   ],
   "source": [
    "def sumTriangles(dic1):\n",
    "    acc1 = 0\n",
    "    for val in dic1.values():\n",
    "        acc1 += val\n",
    "    return acc1\n",
    "        \n",
    "dic1 = nx.triangles(network)\n",
    "dic2 = nx.triangles(network2)\n",
    "\n",
    "acc1 = sumTriangles(dic1)\n",
    "acc2 = sumTriangles(dic2)\n",
    "\n",
    "print(acc1,acc2)"
   ]
  },
  {
   "cell_type": "markdown",
   "metadata": {},
   "source": [
    "##### Transitivity "
   ]
  },
  {
   "cell_type": "code",
   "execution_count": 7,
   "metadata": {
    "collapsed": false
   },
   "outputs": [
    {
     "name": "stdout",
     "output_type": "stream",
     "text": [
      "0.0944759090536\n",
      "0.533286391868\n"
     ]
    }
   ],
   "source": [
    "print(nx.transitivity(network))\n",
    "print(nx.transitivity(network2))"
   ]
  },
  {
   "cell_type": "markdown",
   "metadata": {},
   "source": [
    "#####Clustering Coefficient"
   ]
  },
  {
   "cell_type": "code",
   "execution_count": 8,
   "metadata": {
    "collapsed": false
   },
   "outputs": [
    {
     "name": "stdout",
     "output_type": "stream",
     "text": [
      "0.0942422629197\n",
      "0.686449326614\n"
     ]
    }
   ],
   "source": [
    "print(nx.average_clustering(network))\n",
    "print(nx.average_clustering(network2))"
   ]
  },
  {
   "cell_type": "code",
   "execution_count": 9,
   "metadata": {
    "collapsed": false
   },
   "outputs": [],
   "source": [
    "def colorNodes(graph):\n",
    "    colorLst = []\n",
    "    for i in graph.getVertices():\n",
    "        if i.getStatus() == \"I\":\n",
    "            colorLst.append(\"lightred\")\n",
    "        elif i.getStatus() == \"S\":\n",
    "            colorLst.append(\"lightblue\")\n",
    "        else:\n",
    "            colorLst.append(\"gray\")  #both R and V are gray\n",
    "    return colorLst\n"
   ]
  },
  {
   "cell_type": "code",
   "execution_count": 10,
   "metadata": {
    "collapsed": true
   },
   "outputs": [],
   "source": [
    "def makeNetwork(probOfConnection):\n",
    "    g = graph.Graph(8, .2, 0, 0)   #k,p,r,%infected,%vaccinated\n",
    "    g.makeVertices(250)\n",
    "    g.makeConnections(probOfConnection)\n",
    "\n",
    "    network=nx.Graph()\n",
    "    network.add_nodes_from(g.getVertices())\n",
    "\n",
    "    edgeLst = []\n",
    "    for vert in g.getVertices():\n",
    "        connections = vert.getConnections()\n",
    "        for i in connections:\n",
    "            edgeLst.append([vert,i])\n",
    "    network.add_edges_from(edgeLst)\n",
    "\n",
    "def makeClusteredNetwork(probOfConnection):\n",
    "    g = graph.Graph(8, .2, 0, 0)   #k,p,r,%infected,%vaccinated\n",
    "    g.makeVertices(250)\n",
    "    g.makebetterClusteredConnections(probOfConnection)\n",
    "\n",
    "    network=nx.Graph()\n",
    "    network.add_nodes_from(g.getVertices())\n",
    "\n",
    "    edgeLst = []\n",
    "    for vert in g.getVertices():\n",
    "        connections = vert.getConnections()\n",
    "        for i in connections:\n",
    "            edgeLst.append([vert,i])\n",
    "    network.add_edges_from(edgeLst)    "
   ]
  },
  {
   "cell_type": "code",
   "execution_count": null,
   "metadata": {
    "collapsed": true
   },
   "outputs": [],
   "source": []
  },
  {
   "cell_type": "code",
   "execution_count": 2,
   "metadata": {
    "collapsed": false
   },
   "outputs": [
    {
     "ename": "NameError",
     "evalue": "global name 'vertexclass' is not defined",
     "output_type": "error",
     "traceback": [
      "\u001b[1;31m---------------------------------------------------------------------------\u001b[0m",
      "\u001b[1;31mNameError\u001b[0m                                 Traceback (most recent call last)",
      "\u001b[1;32m<ipython-input-2-56b9bfb8c2a1>\u001b[0m in \u001b[0;36m<module>\u001b[1;34m()\u001b[0m\n\u001b[0;32m      1\u001b[0m \u001b[0mp\u001b[0m \u001b[1;33m=\u001b[0m \u001b[0mparams\u001b[0m\u001b[1;33m.\u001b[0m\u001b[0mParams\u001b[0m\u001b[1;33m(\u001b[0m\u001b[1;36m8\u001b[0m\u001b[1;33m,\u001b[0m\u001b[1;36m.2\u001b[0m\u001b[1;33m,\u001b[0m\u001b[1;36m20\u001b[0m\u001b[1;33m,\u001b[0m\u001b[1;36m.01\u001b[0m\u001b[1;33m,\u001b[0m\u001b[1;36m0\u001b[0m\u001b[1;33m)\u001b[0m\u001b[1;33m\u001b[0m\u001b[0m\n\u001b[0;32m      2\u001b[0m \u001b[0mg\u001b[0m \u001b[1;33m=\u001b[0m \u001b[0mgraph\u001b[0m\u001b[1;33m.\u001b[0m\u001b[0mGraph\u001b[0m\u001b[1;33m(\u001b[0m\u001b[0mp\u001b[0m\u001b[1;33m)\u001b[0m\u001b[1;33m\u001b[0m\u001b[0m\n\u001b[1;32m----> 3\u001b[1;33m \u001b[0mg\u001b[0m\u001b[1;33m.\u001b[0m\u001b[0mmakeVertices\u001b[0m\u001b[1;33m(\u001b[0m\u001b[1;33m)\u001b[0m\u001b[1;33m\u001b[0m\u001b[0m\n\u001b[0m",
      "\u001b[1;32m/home/students/doorjo01/research/summer2015/graph.py\u001b[0m in \u001b[0;36mmakeVertices\u001b[1;34m(self)\u001b[0m\n\u001b[0;32m     47\u001b[0m                 \u001b[0mlistofvaccinated\u001b[0m \u001b[1;33m=\u001b[0m \u001b[0mlistofvaccinated\u001b[0m \u001b[1;33m+\u001b[0m \u001b[1;33m[\u001b[0m\u001b[0mx\u001b[0m\u001b[1;33m]\u001b[0m\u001b[1;33m\u001b[0m\u001b[0m\n\u001b[0;32m     48\u001b[0m         \u001b[1;32mfor\u001b[0m \u001b[0mitem\u001b[0m \u001b[1;32min\u001b[0m \u001b[0mrange\u001b[0m\u001b[1;33m(\u001b[0m\u001b[1;36m0\u001b[0m\u001b[1;33m,\u001b[0m\u001b[0mself\u001b[0m\u001b[1;33m.\u001b[0m\u001b[0mnumVerts\u001b[0m\u001b[1;33m)\u001b[0m\u001b[1;33m:\u001b[0m\u001b[1;33m\u001b[0m\u001b[0m\n\u001b[1;32m---> 49\u001b[1;33m             \u001b[0mv\u001b[0m \u001b[1;33m=\u001b[0m \u001b[0mvertexclass\u001b[0m\u001b[1;33m.\u001b[0m\u001b[0mVertex\u001b[0m\u001b[1;33m(\u001b[0m\u001b[0mitem\u001b[0m\u001b[1;33m,\u001b[0m \u001b[0mdisease\u001b[0m\u001b[1;33m.\u001b[0m\u001b[0mDisease\u001b[0m\u001b[1;33m(\u001b[0m\u001b[0mself\u001b[0m\u001b[1;33m.\u001b[0m\u001b[0mk\u001b[0m\u001b[1;33m,\u001b[0m\u001b[0mself\u001b[0m\u001b[1;33m.\u001b[0m\u001b[0mp\u001b[0m\u001b[1;33m,\u001b[0m\u001b[0mself\u001b[0m\u001b[1;33m.\u001b[0m\u001b[0mr\u001b[0m\u001b[1;33m)\u001b[0m\u001b[1;33m)\u001b[0m\u001b[1;33m\u001b[0m\u001b[0m\n\u001b[0m\u001b[0;32m     50\u001b[0m             \u001b[0mself\u001b[0m\u001b[1;33m.\u001b[0m\u001b[0mvertices\u001b[0m \u001b[1;33m=\u001b[0m \u001b[0mself\u001b[0m\u001b[1;33m.\u001b[0m\u001b[0mvertices\u001b[0m \u001b[1;33m+\u001b[0m \u001b[1;33m[\u001b[0m\u001b[0mv\u001b[0m\u001b[1;33m]\u001b[0m\u001b[1;33m\u001b[0m\u001b[0m\n\u001b[0;32m     51\u001b[0m             \u001b[1;32mif\u001b[0m \u001b[0mv\u001b[0m\u001b[1;33m.\u001b[0m\u001b[0mgetId\u001b[0m\u001b[1;33m(\u001b[0m\u001b[1;33m)\u001b[0m \u001b[1;33m==\u001b[0m \u001b[0minfected\u001b[0m\u001b[1;33m:\u001b[0m\u001b[1;33m\u001b[0m\u001b[0m\n",
      "\u001b[1;31mNameError\u001b[0m: global name 'vertexclass' is not defined"
     ]
    }
   ],
   "source": []
  },
  {
   "cell_type": "code",
   "execution_count": 4,
   "metadata": {
    "collapsed": true
   },
   "outputs": [],
   "source": [
    "def makeRanges(dist,numColumns):\n",
    "    d = collections.OrderedDict(sorted(dist.items()))\n",
    "    res = {}\n",
    "    keys = d.keys()\n",
    "    \n",
    "    mini = keys[0]\n",
    "    maxi = keys[len(d)-1]\n",
    "    diff = maxi - mini\n",
    "    stepSize = diff/numColumns\n",
    "    currentRange = mini+stepSize\n",
    "    k = mini\n",
    "    acc = 0\n",
    "    for k,v in d.iteritems():         \n",
    "        if k < currentRange or eq(k,currentRange):\n",
    "            acc +=v\n",
    "            res[int(float(\"%.3f\" %(currentRange)))] = acc\n",
    "        elif k > currentRange:\n",
    "            res[int(float(\"%.3f\" %(currentRange)))] = acc\n",
    "            while k > currentRange or eq(k,currentRange):\n",
    "                \n",
    "                currentRange += stepSize\n",
    "                res[int(float(\"%.3f\" %(currentRange)))] = 0\n",
    "            acc = v\n",
    "        else:\n",
    "            print \"lost: \"+str((k,v))\n",
    "        \n",
    "    res[int(float(\"%.3f\" %(currentRange)))] = acc\n",
    "   \n",
    "    res= collections.OrderedDict(sorted(res.items()))\n",
    "    \n",
    "    if not eq(k,currentRange):\n",
    "        res.popitem()\n",
    "        temp = res.popitem()\n",
    "        lastRange = temp[0]\n",
    "        lastVal = temp[1]\n",
    "        \n",
    "        res[lastRange] =v + lastVal\n",
    "    print(len(res.keys()))\n",
    "    return res\n",
    "def eq( a, b, eps=0.000001 ):\n",
    "    return abs(a - b) <= eps"
   ]
  },
  {
   "cell_type": "code",
   "execution_count": 7,
   "metadata": {
    "collapsed": false
   },
   "outputs": [
    {
     "name": "stdout",
     "output_type": "stream",
     "text": [
      "[0.009166392698343342, 0.010336726232794018, 0.006652532637361189, 0.013840229103978594, 0.009717109630742288, 0.008933101260224414, 0.0047593398992516744, 0.008351985418561515, 0.008430962158940831, 0.014823307261118475, 0.010850885069529923, 0.00972119829382612, 0.010317030177413991, 0.01440588871795414, 0.006487125953336838, 0.009950113116374238, 0.011280979442284487, 0.007678746572493006, 0.009236436392019511, 0.010276523135871364, 0.0088819405753723, 0.008991289934163725, 0.013754023077334513, 0.008396002401663919, 0.014024230415093186, 0.012172742277165235, 0.00820722072646283, 0.009905811875906195, 0.006388622947553571, 0.004541896194104604, 0.01004135553956948, 0.009753675382494713, 0.010675991081969847, 0.00943622749138566, 0.00987786083872964, 0.014659215818047262, 0.013117774666418185, 0.01527550100758119, 0.01620887264725134, 0.008729263414763098, 0.010047382632424945, 0.01082847857490568, 0.006406889231485052, 0.011435064080052954, 0.009890845249451866, 0.011141031303066106, 0.005112029696304715, 0.004269587389492649, 0.007728892494214198, 0.01097885433075602, 0.009484383973206768, 0.009400838635630454, 0.010368297947241962, 0.008343963324587629, 0.01234808146943919, 0.009632474304886566, 0.010608530452537806, 0.008032135160984496, 0.004324375276432072, 0.007126536516865053, 0.015542203174643361, 0.012527616680861775, 0.00536821903675164, 0.011965606659326332, 0.01006854300302145, 0.008138825618337784, 0.007910884701323296, 0.009931087975309278, 0.008026452046585315, 0.007028421884496904, 0.011909064270828239, 0.013614564618742211, 0.013938331129544752, 0.008036260451706106, 0.008390659096517677, 0.012749075555944492, 0.010692055363482092, 0.007021014496466443, 0.013034846166190403, 0.011846078070329969, 0.006134108638799288, 0.008928968251170729, 0.01490384504833099, 0.008736983243488209, 0.005581561150233659, 0.016001647680532465, 0.00931818920260761, 0.009018839419184608, 0.012393073600468204, 0.010400706864065485, 0.007393892696720061, 0.01188928143502688, 0.01274230875475104, 0.007731873092334187, 0.014347991233386686, 0.009033558977732272, 0.006469683642334644, 0.010223733119155419, 0.0063705441271453365, 0.00959374957858878, 0.010101080755272843, 0.011535282104252972, 0.00801065628051106, 0.011403681280745967, 0.007526326749929913, 0.009536507457533686, 0.009582627464273217, 0.01158111696071442, 0.006970433528923761, 0.006384189510413894, 0.010889366573674229, 0.012832770225571354, 0.010566952092413465, 0.006781809352010371, 0.01088506128749968, 0.01539935099923459, 0.010160925842995756, 0.010324410497162704, 0.006846075465883841, 0.011706355835638322, 0.010355852228738279, 0.009092665431485451, 0.006849011404231221, 0.01143095750248281, 0.005000368615216983, 0.013351094156372416, 0.00917652571754978, 0.007296158225498903, 0.009998239569969944, 0.008091010253211989, 0.009592854404977893, 0.014753375052440534, 0.004902628334533958, 0.00815463125870731, 0.007870356497357414, 0.006010225605985588, 0.010531789544164075, 0.004904521147898761, 0.0141242019398025, 0.01249164735182304, 0.007945414325367637, 0.005617808342913556, 0.005272675519778029, 0.01152248361013135, 0.0113453093876428, 0.011099553141308716, 0.011498271015543004, 0.008117304287904229, 0.006819684546947319, 0.010634806094821845, 0.011475765075855175, 0.004676181635230919, 0.005680905291873462, 0.009054786387001239, 0.010113618089298053, 0.010340449411175325, 0.013230191335416731, 0.01085721302274779, 0.012196157225730373, 0.011567279041423826, 0.008452997177146591, 0.011424091294043752, 0.004142860162058424, 0.007175963733397248, 0.010808076269154289, 0.007225711769735008, 0.007096469549179182, 0.005122079406669237, 0.005993206839940527, 0.010041103600664127, 0.006887681326348916, 0.010328831779539662, 0.00793497891738193, 0.009779834772776637, 0.012280355562253813, 0.008706816043019878, 0.009513282122770502, 0.00625669019784135, 0.005579905939225554, 0.008779502999686179, 0.015919950681945332, 0.0075325727492288955, 0.007578947521847985, 0.012709456955226062, 0.01252128306210613, 0.008756257565839504, 0.009872691147588016, 0.00990035040537418, 0.01186897384169944, 0.0057265797261192315, 0.008765123324696472, 0.01099035664625867, 0.011146320542684593, 0.013824811310757044, 0.00719547460076889, 0.008553041943395165, 0.00992899863454564, 0.011076092288796656, 0.008581748257040656, 0.011547851502747269, 0.006890537103033308, 0.000828365524193261, 0.009424946399981829, 0.010144816381058394, 0.014598690758013162, 0.010642587045904027, 0.010777143001306956, 0.008284224981176608, 0.00492881463892138, 0.006848672698466439, 0.01009284180378962, 0.011783818208089119, 0.009061413596974904, 0.008568261649657384, 0.01101763170431045, 0.013306267013545401, 0.00985892047780641, 0.01249792916041048, 0.004696300413764676, 0.00980722425481814, 0.009907981688928686, 0.011172831376666364, 0.00945567561402371, 0.011071439488104387, 0.009772540541988877, 0.011029252910928912, 0.009090571462575225, 0.007309699921128322, 0.010387446682523348, 0.010355846571685503, 0.015691127110718555, 0.010499162106476962, 0.012020834667600086, 0.009884416758174664, 0.008832819608214094, 0.008087822326464749, 0.007549483853317815, 0.0030652171999910284, 0.01138795781385487, 0.012783120987229196, 0.009120649109466278, 0.011610982878297971, 0.014607598660540965, 0.00928020597716493, 0.0072283216655298224, 0.008259365446461109, 0.011540701221662626, 0.010244128722446273, 0.0083760908015439, 0.011600023343937366, 0.010675838698540668, 0.006785828036351344, 0.008192700321767478, 0.008904986287769036, 0.011019422556626524, 0.010525150038494845, 0.010189654222064092, 0.0098224115141281, 0.009711066085583968, 0.010385697541185528, 0.007306055465710587, 0.014068369153277551, 0.0139688927808382, 0.008045304124098922, 0.010732812931214822, 0.010390775505200706, 0.012714865551304001, 0.010790408621124183, 0.009417422825290442, 0.005705718606799757, 0.014988449711392146, 0.006109346861630114, 0.014670537133373239, 0.015059879042622428, 0.008366353510473157, 0.009867653377113901, 0.008534155389021443, 0.010364526415154823, 0.01030489337179379, 0.010636439640130205, 0.010910889563710552, 0.00628531715683911, 0.0043064017095114, 0.010799726934395848, 0.0039427505996412525, 0.007384889441513315, 0.011223693744054698, 0.007939890194917556, 0.009437379479901614, 0.005964433492284392, 0.008957396044762608, 0.005502801297412433, 0.015285232208071951, 0.008491039022863422, 0.011908972673748738, 0.008705234768557358, 0.007688097366199459, 0.011135752479116596, 0.013379450869917653, 0.006157882321612039, 0.009668717795148144, 0.012016037200643877, 0.009681014535180223, 0.010420874890788362, 0.007220976716623119, 0.008578688419884312, 0.015976192605445822, 0.009416851458275173, 0.014677819341239667, 0.012909287499284978, 0.010099767361602108, 0.014609277190019069, 0.009043547841439814, 0.007689437436006445, 0.004615916651567271, 0.009904778230008862, 0.010261902102576303, 0.00472214993350387, 0.009918462922875544, 0.011239622240071839, 0.009060784044989997, 0.008216675498701746, 0.011312905105988782, 0.01186011592027072, 0.00860251069339565, 0.006593622279034536, 0.009800045783554966, 0.011632295943017838, 0.007504595089151245, 0.013068609262869312, 0.015662742035441154, 0.009208394437261213, 0.011965904044290775, 0.013226315977225938, 0.010974436368566858, 0.009022251380033364, 0.0068441808891022676, 0.012240238751731587, 0.008437156422393182, 0.008161126595111722, 0.01076496672994245, 0.007515861081420362, 0.005478785477602542, 0.010934196586704106, 0.014613639820935624, 0.014673057139849, 0.005934405824717466, 0.010294448782607983, 0.005886791363680386, 0.008593505581277748, 0.00586828215853429, 0.011254830825318515, 0.010146274424129836, 0.011212394477514676, 0.01154574739199497, 0.00639709579132005, 0.009204289233977843, 0.01123816754329106, 0.008711717688674316, 0.00487713492439869, 0.010701255216984715, 0.009834927636462529, 0.00435745117916222, 0.010611461470368448, 0.01153106452757701, 0.010349325611134212, 0.014512096000452092, 0.0020551846088356866, 0.009584241646737135, 0.01288834590312657, 0.010384405472750864, 0.004253183696087796, 0.006589989384801311, 0.008992868702532257, 0.00743084264117928, 0.00761636629236756, 0.017325152196331763, 0.009980862905868389, 0.00726406401604897, 0.013216155876807415, 0.00936288287849308, 0.010221729020393555, 0.00830864629384258, 0.007157529700992329, 0.012246682465019566, 0.007667036367476917, 0.008134413832478898, 0.011750935477409482, 0.011468499193662144, 0.010139310944095172, 0.01408264956682393, 0.007077025760444286, 0.010433875622081038, 0.01127581741582771, 0.009995176576377583, 0.014600851155595188, 0.006414348935615797, 0.01056027684670694, 0.006820489007676962, 0.014945799487145719, 0.009320582192502553, 0.012052074262005677, 0.007247156013944751, 0.015759354322389278, 0.011463277691585555, 0.008588829519892215, 0.010879983065270044, 0.008581610399072792, 0.007804280201410585, 0.01098371156157373, 0.012024991362256125, 0.009321624705890444, 0.00877774534927509, 0.010883648316974272, 0.012260749492060422, 0.006363768785824998, 0.005612515333247395, 0.0055602395620489185, 0.011457136484870315, 0.009812717984690232, 0.007574654902095719, 0.009177014032489468, 0.0076116670687096325, 0.008038307553025209, 0.01112454058834107, 0.016976624015212015, 0.01003273597792846, 0.0122820356383629, 0.012348726573006653, 0.010552888061192277, 0.011991488111230134, 0.009278009181339785, 0.008101147786987515, 0.013957654619528219, 0.008921963569005348, 0.011164324245975094, 0.009952796844393933, 0.007967520215412888, 0.005287884051087347, 0.013360782964996057, 0.009777199212858292, 0.013173248139082164, 0.012919867325977333, 0.010366239258964875, 0.0130837170778865, 0.005639610684014833, 0.009601401221755141, 0.01111774744887754, 0.006492363634888438, 0.009614561152135624, 0.009523621520894752, 0.008997965176612523, 0.004610593104139844, 0.006718889118552961, 0.01102683330113536, 0.015453351559283027, 0.015963646809399233, 0.014234334088922827, 0.01040984779786463, 0.009586775745857022, 0.010378795892944466, 0.011268274934666174, 0.011185956759133019, 0.005305542447055828, 0.009003284168997313, 0.010205717932075241, 0.009689732170271295, 0.012439242572520721, 0.014417039200088088, 0.010894374206703585, 0.008989550721159518, 0.008581422628565948, 0.0108143116193505, 0.01086220872683697, 0.00844430711705185, 0.010929882304487146, 0.009449430046040926, 0.01025833895691589, 0.007888099366779611, 0.011819103334021568, 0.008351811394531646, 0.010520397941491991, 0.009412448091741445, 0.012143307713769548, 0.004965715067750933, 0.009906141567009193, 0.012447583734131129, 0.01440428479293488, 0.012220094047209673, 0.005567453860509717, 0.012579698484199386, 0.012937309655185783, 0.009844003801745212, 0.0059604789068732535, 0.011388882291544179, 0.009299179769309412, 0.009956037377201883, 0.013473202760777207, 0.005140415697981229, 0.008498452569668693, 0.008396629674954853, 0.011148671892353657, 0.004526492652506178, 0.007186136040990276, 0.009406577417521711, 0.009694438210375928, 0.007125265861590801, 0.013303458799149522, 0.007949046387591648, 0.007807914583123243, 0.00930073168299075, 0.0098647687825215, 0.010885579347786082, 0.00889045411180107, 0.01175071239573387, 0.012117930035885849, 0.009813827640445002, 0.0119502944627107, 0.012449520658569864, 0.006964231579532087, 0.007623233630805623, 0.006231828713937498, 0.005920292525959936, 0.010311024344136827, 0.007679961103464239, 0.008268080872931858, 0.011164281636465446, 0.00798275159504127, 0.008134519861973435, 0.011202629553882258, 0.009886931732017707, 0.010454268190077465, 0.014547561762505342, 0.010013638328557594, 0.014373097062452276, 0.009582715576773837, 0.012898513422347383, 0.0064840324422347105, 0.008987578573963522, 0.00941782709583131, 0.005653967779207145, 0.012596639081414264, 0.009667157101232667, 0.0119709273702872, 0.011406074975336859, 0.011557805461296172, 0.009251116681357065, 0.009349790356124552, 0.006953367808474729, 0.012217649195312553, 0.011685259069187458, 0.005175801945362272, 0.011895956853893639, 0.010957495212134304, 0.012792012091266207, 0.00941399694147834, 0.009166042716172442, 0.006364432623364951, 0.015047230862696362, 0.010890946868487277, 0.01329557147229872, 0.011704879226856743, 0.013113315522971259, 0.013335396962953503, 0.010978828959093478, 0.00812734459794231, 0.007408742226472682, 0.00793200232494205, 0.009699249083154152, 0.0007754617457507284, 0.016850652665441918, 0.009463662763639287, 0.012687386285787496, 0.01016050111053763, 0.009443998248780843, 0.01044101739808787, 0.007741158982455854, 0.013882979064851926, 0.011444481623267663, 0.009997732651199312, 0.008270213841239927, 0.010631641339980964, 0.013198292345380504, 0.01143628454888292, 0.008494174515668978, 0.01007732714703408, 0.006847994138925989, 0.01056684786649794, 0.015738415123621494, 0.009881816407332189, 0.009844656434830793, 0.010861101635064716, 0.006556084975829922, 0.004474330645126586, 0.007286833693391862, 0.01154906846353522, 0.012367201228503627, 0.015524858388300422, 0.006162777958560227, 0.004311402893089078, 0.011038305916572897, 0.005874795051673444, 0.004533999150266789, 0.012289185500735638, 0.007884783347019295, 0.013550276919517348, 0.014547332262154006, 0.01059351636898835, 0.00875432207051399, 0.009955243128772669, 0.01022835913068008, 0.0068586102865027705, 0.011441140308871193, 0.0048462250469433225, 0.008195873221715881, 0.008534154198600787, 0.009172993245506557, 0.012300764987361608, 0.0069153622652993844, 0.00748123975530002, 0.006328126059122462, 0.010571640187472057, 0.01519861550050191, 0.008249942452578153, 0.01195821656414522, 0.0037832986371458804, 0.004856790283497129, 0.012914406635019065, 0.013408370500452106, 0.007345354057214912, 0.01349371959048061, 0.01092190735664263, 0.008493893015366846, 0.009351599461780538, 0.006608479464066456, 0.007488741228707358, 0.007406708953516363, 0.0077515617957386405, 0.011836827536897156, 0.01314152682872501, 0.00978226959199505, 0.00933807805895678, 0.01337104702525045, 0.011229625795288984, 0.008567124276508117, 0.012056891056836563, 0.012412756959156982, 0.008866340450237025, 0.006427744592374343, 0.009163494087487891, 0.011249467145749986, 0.005599694686506472, 0.012057554093715209, 0.009589853621663256, 0.0180156878728713, 0.010411683211661495, 0.012460968185177317, 0.00797812141185846, 0.010045218789194227, 0.008067965867825724, 0.013168519316806659, 0.008004991114094997, 0.0015978105076764042, 0.013234258406842357, 0.00975078757911228, 0.012279154999607873, 0.009757690214607718, 0.006478970314413973, 0.009480821853217946, 0.005746814537689425, 0.009347605262000028, 0.009426971316174112, 0.010027814608191549, 0.009789736202688385, 0.010727307646856615, 0.006196999880534481, 0.009667359246224399, 0.0012249157131592418, 0.014282793882509371, 0.01023129975459059, 0.011805926617629225, 0.010692417759804049, 0.010572287328034868, 0.011081344125957033, 0.006370615852200637, 0.009013531018026755, 0.009424936973544962, 0.00868569714348856, 0.008308039339246256, 0.009821087367993095, 0.006751395759093786, 0.008279050645911213, 0.009424334063678347, 0.012535799383877598, 0.0148970914978101, 0.01273305368124836, 0.012792916384058035, 0.010548896962914561, 0.011456504472140574, 0.012187000571401256, 0.008731291726280937, 0.012644607409970579, 0.014967321371860966, 0.007973030621860526, 0.005590072624596925, 0.004668102774218801, 0.007684139019777304, 0.01042011917534318, 0.012031970466346907, 0.00955111433641714, 0.007415653684258356, 0.010960961601912962, 0.0121862898993219, 0.010719660440920762, 0.018939661497237283, 0.010081361102158962, 0.005771193504874583, 0.00861230676331636, 0.016599906603077846, 0.0013472246077744741, 0.009231678154689608, 0.005865486435152354, 0.006259324428728138, 0.00875717151513626, 0.0104688946606019, 0.013532097916123328, 0.005728692311881419, 0.011325147584465386, 0.009531216022360085, 0.006043685463713428, 0.007151573842832639, 0.010543290567616473, 0.01240616368265576, 0.011901430906903494, 0.006285728727230008, 0.010362635388998193, 0.012177479275399897, 0.012403562966035744, 0.008131577062759862, 0.008133440443843721, 0.013488049280707088, 0.007331535325263254, 0.013849026191964223, 0.006084611892302974, 0.007579112874030172, 0.009787816317775994, 0.008489763327809903, 0.006888284402069839, 0.011354954811230535, 0.007779108257573929, 0.006469862247292119, 0.0078023862739650465, 0.01066068976021478, 0.008664794276726692, 0.011285378192149744, 0.012761827171163505, 0.010224656164138146, 0.01013376180605053, 0.006483853194509036, 0.003632247675823666, 0.011331891736116958, 0.010194047480224221, 0.015768656633638665, 0.010160246736255488, 0.013126144631739651, 0.01215083766414403, 0.009954634954441658, 0.008807894790106737, 0.009397213007988542, 0.00764709650623034, 0.009091207023588082, 0.008372878512909038, 0.008854436707684722, 0.008559753854199142, 0.008220960593423587, 0.009380049304748794, 0.010707821126356614, 0.015190779993705982, 0.012816870410858036, 0.013269903094903597, 0.008390806629438263, 0.011860717495537985, 0.007813377570494023, 0.007810579542905084, 0.00708491818533472, 0.007231519793620115, 0.011067337560894631, 0.011799691007134263, 0.008857508841672182, 0.008393814985845953, 0.005308240565136485, 0.0159522774769316, 0.009388513404608074, 0.010829003881716865, 0.008216950020576836, 0.009484574102648366, 0.007813116825290688, 0.008297509102743485, 0.010894720623180146, 0.00869095966829021, 0.01062674280812241, 0.008208415227492709, 0.006289109457640444, 0.011970877918322992, 0.012494715754063562, 0.007356546842787328, 0.010322975036950456, 0.008936157526697693, 0.005229646823802478, 0.006905309967985529, 0.004542230115458904, 0.007993865568248826, 0.009030944745400976, 0.013335866698341713, 0.006831209113373135, 0.007643821728100942, 0.016371714593830095, 0.011086202313400283, 0.014000839480453962, 0.009943641667861972, 0.012103857394732522, 0.009647123528424275, 0.012076525970262007, 0.012122172683533113, 0.00790245267865301, 0.012544156943181468, 0.012731496108888976, 0.010423792544203612, 0.008349500795999755, 0.010658756199105158, 0.011984525082406184, 0.013910801025885622, 0.00895436889392551, 0.010982764508138048, 0.008172337719976736, 0.010363960069968859, 0.014621469550210448, 0.009626137071687786, 0.01058297656031196, 0.009078735994687661, 0.013390354518900697, 0.007231054813580794, 0.011019313821620039, 0.010796112889778362, 0.008660738141746525, 0.006836907085896985, 0.01058154063813492, 0.0052583108940152355, 0.011667962308262381, 0.012323704197871778, 0.003064347730991984, 0.00804081438028269, 0.0031220461275596814, 0.005338086267362459, 0.007825813847612, 0.010300226214459475, 0.00728222924313298, 0.011256431013526663, 0.009842377585182778, 0.014649988132789168, 0.009873815656542434, 0.008609693563796324, 0.008205823730371811, 0.013153631277528157, 0.007691422450314331, 0.01069805029978574, 0.012316666135903615, 0.015550918811350584, 0.01035947498220454, 0.014829918370469566, 0.010721771134526355, 0.011981229995442546, 0.011314933381106626, 0.010519893254398805, 0.005954319795790064, 0.008377006178050211, 0.007825110966358148, 0.013201098782378344, 0.009743987845228655, 0.009980703247886753, 0.009874088827706266, 0.006081767595068032, 0.010080867826486773, 0.012035211606508904, 0.007613206511514894, 0.009310520465249293, 0.01571629287604567, 0.007597840502357268, 0.008504078791899888, 0.010352648644824061, 0.008388320971185841, 0.010201768516721426, 0.008862023129506959, 0.0057662974280443605, 0.008559477049121305, 0.008758973429569505, 0.01285109119077996, 0.013980696861483639, 0.014000327003818811, 0.008536869063052618, 0.010890998916140338, 0.007600100023446053, 0.013194023065183087, 0.005617104527458195, 0.008709153451755465, 0.007505494224694768, 0.009644217461433235, 0.007314738483152632, 0.010193963688652932, 0.008275653131538085, 0.009571581406772334, 0.009813244038757588, 0.00997682492767429, 0.014970678152495465, 0.013702899888160702, 0.006851374544805679, 0.01172147491412677, 0.009931245291234393, 0.007442286584436554, 0.0075043358569570565, 0.009268954315360707, 0.00689604453855653, 0.010280022080130886, 0.00920790732916834, 0.00869795953525377, 0.010251786265581365, 0.00985673387112589, 0.009041678713104873, 0.012436680685543614, 0.010916224790744757, 0.005297423331122624, 0.01108532136511711, 0.008660317846284502, 0.008696288796673307, 0.005541142041078778, 0.012508908256966845, 0.011931317019826828, 0.013215925257462357, 0.005619487317420124, 0.013791817483936493, 0.011126483483078795, 0.00992901492052919, 0.012366534408424326, 0.010815165722551638, 0.011384650497840394, 0.014335479802095142, 0.010895078524051208, 0.006242436096722372, 0.01012142349789953, 0.010316684030543317, 0.008719638196978645, 0.009453409086592514, 0.010499014322057559, 0.015112363197699307]\n",
      "30\n",
      "OrderedDict([(3, 0), (10, 0), (17, 0), (24, 0), (31, 3), (38, 4), (45, 8), (52, 23), (59, 36), (66, 42), (73, 46), (80, 67), (87, 60), (94, 80), (101, 80), (108, 77), (115, 76), (122, 51), (129, 61), (136, 43), (143, 39), (150, 21), (157, 15), (164, 9), (171, 1), (178, 1), (185, 2), (192, 0), (199, 0), (206, 0)])\n"
     ]
    },
    {
     "data": {
      "text/plain": [
       "<matplotlib.axes.AxesSubplot at 0x4fba110>"
      ]
     },
     "execution_count": 7,
     "metadata": {},
     "output_type": "execute_result"
    }
   ],
   "source": [
    "lst =[e.getWeight() for e in edges]\n",
    "print(lst)\n",
    "dct = {}\n",
    "for i in range(1000):\n",
    "    lst.append(int(1000*np.random.normal(.1,.1/3)))\n",
    "for i in lst:\n",
    "    if i in dct:\n",
    "        dct[i]+=1\n",
    "    else:\n",
    "        dct[i]=0\n",
    "newD = makeRanges(dct,30)\n",
    "print(newD)\n",
    "df = pd.DataFrame.from_dict(newD,orient=\"index\")\n",
    "#print(df)\n",
    "df.plot(kind=\"bar\")"
   ]
  },
  {
   "cell_type": "code",
   "execution_count": null,
   "metadata": {
    "collapsed": true
   },
   "outputs": [],
   "source": []
  },
  {
   "cell_type": "code",
   "execution_count": null,
   "metadata": {
    "collapsed": true
   },
   "outputs": [],
   "source": []
  }
 ],
 "metadata": {
  "kernelspec": {
   "display_name": "Python 2",
   "language": "python",
   "name": "python2"
  },
  "language_info": {
   "codemirror_mode": {
    "name": "ipython",
    "version": 2
   },
   "file_extension": ".py",
   "mimetype": "text/x-python",
   "name": "python",
   "nbconvert_exporter": "python",
   "pygments_lexer": "ipython2",
   "version": "2.7.5+"
  }
 },
 "nbformat": 4,
 "nbformat_minor": 0
}
